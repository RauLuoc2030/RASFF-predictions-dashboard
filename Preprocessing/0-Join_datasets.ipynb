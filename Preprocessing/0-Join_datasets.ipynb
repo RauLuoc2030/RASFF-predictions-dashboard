{
 "cells": [
  {
   "cell_type": "code",
   "execution_count": 1,
   "metadata": {},
   "outputs": [],
   "source": [
    "import numpy as np\n",
    "import pandas as pd"
   ]
  },
  {
   "cell_type": "code",
   "execution_count": null,
   "metadata": {},
   "outputs": [],
   "source": [
    "data = pd.read_csv('D:/Visual Studio Code/HK 6/Data Mining/RASFF-predictions-dashboard/Copia csvs antiguos/full_RASFF_DATA_16092019.csv', sep=';', \n",
    "                   header=0, index_col = 0)\n",
    "df1 = data"
   ]
  },
  {
   "cell_type": "code",
   "execution_count": null,
   "metadata": {},
   "outputs": [],
   "source": [
    "data = pd.read_csv('D:/Visual Studio Code/HK 6/Data Mining/RASFF-predictions-dashboard/Copia csvs antiguos/RASFF_DATA_from_13-09-2019_fixed_2.csv', sep=';', \n",
    "                   header=0, index_col = 0)\n",
    "df2 = data"
   ]
  },
  {
   "cell_type": "code",
   "execution_count": null,
   "metadata": {},
   "outputs": [],
   "source": [
    "data = pd.read_csv('D:/Visual Studio Code/HK 6/Data Mining/RASFF-predictions-dashboard/Copia csvs antiguos/RASFF_DATA_from_13-09-2019_fixed_4.csv', sep=';', \n",
    "                   header=0, index_col = 0)\n",
    "df3 = data"
   ]
  },
  {
   "cell_type": "code",
   "execution_count": 5,
   "metadata": {},
   "outputs": [],
   "source": [
    "df4 = pd.concat([df1,df2,df3])"
   ]
  },
  {
   "cell_type": "code",
   "execution_count": 8,
   "metadata": {},
   "outputs": [],
   "source": [
    "df4 = df4.drop_duplicates(subset='REF')\n",
    "df4['DATE_CASE'] =pd.to_datetime(df4.DATE_CASE, dayfirst=True, format = '%d/%m/%Y')\n",
    "df4= df4.sort_values(by='DATE_CASE',ascending=False)\n",
    "df4 = df4.reset_index(drop = True)\n",
    "df4 = df4.rename(columns={\"COUNT_ORIGEN\": \"ORIG_COUNTRY\", \"COUNT_DESTIN\": \"DESTIN_COUNTRY\", \"COUNT_CONCERN\": \"CONCERN_COUNTRY\"})\n",
    "df4 = df4[df4.CLASSIF != ' ']"
   ]
  },
  {
   "cell_type": "code",
   "execution_count": 81,
   "metadata": {},
   "outputs": [],
   "source": [
    "df4.to_csv('full_RASFF_DATA_20072020.csv', sep=';')"
   ]
  }
 ],
 "metadata": {
  "kernelspec": {
   "display_name": "Python 3",
   "language": "python",
   "name": "python3"
  },
  "language_info": {
   "codemirror_mode": {
    "name": "ipython",
    "version": 3
   },
   "file_extension": ".py",
   "mimetype": "text/x-python",
   "name": "python",
   "nbconvert_exporter": "python",
   "pygments_lexer": "ipython3",
   "version": "3.6.8"
  },
  "toc": {
   "base_numbering": 1,
   "nav_menu": {},
   "number_sections": true,
   "sideBar": true,
   "skip_h1_title": true,
   "title_cell": "Table of Contents",
   "title_sidebar": "Contents",
   "toc_cell": false,
   "toc_position": {},
   "toc_section_display": true,
   "toc_window_display": false
  }
 },
 "nbformat": 4,
 "nbformat_minor": 4
}
