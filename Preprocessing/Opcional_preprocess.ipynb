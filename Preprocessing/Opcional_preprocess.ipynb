{
 "cells": [
  {
   "cell_type": "code",
   "execution_count": 2,
   "metadata": {
    "ExecuteTime": {
     "end_time": "2019-03-14T13:59:02.047094Z",
     "start_time": "2019-03-14T13:59:01.776559Z"
    }
   },
   "outputs": [],
   "source": [
    "import numpy as np\n",
    "import pandas as pd"
   ]
  },
  {
   "cell_type": "code",
   "execution_count": 3,
   "metadata": {
    "ExecuteTime": {
     "end_time": "2019-03-14T13:59:02.288448Z",
     "start_time": "2019-03-14T13:59:02.272491Z"
    }
   },
   "outputs": [],
   "source": [
    "data = pd.read_csv('D:/Visual Studio Code/HK 6/Data Mining/RASFF-predictions-dashboard/Copia csvs antiguos/splited_alerts_strings2019.csv', sep=';', \n",
    "                header=0, index_col = 0)\n",
    "data1=data"
   ]
  },
  {
   "cell_type": "code",
   "execution_count": 151,
   "metadata": {
    "ExecuteTime": {
     "end_time": "2019-03-14T13:27:42.311514Z",
     "start_time": "2019-03-14T13:27:42.258659Z"
    }
   },
   "outputs": [],
   "source": [
    "data1.drop(data1.loc[data1['PROD_CAT']== 'animal_by-products_-_(obsolete)'].index, inplace=True)\n",
    "data1.drop(data1.loc[data1['PROD_CAT']== 'animal_nutrition_-_(obsolete)'].index, inplace=True)"
   ]
  },
  {
   "cell_type": "code",
   "execution_count": 153,
   "metadata": {
    "ExecuteTime": {
     "end_time": "2019-03-14T13:27:46.238845Z",
     "start_time": "2019-03-14T13:27:46.114800Z"
    }
   },
   "outputs": [],
   "source": [
    "data1.replace('molluscs_and_products_thereof_-_(obsolete)','bivalve_molluscs_and_products_thereof',inplace = True)\n",
    "data1.replace('feed_for_food-producing_animals_-_(obsolete)','feed_materials',inplace = True)"
   ]
  },
  {
   "cell_type": "code",
   "execution_count": 86,
   "metadata": {
    "ExecuteTime": {
     "end_time": "2019-03-14T11:48:54.421798Z",
     "start_time": "2019-03-14T11:48:54.406835Z"
    },
    "scrolled": true
   },
   "outputs": [
    {
     "name": "stdout",
     "output_type": "stream",
     "text": [
      "PROD_CAT\n",
      "wine                                                    73\n",
      "gastropods                                              75\n",
      "water_for_human_consumption_(other)                    110\n",
      "natural_mineral_water                                  175\n",
      "ices_and_desserts                                      292\n",
      "feed_premixtures                                       423\n",
      "alcoholic_beverages                                    458\n",
      "honey_and_royal_jelly                                  641\n",
      "cephalopods_and_products_thereof                       788\n",
      "food_additives_and_flavourings                         820\n",
      "compound_feeds                                         920\n",
      "non-alcoholic_beverages                               1123\n",
      "pet_food                                              1217\n",
      "feed_additives                                        1317\n",
      "eggs_and_egg_products                                 1439\n",
      "fats_and_oils                                         1648\n",
      "other_food_product_/_mixed                            1838\n",
      "soups,_broths,_sauces_and_condiments                  2199\n",
      "prepared_dishes_and_snacks                            2356\n",
      "confectionery                                         2571\n",
      "bivalve_molluscs_and_products_thereof                 2610\n",
      "crustaceans_and_products_thereof                      2627\n",
      "cocoa_and_cocoa_preparations,_coffee_and_tea          2979\n",
      "milk_and_milk_products                                3338\n",
      "feed_materials                                        4616\n",
      "poultry_meat_and_poultry_meat_products                4617\n",
      "cereals_and_bakery_products                           6539\n",
      "meat_and_meat_products_(other_than_poultry)           6687\n",
      "herbs_and_spices                                      7341\n",
      "food_contact_materials                               10119\n",
      "fish_and_fish_products                               11351\n",
      "nuts,_nut_products_and_seeds                         14100\n",
      "dietetic_foods,_food_supplements,_fortified_foods    15923\n",
      "fruits_and_vegetables                                17436\n",
      "dtype: int64\n",
      "130766\n",
      "34\n"
     ]
    }
   ],
   "source": [
    "datag = data1.groupby('PROD_CAT').size().sort_values(ascending=True)\n",
    "print(datag)\n",
    "print(sum(datag))\n",
    "print(len(datag))"
   ]
  },
  {
   "cell_type": "code",
   "execution_count": 87,
   "metadata": {
    "ExecuteTime": {
     "end_time": "2019-03-14T11:51:34.179815Z",
     "start_time": "2019-03-14T11:51:34.166850Z"
    },
    "scrolled": true
   },
   "outputs": [
    {
     "name": "stdout",
     "output_type": "stream",
     "text": [
      "NOT_COUNTRY\n",
      "Iceland                   93\n",
      "Croatia                  265\n",
      "Romania                  294\n",
      "Malta                    489\n",
      "Latvia                   626\n",
      "Portugal                 658\n",
      "Estonia                  676\n",
      "Commission_Services      692\n",
      "Luxembourg               743\n",
      "Hungary                  884\n",
      "Switzerland             1122\n",
      "Bulgaria                1345\n",
      "Cyprus                  1392\n",
      "Slovakia                1588\n",
      "Ireland                 1869\n",
      "Norway                  1952\n",
      "Slovenia                2184\n",
      "Lithuania               2330\n",
      "Greece                  2886\n",
      "Sweden                  3332\n",
      "Czech_Republic          3454\n",
      "Austria                 3556\n",
      "Finland                 4128\n",
      "Denmark                 4529\n",
      "Poland                  5621\n",
      "Spain                   5645\n",
      "Belgium                 8340\n",
      "France                  8947\n",
      "United_Kingdom         11037\n",
      "Netherlands            13096\n",
      "Italy                  14151\n",
      "Germany                22842\n",
      "dtype: int64\n",
      "130766\n",
      "32\n"
     ]
    }
   ],
   "source": [
    "datag = data1.groupby('NOT_COUNTRY').size().sort_values(ascending=True)\n",
    "print(datag)\n",
    "print(sum(datag))\n",
    "print(len(datag))"
   ]
  },
  {
   "cell_type": "code",
   "execution_count": 88,
   "metadata": {
    "ExecuteTime": {
     "end_time": "2019-03-14T11:52:10.998052Z",
     "start_time": "2019-03-14T11:52:10.968156Z"
    }
   },
   "outputs": [],
   "source": [
    "data1.drop(data1.loc[data1['NOT_COUNTRY']== 'Iceland'].index, inplace=True)"
   ]
  },
  {
   "cell_type": "code",
   "execution_count": 94,
   "metadata": {
    "ExecuteTime": {
     "end_time": "2019-03-14T11:55:35.516458Z",
     "start_time": "2019-03-14T11:55:35.494489Z"
    },
    "scrolled": true
   },
   "outputs": [
    {
     "name": "stdout",
     "output_type": "stream",
     "text": [
      "DISTRIBUTION_STAT\n",
      "product_past_best_before_date                                     336\n",
      "product_traded_online                                             487\n",
      "no_stock_left                                                     525\n",
      "distribution_to_non-member_countries                              830\n",
      "product_allowed_to_travel_to_destination_under_customs_seals      851\n",
      "product_past_use-by_date                                          988\n",
      "product_already_consumed                                         1250\n",
      "_                                                                2534\n",
      "no_distribution_from_notifying_country                           3066\n",
      "product_(presumably)_no_longer_on_the_market                     3298\n",
      "information_on_distribution_not_(yet)_available                  5747\n",
      "distribution_restricted_to_notifying_country                    10068\n",
      "product_not_(yet)_placed_on_the_market                          10445\n",
      "no_distribution                                                 18569\n",
      "distribution_on_the_market_(possible)                           21731\n",
      "distribution_to_other_member_countries                          49948\n",
      "dtype: int64\n",
      "130673\n",
      "16\n"
     ]
    }
   ],
   "source": [
    "datag = data.groupby('DISTRIBUTION_STAT').size().sort_values(ascending=True)\n",
    "print(datag)\n",
    "print(sum(datag))\n",
    "print(len(datag))"
   ]
  },
  {
   "cell_type": "code",
   "execution_count": 91,
   "metadata": {
    "ExecuteTime": {
     "end_time": "2019-03-14T11:55:12.500423Z",
     "start_time": "2019-03-14T11:55:12.438588Z"
    }
   },
   "outputs": [],
   "source": [
    "data1.replace('no_distribution_to_other_member_countries','distribution_to_non-member_countries',inplace = True)"
   ]
  },
  {
   "cell_type": "code",
   "execution_count": 155,
   "metadata": {
    "ExecuteTime": {
     "end_time": "2019-03-14T13:28:19.206045Z",
     "start_time": "2019-03-14T13:28:18.562836Z"
    }
   },
   "outputs": [],
   "source": [
    "data1.to_csv('splited_alerts_strings_2.0.csv', sep=';')"
   ]
  }
 ],
 "metadata": {
  "kernelspec": {
   "display_name": "Python 3",
   "language": "python",
   "name": "python3"
  },
  "language_info": {
   "codemirror_mode": {
    "name": "ipython",
    "version": 3
   },
   "file_extension": ".py",
   "mimetype": "text/x-python",
   "name": "python",
   "nbconvert_exporter": "python",
   "pygments_lexer": "ipython3",
   "version": "3.6.8"
  },
  "toc": {
   "base_numbering": 1,
   "nav_menu": {},
   "number_sections": true,
   "sideBar": true,
   "skip_h1_title": false,
   "title_cell": "Table of Contents",
   "title_sidebar": "Contents",
   "toc_cell": false,
   "toc_position": {},
   "toc_section_display": true,
   "toc_window_display": false
  }
 },
 "nbformat": 4,
 "nbformat_minor": 2
}
