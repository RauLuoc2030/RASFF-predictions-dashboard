{
 "cells": [
  {
   "cell_type": "code",
   "execution_count": 2,
   "metadata": {},
   "outputs": [],
   "source": [
    "import numpy as np\n",
    "import pandas as pd\n",
    "from math import pi\n",
    "import pandas as pd\n",
    "from bokeh.io import output_file, show\n",
    "from bokeh.palettes import Category20c\n",
    "from bokeh.plotting import figure,ColumnDataSource\n",
    "from bokeh.transform import cumsum\n",
    "from bokeh.io import output_file, show\n",
    "from bokeh.layouts import widgetbox,column\n",
    "from bokeh.layouts import gridplot\n",
    "from bokeh.models.widgets import Dropdown,Slider\n",
    "from bokeh.models import Select,Panel\n",
    "from bokeh.layouts import row\n",
    "from bokeh.io import curdoc"
   ]
  },
  {
   "cell_type": "code",
   "execution_count": 1,
   "metadata": {},
   "outputs": [],
   "source": [
    "def count_y_by_x(column,column_val,count_by,start_date,end_date,data): \n",
    "    data_dates = data_date_interval(start_date,end_date,data) \n",
    "    data_dates = desacoplar(count_by,column,data_dates)\n",
    "    if data_dates.empty:\n",
    "        x_list =[]\n",
    "        y_list =[]\n",
    "        return[x_list,y_list]   \n",
    "    column_by_x = data_dates.groupby([count_by,column]).size()\n",
    "    y_by_x = column_by_x .loc[:,column_val].sort_values(ascending=False)\n",
    "    y_list = y_by_x .tolist()[:12]\n",
    "    y_by_x_df  = pd.DataFrame(y_by_x).reset_index()\n",
    "    x_list = y_by_x_df[count_by].tolist()[:12]\n",
    "    return [x_list,y_list]"
   ]
  },
  {
   "cell_type": "code",
   "execution_count": 2,
   "metadata": {},
   "outputs": [],
   "source": [
    "def desacoplar(columna1,columna2,data):\n",
    "    count = 0\n",
    "    fila1 = []\n",
    "    fila2 = []\n",
    "    list1 = list(data[columna1])\n",
    "    for i in list1 :\n",
    "        count1 = 0\n",
    "        for a in i:\n",
    "            count1 += 1\n",
    "            if a == \",\":\n",
    "                fila1.append(data.iloc[count][columna2])\n",
    "                fila1.append(i[:count1-1])\n",
    "                fila2.append(fila1)\n",
    "                i = i[count1:]\n",
    "                count1 = 0\n",
    "                fila1 = []\n",
    "        fila1.append(data.iloc[count][columna2])\n",
    "        fila1.append(i)\n",
    "        fila2.append(fila1)\n",
    "        fila1 = []  \n",
    "        count += 1\n",
    "    df1 = pd.DataFrame(fila2, columns=[columna2,columna1])  \n",
    "    list2 = list(df1[columna2])\n",
    "    count = 0\n",
    "    fila1 = []\n",
    "    fila2 = []\n",
    "    for i in list2 :\n",
    "        count1 = 0\n",
    "        for a in i:\n",
    "            count1 += 1\n",
    "            if a == \",\":\n",
    "                fila1.append(df1.iloc[count][columna1])\n",
    "                fila1.append(i[:count1-1])\n",
    "                fila2.append(fila1)\n",
    "                i = i[count1:]\n",
    "                count1 = 0\n",
    "                fila1 = []\n",
    "        fila1.append(df1.iloc[count][columna1])\n",
    "        fila1.append(i)\n",
    "        fila2.append(fila1)\n",
    "        fila1 = []  \n",
    "        count += 1\n",
    "    df1 = pd.DataFrame(fila2, columns=[columna1,columna2])\n",
    "    return df1"
   ]
  },
  {
   "cell_type": "code",
   "execution_count": 4,
   "metadata": {},
   "outputs": [],
   "source": [
    "def data_date_interval(start_date,end_date,data):\n",
    "    data_dates = pd.DataFrame(columns=list(data.columns.values))\n",
    "    for i in range(start_date,end_date+1):\n",
    "        year = data[data['DATE_CASE'].str.contains(str(i))]\n",
    "        data_dates = data_dates.append(year)\n",
    "    return data_dates"
   ]
  },
  {
   "cell_type": "code",
   "execution_count": 5,
   "metadata": {},
   "outputs": [],
   "source": [
    "def update_plot(attr, old, new):\n",
    "    x = count_y_by_x(select_column_y.value,selecty.value,selectx.value,slider1.value,slider2.value,data)[0]\n",
    "    y = count_y_by_x(select_column_y.value,selecty.value,selectx.value,slider1.value,slider2.value,data)[1]\n",
    "    p.xaxis.axis_label = selectx.value\n",
    "    p.yaxis.axis_label = selecty.value\n",
    "    p.x_range.factors = x\n",
    "    source.data = {'x' : x,'y' : y} "
   ]
  },
  {
   "cell_type": "code",
   "execution_count": 6,
   "metadata": {},
   "outputs": [],
   "source": [
    "def update_piechart(attr, old, new):\n",
    "    data_dates = data_date_interval(slider1.value,slider2.value,data)\n",
    "    data_dates = desacoplar(selectx.value,select_column_y.value,data_dates) \n",
    "    data2 = data_dates.groupby(selectx.value).size().sort_values(ascending=False)[:15].reset_index(name='value2')\n",
    "    z = data2['value2'].tolist()\n",
    "    angle = (data2['value2']/data2['value2'].sum() * 2*pi).tolist()\n",
    "    color = Category20c[len(data2)]\n",
    "    index = data2.iloc[:,0].tolist()\n",
    "    source2.data = {'z' : z,'index' : index,'angle' : angle,'color' : color} "
   ]
  },
  {
   "cell_type": "code",
   "execution_count": 7,
   "metadata": {},
   "outputs": [],
   "source": [
    "def update_dropdown(attr, old, new):\n",
    "    data_dates = data_date_interval(slider1.value,slider2.value,data)\n",
    "    data_dates = desacoplar(selectx.value,select_column_y.value,data_dates)\n",
    "    selecty.options = data_dates[select_column_y.value].unique().tolist()\n",
    "    selecty.value = data_dates[select_column_y.value].unique().tolist()[0]"
   ]
  },
  {
   "cell_type": "code",
   "execution_count": 8,
   "metadata": {},
   "outputs": [],
   "source": [
    "data = pd.read_csv('C:/Users/Ceiec04/Desktop/Prediccion_Alertas_Alimentarias/Datasets/2004-2018_ALERTS.csv', sep=';', \n",
    "                   header=0, index_col = 0)\n",
    "\n",
    "x = count_y_by_x('TYPE','feed','COUNT_ORIGEN',2012,2018,data)[0]\n",
    "y = count_y_by_x('TYPE','feed','COUNT_ORIGEN',2012,2018,data)[1]\n",
    "TOOLTIPS = [(\"Number of alerts\", \"@y\")]\n",
    "data_dates = pd.DataFrame(columns=list(data.columns.values))\n",
    "data_dates = data\n",
    "data2 = data.groupby('COUNT_ORIGEN').size().sort_values(ascending=False)[:15].reset_index(name='value2')\n",
    "z = data2['value2'].tolist()\n",
    "angle = (data2['value2']/data2['value2'].sum() * 2*pi).tolist()\n",
    "color = Category20c[len(data2)]\n",
    "index = data2.iloc[:,0].tolist()"
   ]
  },
  {
   "cell_type": "code",
   "execution_count": null,
   "metadata": {},
   "outputs": [],
   "source": [
    "source = ColumnDataSource(data={\n",
    "    'x' : x,\n",
    "    'y' : y,\n",
    "})\n",
    "source2 = ColumnDataSource(data={\n",
    "    'z' : z,\n",
    "    'index': index,\n",
    "    'angle' : angle,\n",
    "    'color' : color\n",
    "})"
   ]
  },
  {
   "cell_type": "code",
   "execution_count": 50,
   "metadata": {},
   "outputs": [],
   "source": [
    "selectx = Select(title=\"X AXIS\", options=['CLASSIF','NOT_COUNTRY','PROD_CAT','TYPE','RISK_DECISION','ACTION_TAKEN','DISTRIBUTION_STAT','PRODUCT','COUNT_ORIGEN','COUNT_DESTIN','COUNT_CONCERN'], value='COUNT_ORIGEN')\n",
    "selectx.on_change('value',update_plot)\n",
    "selectx.on_change('value',update_piechart)\n",
    "\n",
    "select_column_y = Select(title=\"Column where the y value is\", options=['CLASSIF','NOT_COUNTRY','PROD_CAT','TYPE','RISK_DECISION','ACTION_TAKEN','DISTRIBUTION_STAT','PRODUCT','COUNT_ORIGEN','COUNT_DESTIN','COUNT_CONCERN'], value='TYPE')\n",
    "select_column_y.on_change('value',update_dropdown)\n",
    "select_column_y.on_change('value',update_plot)\n",
    "\n",
    "selecty = Select(title=\"Y AXIS\", options=['feed','food', 'FCM'], value='feed')\n",
    "selecty.on_change('value',update_plot)\n",
    "\n",
    "slider1 = Slider(start = 2012, end = 2018, step = 1, value = 2012, title =  'Start Date')\n",
    "slider1.on_change('value',update_plot)\n",
    "slider1.on_change('value',update_piechart)\n",
    "\n",
    "slider2 = Slider(start = 2012, end = 2018, step = -1, value = 2018, title =  'End Date')\n",
    "slider2.on_change('value',update_plot)\n",
    "slider2.on_change('value',update_piechart)\n",
    "\n",
    "#Figura 1\n",
    "p = figure(x_range=x, plot_width=1300, plot_height=300, title=\"Alerts barchart\", tooltips=TOOLTIPS, toolbar_location=\"left\")\n",
    "p.vbar(x ='x', top= 'y', width=0.9, source = source)\n",
    "p.xgrid.grid_line_color = None\n",
    "p.y_range.start = 0\n",
    "\n",
    "#Figura 2\n",
    "p2 = figure(plot_width=1000, plot_height=350, title=\"Productos con mas alertas\",\n",
    "        tools=\"hover\", tooltips=\"@index: @z\")\n",
    "\n",
    "p2.wedge(x=0, y=1, radius=0.3,\n",
    "        start_angle=cumsum('angle', include_zero=True), end_angle=cumsum('angle'),\n",
    "        line_color=\"white\", fill_color='color', legend='index', source=source2)\n",
    "\n",
    "widgets = column(selectx, select_column_y, selecty,slider1,slider2)\n",
    "main_row = row(widgets,p2)\n",
    "series = column(p)\n",
    "layout = column(main_row, series)\n",
    "curdoc().add_root(layout)\n",
    "curdoc().title = 'Alerts Dashboard'"
   ]
  }
 ],
 "metadata": {
  "kernelspec": {
   "display_name": "Python 3",
   "language": "python",
   "name": "python3"
  },
  "language_info": {
   "codemirror_mode": {
    "name": "ipython",
    "version": 3
   },
   "file_extension": ".py",
   "mimetype": "text/x-python",
   "name": "python",
   "nbconvert_exporter": "python",
   "pygments_lexer": "ipython3",
   "version": "3.11.8"
  },
  "toc": {
   "base_numbering": 1,
   "nav_menu": {},
   "number_sections": true,
   "sideBar": true,
   "skip_h1_title": false,
   "title_cell": "Table of Contents",
   "title_sidebar": "Contents",
   "toc_cell": false,
   "toc_position": {},
   "toc_section_display": true,
   "toc_window_display": false
  }
 },
 "nbformat": 4,
 "nbformat_minor": 2
}
