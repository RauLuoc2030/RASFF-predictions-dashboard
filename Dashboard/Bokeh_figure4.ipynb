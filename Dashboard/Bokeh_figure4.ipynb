{
 "cells": [
  {
   "cell_type": "code",
   "execution_count": 1,
   "metadata": {
    "ExecuteTime": {
     "end_time": "2019-11-28T11:30:31.944856Z",
     "start_time": "2019-11-28T11:30:30.974397Z"
    }
   },
   "outputs": [],
   "source": [
    "import numpy as np\n",
    "import pandas as pd\n",
    "import holoviews as hv\n",
    "from math import pi\n",
    "import pandas as pd\n",
    "from bokeh.io import output_file, show\n",
    "from bokeh.palettes import Category20c\n",
    "from bokeh.plotting import figure,ColumnDataSource\n",
    "from bokeh.transform import cumsum\n",
    "from bokeh.core.properties import value"
   ]
  },
  {
   "cell_type": "code",
   "execution_count": 3,
   "metadata": {
    "ExecuteTime": {
     "end_time": "2019-11-28T11:31:39.338251Z",
     "start_time": "2019-11-28T11:31:39.085900Z"
    }
   },
   "outputs": [],
   "source": [
    "data = pd.read_csv('D:/Visual Studio Code/HK 6/Data Mining/RASFF-predictions-dashboard/Copia csvs antiguos/full_RASFF_DATA_16092019.csv', sep=';', \n",
    "                   header=0, index_col = 0)\n",
    "data\n",
    "alerts = data"
   ]
  },
  {
   "cell_type": "code",
   "execution_count": 5,
   "metadata": {
    "ExecuteTime": {
     "end_time": "2019-11-28T11:31:42.945703Z",
     "start_time": "2019-11-28T11:31:42.718207Z"
    },
    "scrolled": true
   },
   "outputs": [
    {
     "name": "stdout",
     "output_type": "stream",
     "text": [
      "[ 949 1617 2441 1846 2047 2781]\n",
      "[1285 2393 2011 1008  264  902]\n",
      "[394 539 970 379 210 597]\n"
     ]
    }
   ],
   "source": [
    "a = alerts.loc[alerts['CLASSIF'] == 'border rejection']\n",
    "b = pd.DataFrame(a[['CLASSIF','NOT_COUNTRY']])\n",
    "c = b.groupby('NOT_COUNTRY').size()\n",
    "d = pd.DataFrame(c).reset_index()\n",
    "e = c.sort_values(ascending=False)\n",
    "f = pd.DataFrame(e).reset_index()\n",
    "g = f.loc[f['NOT_COUNTRY'].isin(['Spain','United Kingdom','Germany','Netherlands','France','Italy'])]\n",
    "h = pd.DataFrame(g)\n",
    "i = h.sort_values('NOT_COUNTRY')\n",
    "border_list = i[0].values\n",
    "print(border_list)\n",
    "\n",
    "a = alerts.loc[alerts['CLASSIF'] == 'alert']\n",
    "b = pd.DataFrame(a[['CLASSIF','NOT_COUNTRY']])\n",
    "c = b.groupby('NOT_COUNTRY').size()\n",
    "d = pd.DataFrame(c).reset_index()\n",
    "e = c.sort_values(ascending=False)\n",
    "f = pd.DataFrame(e).reset_index()\n",
    "g = f.loc[f['NOT_COUNTRY'].isin(['Spain','United Kingdom','Germany','Netherlands','France','Italy'])]\n",
    "h = pd.DataFrame(g)\n",
    "i = h.sort_values('NOT_COUNTRY')\n",
    "alert_list = i[0].values\n",
    "print(alert_list)\n",
    "\n",
    "a = alerts.loc[alerts['CLASSIF'] == 'information for attention']\n",
    "b = pd.DataFrame(a[['CLASSIF','NOT_COUNTRY']])\n",
    "c = b.groupby('NOT_COUNTRY').size()\n",
    "d = pd.DataFrame(c).reset_index()\n",
    "e = c.sort_values(ascending=False)\n",
    "f = pd.DataFrame(e).reset_index()\n",
    "g = f.loc[f['NOT_COUNTRY'].isin(['Spain','United Kingdom','Germany','Netherlands','France','Italy'])]\n",
    "h = pd.DataFrame(g)\n",
    "i = h.sort_values('NOT_COUNTRY')\n",
    "follow_list = i[0].values\n",
    "print(follow_list)\n",
    "\n",
    "countries = ['Spain','United Kingdom','Germany','Netherlands','France','Italy']\n",
    "clas = ['border rejection', 'alert', 'information for attention']\n",
    "colors = [\"#c9d9d3\", \"#718dbf\", \"#e84d60\"]\n",
    "\n",
    "data = {'countries' : countries,\n",
    "        'border rejection'  : border_list,\n",
    "        'alert'   : alert_list,\n",
    "        'information for attention'   : follow_list}\n",
    "\n",
    "p = figure(x_range = countries, plot_height=300, title=\"Alert classification by countries\",\n",
    "           toolbar_location=None, tools=\"hover\", tooltips=\"$name @countries: @$name\")\n",
    "\n",
    "p.vbar_stack(clas, x='countries', width=0.9, color=colors, source=data, legend=[value(x) for x in clas])\n",
    "\n",
    "p.y_range.start = 0\n",
    "p.x_range.range_padding = 0.1\n",
    "p.xgrid.grid_line_color = None\n",
    "p.axis.minor_tick_line_color = None\n",
    "p.outline_line_color = None\n",
    "p.legend.location = \"top_left\"\n",
    "p.legend.orientation = \"horizontal\"\n",
    "show(p)"
   ]
  }
 ],
 "metadata": {
  "kernelspec": {
   "display_name": "Python 3",
   "language": "python",
   "name": "python3"
  },
  "language_info": {
   "codemirror_mode": {
    "name": "ipython",
    "version": 3
   },
   "file_extension": ".py",
   "mimetype": "text/x-python",
   "name": "python",
   "nbconvert_exporter": "python",
   "pygments_lexer": "ipython3",
   "version": "3.6.8"
  },
  "toc": {
   "base_numbering": 1,
   "nav_menu": {},
   "number_sections": true,
   "sideBar": true,
   "skip_h1_title": false,
   "title_cell": "Table of Contents",
   "title_sidebar": "Contents",
   "toc_cell": false,
   "toc_position": {},
   "toc_section_display": true,
   "toc_window_display": false
  }
 },
 "nbformat": 4,
 "nbformat_minor": 2
}
