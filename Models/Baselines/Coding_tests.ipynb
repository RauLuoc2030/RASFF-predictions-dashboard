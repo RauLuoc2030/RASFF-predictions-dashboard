{
 "cells": [
  {
   "cell_type": "code",
   "execution_count": 4,
   "metadata": {
    "ExecuteTime": {
     "end_time": "2019-11-05T15:07:09.047628Z",
     "start_time": "2019-11-05T15:07:09.041610Z"
    }
   },
   "outputs": [],
   "source": [
    "import numpy as np\n",
    "import pandas as pd\n",
    "import matplotlib.pyplot as plt\n",
    "from IPython.display import Image\n",
    "import category_encoders as ce\n",
    "import functools\n",
    "\n",
    "from keras.layers import Concatenate\n",
    "from keras.models import Sequential, Model\n",
    "from keras.layers import Dense, Dropout, Flatten, Input, MaxPooling1D, Conv1D, Embedding,Reshape, Concatenate,BatchNormalization,GlobalMaxPooling1D,GlobalAveragePooling1D\n",
    "# from keras.layers.merge import Concatenate\n",
    "from keras.preprocessing import sequence\n",
    "from keras.optimizers import RMSprop, Adam\n",
    "from keras.preprocessing.sequence import pad_sequences\n",
    "from keras.utils import to_categorical\n",
    "from keras.utils import plot_model\n",
    "from keras import backend as K\n",
    "# from keras.wrappers.scikit_learn import KerasClassifier\n",
    "from keras import metrics\n",
    "from keras import regularizers\n",
    "\n",
    "from sklearn.model_selection import train_test_split\n",
    "from sklearn.preprocessing import OneHotEncoder\n",
    "from sklearn.preprocessing import LabelBinarizer\n",
    "from sklearn import preprocessing\n",
    "from sklearn.model_selection import GridSearchCV \n",
    "from sklearn.metrics import classification_report\n",
    "from sklearn.preprocessing import OrdinalEncoder\n",
    "from sklearn.feature_extraction import FeatureHasher"
   ]
  },
  {
   "cell_type": "markdown",
   "metadata": {},
   "source": [
    "# Lectura de datos"
   ]
  },
  {
   "cell_type": "code",
   "execution_count": 23,
   "metadata": {
    "ExecuteTime": {
     "end_time": "2019-11-05T15:07:09.855479Z",
     "start_time": "2019-11-05T15:07:09.529324Z"
    }
   },
   "outputs": [
    {
     "data": {
      "text/html": [
       "<div>\n",
       "<style scoped>\n",
       "    .dataframe tbody tr th:only-of-type {\n",
       "        vertical-align: middle;\n",
       "    }\n",
       "\n",
       "    .dataframe tbody tr th {\n",
       "        vertical-align: top;\n",
       "    }\n",
       "\n",
       "    .dataframe thead th {\n",
       "        text-align: right;\n",
       "    }\n",
       "</style>\n",
       "<table border=\"1\" class=\"dataframe\">\n",
       "  <thead>\n",
       "    <tr style=\"text-align: right;\">\n",
       "      <th></th>\n",
       "      <th>DATE_CASE</th>\n",
       "      <th>NOT_COUNTRY</th>\n",
       "      <th>PROD_CAT</th>\n",
       "      <th>TYPE</th>\n",
       "      <th>RISK_DECISION</th>\n",
       "      <th>ACTION_TAKEN</th>\n",
       "      <th>DISTRIBUTION_STAT</th>\n",
       "      <th>HAZARDS_CAT</th>\n",
       "      <th>COUNT_ORIGEN</th>\n",
       "      <th>COUNT_DESTIN</th>\n",
       "      <th>COUNT_CONCERN</th>\n",
       "    </tr>\n",
       "  </thead>\n",
       "  <tbody>\n",
       "    <tr>\n",
       "      <th>101816</th>\n",
       "      <td>2010-04-21</td>\n",
       "      <td>Slovenia</td>\n",
       "      <td>dietetic foods, food supplements, fortified foods</td>\n",
       "      <td>food</td>\n",
       "      <td>undecided</td>\n",
       "      <td>re-dispatch</td>\n",
       "      <td>distribution restricted to notifying country</td>\n",
       "      <td>allergens</td>\n",
       "      <td>Serbia</td>\n",
       "      <td>Slovenia</td>\n",
       "      <td></td>\n",
       "    </tr>\n",
       "    <tr>\n",
       "      <th>104248</th>\n",
       "      <td>2009-12-10</td>\n",
       "      <td>Slovenia</td>\n",
       "      <td>food contact materials</td>\n",
       "      <td>fcm</td>\n",
       "      <td>undecided</td>\n",
       "      <td>public warning - press release</td>\n",
       "      <td>distribution on the market (possible)</td>\n",
       "      <td>metals</td>\n",
       "      <td>China</td>\n",
       "      <td>Poland</td>\n",
       "      <td>Czech Republic</td>\n",
       "    </tr>\n",
       "    <tr>\n",
       "      <th>99674</th>\n",
       "      <td>2010-08-11</td>\n",
       "      <td>Netherlands</td>\n",
       "      <td>nuts, nut products and seeds</td>\n",
       "      <td>food</td>\n",
       "      <td>undecided</td>\n",
       "      <td>official detention</td>\n",
       "      <td>no distribution</td>\n",
       "      <td>mycotoxins</td>\n",
       "      <td>Argentina</td>\n",
       "      <td></td>\n",
       "      <td>Spain</td>\n",
       "    </tr>\n",
       "    <tr>\n",
       "      <th>100034</th>\n",
       "      <td>2010-07-28</td>\n",
       "      <td>United Kingdom</td>\n",
       "      <td>herbs and spices</td>\n",
       "      <td>food</td>\n",
       "      <td>undecided</td>\n",
       "      <td>(obsolete)</td>\n",
       "      <td>no distribution</td>\n",
       "      <td>mycotoxins</td>\n",
       "      <td>India</td>\n",
       "      <td></td>\n",
       "      <td>United Kingdom</td>\n",
       "    </tr>\n",
       "    <tr>\n",
       "      <th>136057</th>\n",
       "      <td>2005-02-18</td>\n",
       "      <td>United Kingdom</td>\n",
       "      <td>soups, broths, sauces and condiments</td>\n",
       "      <td>food</td>\n",
       "      <td>undecided</td>\n",
       "      <td>(obsolete)</td>\n",
       "      <td>distribution on the market (possible)</td>\n",
       "      <td>composition</td>\n",
       "      <td>United Kingdom</td>\n",
       "      <td>Russia</td>\n",
       "      <td>Sweden</td>\n",
       "    </tr>\n",
       "    <tr>\n",
       "      <th>...</th>\n",
       "      <td>...</td>\n",
       "      <td>...</td>\n",
       "      <td>...</td>\n",
       "      <td>...</td>\n",
       "      <td>...</td>\n",
       "      <td>...</td>\n",
       "      <td>...</td>\n",
       "      <td>...</td>\n",
       "      <td>...</td>\n",
       "      <td>...</td>\n",
       "      <td>...</td>\n",
       "    </tr>\n",
       "    <tr>\n",
       "      <th>32626</th>\n",
       "      <td>2017-07-20</td>\n",
       "      <td>Belgium</td>\n",
       "      <td>eggs and egg products</td>\n",
       "      <td>food</td>\n",
       "      <td>serious</td>\n",
       "      <td>withdrawal from the market</td>\n",
       "      <td>distribution to other member countries</td>\n",
       "      <td>pesticide residues</td>\n",
       "      <td></td>\n",
       "      <td>Congo</td>\n",
       "      <td>Ukraine</td>\n",
       "    </tr>\n",
       "    <tr>\n",
       "      <th>141375</th>\n",
       "      <td>2004-01-12</td>\n",
       "      <td>Netherlands</td>\n",
       "      <td>fruits and vegetables</td>\n",
       "      <td>food</td>\n",
       "      <td>undecided</td>\n",
       "      <td>re-dispatch</td>\n",
       "      <td></td>\n",
       "      <td>mycotoxins</td>\n",
       "      <td>Turkey</td>\n",
       "      <td></td>\n",
       "      <td>Netherlands</td>\n",
       "    </tr>\n",
       "    <tr>\n",
       "      <th>2965</th>\n",
       "      <td>2019-06-20</td>\n",
       "      <td>Denmark</td>\n",
       "      <td>food additives and flavourings</td>\n",
       "      <td>food</td>\n",
       "      <td>undecided</td>\n",
       "      <td>withdrawal from recipient(s)</td>\n",
       "      <td>distribution to other member countries</td>\n",
       "      <td>foreign bodies</td>\n",
       "      <td>Belgium</td>\n",
       "      <td>Czech Republic</td>\n",
       "      <td>INFOSAN</td>\n",
       "    </tr>\n",
       "    <tr>\n",
       "      <th>48591</th>\n",
       "      <td>2016-02-01</td>\n",
       "      <td>Netherlands</td>\n",
       "      <td>dietetic foods, food supplements, fortified foods</td>\n",
       "      <td>food</td>\n",
       "      <td>undecided</td>\n",
       "      <td>withdrawal from the market</td>\n",
       "      <td>distribution to other member countries</td>\n",
       "      <td>environmental pollutants</td>\n",
       "      <td>United States</td>\n",
       "      <td>Netherlands</td>\n",
       "      <td>Commission Services</td>\n",
       "    </tr>\n",
       "    <tr>\n",
       "      <th>79989</th>\n",
       "      <td>2012-11-14</td>\n",
       "      <td>Germany</td>\n",
       "      <td>food contact materials</td>\n",
       "      <td>fcm</td>\n",
       "      <td>not serious</td>\n",
       "      <td>withdrawal from the market</td>\n",
       "      <td>distribution to other member countries</td>\n",
       "      <td>migration</td>\n",
       "      <td>China</td>\n",
       "      <td>Austria</td>\n",
       "      <td></td>\n",
       "    </tr>\n",
       "  </tbody>\n",
       "</table>\n",
       "<p>141529 rows × 11 columns</p>\n",
       "</div>"
      ],
      "text/plain": [
       "         DATE_CASE     NOT_COUNTRY  \\\n",
       "101816  2010-04-21        Slovenia   \n",
       "104248  2009-12-10        Slovenia   \n",
       "99674   2010-08-11     Netherlands   \n",
       "100034  2010-07-28  United Kingdom   \n",
       "136057  2005-02-18  United Kingdom   \n",
       "...            ...             ...   \n",
       "32626   2017-07-20         Belgium   \n",
       "141375  2004-01-12     Netherlands   \n",
       "2965    2019-06-20         Denmark   \n",
       "48591   2016-02-01     Netherlands   \n",
       "79989   2012-11-14         Germany   \n",
       "\n",
       "                                                 PROD_CAT  TYPE RISK_DECISION  \\\n",
       "101816  dietetic foods, food supplements, fortified foods  food     undecided   \n",
       "104248                             food contact materials   fcm     undecided   \n",
       "99674                        nuts, nut products and seeds  food     undecided   \n",
       "100034                                   herbs and spices  food     undecided   \n",
       "136057               soups, broths, sauces and condiments  food     undecided   \n",
       "...                                                   ...   ...           ...   \n",
       "32626                               eggs and egg products  food       serious   \n",
       "141375                              fruits and vegetables  food     undecided   \n",
       "2965                       food additives and flavourings  food     undecided   \n",
       "48591   dietetic foods, food supplements, fortified foods  food     undecided   \n",
       "79989                              food contact materials   fcm   not serious   \n",
       "\n",
       "                          ACTION_TAKEN  \\\n",
       "101816                     re-dispatch   \n",
       "104248  public warning - press release   \n",
       "99674               official detention   \n",
       "100034                      (obsolete)   \n",
       "136057                      (obsolete)   \n",
       "...                                ...   \n",
       "32626       withdrawal from the market   \n",
       "141375                     re-dispatch   \n",
       "2965      withdrawal from recipient(s)   \n",
       "48591       withdrawal from the market   \n",
       "79989       withdrawal from the market   \n",
       "\n",
       "                                   DISTRIBUTION_STAT  \\\n",
       "101816  distribution restricted to notifying country   \n",
       "104248         distribution on the market (possible)   \n",
       "99674                                no distribution   \n",
       "100034                               no distribution   \n",
       "136057         distribution on the market (possible)   \n",
       "...                                              ...   \n",
       "32626         distribution to other member countries   \n",
       "141375                                                 \n",
       "2965          distribution to other member countries   \n",
       "48591         distribution to other member countries   \n",
       "79989         distribution to other member countries   \n",
       "\n",
       "                     HAZARDS_CAT    COUNT_ORIGEN    COUNT_DESTIN  \\\n",
       "101816                 allergens          Serbia        Slovenia   \n",
       "104248                    metals           China          Poland   \n",
       "99674                 mycotoxins       Argentina                   \n",
       "100034                mycotoxins           India                   \n",
       "136057               composition  United Kingdom          Russia   \n",
       "...                          ...             ...             ...   \n",
       "32626         pesticide residues                           Congo   \n",
       "141375                mycotoxins          Turkey                   \n",
       "2965              foreign bodies         Belgium  Czech Republic   \n",
       "48591   environmental pollutants   United States     Netherlands   \n",
       "79989                  migration           China         Austria   \n",
       "\n",
       "              COUNT_CONCERN  \n",
       "101816                       \n",
       "104248       Czech Republic  \n",
       "99674                 Spain  \n",
       "100034       United Kingdom  \n",
       "136057               Sweden  \n",
       "...                     ...  \n",
       "32626               Ukraine  \n",
       "141375          Netherlands  \n",
       "2965                INFOSAN  \n",
       "48591   Commission Services  \n",
       "79989                        \n",
       "\n",
       "[141529 rows x 11 columns]"
      ]
     },
     "execution_count": 23,
     "metadata": {},
     "output_type": "execute_result"
    }
   ],
   "source": [
    "data = pd.read_csv('D:/Visual Studio Code/HK 6/Data Mining/RASFF-predictions-dashboard/Copia csvs antiguos/splited_RASFF_DATA_16092019.csv', sep=';', \n",
    "                header=0, index_col = 0)\n",
    "data ['DATE_CASE'] = data ['DATE_CASE'].astype(str)\n",
    "data ['HAZARDS_CAT'] = data ['HAZARDS_CAT'].astype(str)\n",
    "data = data.sample(frac = 1)\n",
    "df = data\n",
    "df"
   ]
  },
  {
   "cell_type": "code",
   "execution_count": 8,
   "metadata": {
    "ExecuteTime": {
     "end_time": "2019-11-05T15:07:10.270056Z",
     "start_time": "2019-11-05T15:07:10.240159Z"
    }
   },
   "outputs": [
    {
     "name": "stderr",
     "output_type": "stream",
     "text": [
      "C:\\Users\\Locc\\AppData\\Local\\Temp\\ipykernel_5580\\335135510.py:3: SettingWithCopyWarning: \n",
      "A value is trying to be set on a copy of a slice from a DataFrame.\n",
      "Try using .loc[row_indexer,col_indexer] = value instead\n",
      "\n",
      "See the caveats in the documentation: https://pandas.pydata.org/pandas-docs/stable/user_guide/indexing.html#returning-a-view-versus-a-copy\n",
      "  df['DATE_CASE'] =pd.to_datetime(df.DATE_CASE)\n",
      "C:\\Users\\Locc\\AppData\\Local\\Temp\\ipykernel_5580\\335135510.py:4: SettingWithCopyWarning: \n",
      "A value is trying to be set on a copy of a slice from a DataFrame.\n",
      "Try using .loc[row_indexer,col_indexer] = value instead\n",
      "\n",
      "See the caveats in the documentation: https://pandas.pydata.org/pandas-docs/stable/user_guide/indexing.html#returning-a-view-versus-a-copy\n",
      "  df['DATE_CASE'] = df.DATE_CASE.dt.month\n"
     ]
    }
   ],
   "source": [
    "mask = (df['DATE_CASE'] >= '2004-01-01') & (df['DATE_CASE'] <= '2018-12-31')\n",
    "df = df.loc[mask]\n",
    "df['DATE_CASE'] =pd.to_datetime(df.DATE_CASE)\n",
    "df['DATE_CASE'] = df.DATE_CASE.dt.month"
   ]
  },
  {
   "cell_type": "code",
   "execution_count": 9,
   "metadata": {
    "ExecuteTime": {
     "end_time": "2019-11-05T15:07:11.786191Z",
     "start_time": "2019-11-05T15:07:11.776240Z"
    }
   },
   "outputs": [],
   "source": [
    "features = [0,1,2,6,7,8]\n",
    "target = [5]\n",
    "X = df.iloc[:,features]\n",
    "y = df.iloc[:,target]"
   ]
  },
  {
   "cell_type": "code",
   "execution_count": 10,
   "metadata": {
    "ExecuteTime": {
     "end_time": "2019-11-05T15:07:12.344412Z",
     "start_time": "2019-11-05T15:07:12.323496Z"
    },
    "scrolled": true
   },
   "outputs": [
    {
     "data": {
      "text/html": [
       "<div>\n",
       "<style scoped>\n",
       "    .dataframe tbody tr th:only-of-type {\n",
       "        vertical-align: middle;\n",
       "    }\n",
       "\n",
       "    .dataframe tbody tr th {\n",
       "        vertical-align: top;\n",
       "    }\n",
       "\n",
       "    .dataframe thead th {\n",
       "        text-align: right;\n",
       "    }\n",
       "</style>\n",
       "<table border=\"1\" class=\"dataframe\">\n",
       "  <thead>\n",
       "    <tr style=\"text-align: right;\">\n",
       "      <th></th>\n",
       "      <th>DATE_CASE</th>\n",
       "      <th>NOT_COUNTRY</th>\n",
       "      <th>PROD_CAT</th>\n",
       "      <th>DISTRIBUTION_STAT</th>\n",
       "      <th>HAZARDS_CAT</th>\n",
       "      <th>COUNT_ORIGEN</th>\n",
       "    </tr>\n",
       "  </thead>\n",
       "  <tbody>\n",
       "    <tr>\n",
       "      <th>97237</th>\n",
       "      <td>12</td>\n",
       "      <td>Greece</td>\n",
       "      <td>cereals and bakery products</td>\n",
       "      <td>distribution on the market (possible)</td>\n",
       "      <td>food additives and flavourings</td>\n",
       "      <td>Greece</td>\n",
       "    </tr>\n",
       "    <tr>\n",
       "      <th>139207</th>\n",
       "      <td>7</td>\n",
       "      <td>Denmark</td>\n",
       "      <td>herbs and spices</td>\n",
       "      <td></td>\n",
       "      <td>composition</td>\n",
       "      <td>India</td>\n",
       "    </tr>\n",
       "    <tr>\n",
       "      <th>123875</th>\n",
       "      <td>2</td>\n",
       "      <td>Spain</td>\n",
       "      <td>bivalve molluscs and products thereof</td>\n",
       "      <td>no distribution</td>\n",
       "      <td>adulteration / fraud</td>\n",
       "      <td>China</td>\n",
       "    </tr>\n",
       "    <tr>\n",
       "      <th>55331</th>\n",
       "      <td>5</td>\n",
       "      <td>France</td>\n",
       "      <td>milk and milk products</td>\n",
       "      <td>distribution to other member countries</td>\n",
       "      <td>pathogenic micro-organisms</td>\n",
       "      <td>France</td>\n",
       "    </tr>\n",
       "    <tr>\n",
       "      <th>36508</th>\n",
       "      <td>4</td>\n",
       "      <td>Poland</td>\n",
       "      <td>cocoa and cocoa preparations, coffee and tea</td>\n",
       "      <td>product not (yet) placed on the market</td>\n",
       "      <td>pesticide residues</td>\n",
       "      <td>India</td>\n",
       "    </tr>\n",
       "    <tr>\n",
       "      <th>...</th>\n",
       "      <td>...</td>\n",
       "      <td>...</td>\n",
       "      <td>...</td>\n",
       "      <td>...</td>\n",
       "      <td>...</td>\n",
       "      <td>...</td>\n",
       "    </tr>\n",
       "    <tr>\n",
       "      <th>22755</th>\n",
       "      <td>3</td>\n",
       "      <td>United Kingdom</td>\n",
       "      <td>milk and milk products</td>\n",
       "      <td>distribution to non-member countries</td>\n",
       "      <td>foreign bodies</td>\n",
       "      <td>United Kingdom</td>\n",
       "    </tr>\n",
       "    <tr>\n",
       "      <th>90314</th>\n",
       "      <td>10</td>\n",
       "      <td>Finland</td>\n",
       "      <td>fruits and vegetables</td>\n",
       "      <td>information on distribution not (yet) available</td>\n",
       "      <td>food additives and flavourings</td>\n",
       "      <td>Philippines</td>\n",
       "    </tr>\n",
       "    <tr>\n",
       "      <th>128575</th>\n",
       "      <td>4</td>\n",
       "      <td>Italy</td>\n",
       "      <td>crustaceans and products thereof</td>\n",
       "      <td>distribution on the market (possible)</td>\n",
       "      <td>food additives and flavourings</td>\n",
       "      <td>Spain</td>\n",
       "    </tr>\n",
       "    <tr>\n",
       "      <th>15217</th>\n",
       "      <td>8</td>\n",
       "      <td>Switzerland</td>\n",
       "      <td>dietetic foods, food supplements, fortified foods</td>\n",
       "      <td>distribution to other member countries</td>\n",
       "      <td>composition</td>\n",
       "      <td>Slovenia</td>\n",
       "    </tr>\n",
       "    <tr>\n",
       "      <th>81532</th>\n",
       "      <td>9</td>\n",
       "      <td>Luxembourg</td>\n",
       "      <td>other food product / mixed</td>\n",
       "      <td>distribution to other member countries</td>\n",
       "      <td>mycotoxins</td>\n",
       "      <td>Switzerland</td>\n",
       "    </tr>\n",
       "  </tbody>\n",
       "</table>\n",
       "<p>131694 rows × 6 columns</p>\n",
       "</div>"
      ],
      "text/plain": [
       "        DATE_CASE     NOT_COUNTRY  \\\n",
       "97237          12          Greece   \n",
       "139207          7         Denmark   \n",
       "123875          2           Spain   \n",
       "55331           5          France   \n",
       "36508           4          Poland   \n",
       "...           ...             ...   \n",
       "22755           3  United Kingdom   \n",
       "90314          10         Finland   \n",
       "128575          4           Italy   \n",
       "15217           8     Switzerland   \n",
       "81532           9      Luxembourg   \n",
       "\n",
       "                                                 PROD_CAT  \\\n",
       "97237                         cereals and bakery products   \n",
       "139207                                   herbs and spices   \n",
       "123875              bivalve molluscs and products thereof   \n",
       "55331                              milk and milk products   \n",
       "36508        cocoa and cocoa preparations, coffee and tea   \n",
       "...                                                   ...   \n",
       "22755                              milk and milk products   \n",
       "90314                               fruits and vegetables   \n",
       "128575                   crustaceans and products thereof   \n",
       "15217   dietetic foods, food supplements, fortified foods   \n",
       "81532                          other food product / mixed   \n",
       "\n",
       "                                      DISTRIBUTION_STAT  \\\n",
       "97237             distribution on the market (possible)   \n",
       "139207                                                    \n",
       "123875                                  no distribution   \n",
       "55331            distribution to other member countries   \n",
       "36508            product not (yet) placed on the market   \n",
       "...                                                 ...   \n",
       "22755              distribution to non-member countries   \n",
       "90314   information on distribution not (yet) available   \n",
       "128575            distribution on the market (possible)   \n",
       "15217            distribution to other member countries   \n",
       "81532            distribution to other member countries   \n",
       "\n",
       "                           HAZARDS_CAT    COUNT_ORIGEN  \n",
       "97237   food additives and flavourings          Greece  \n",
       "139207                     composition           India  \n",
       "123875            adulteration / fraud           China  \n",
       "55331       pathogenic micro-organisms          France  \n",
       "36508               pesticide residues           India  \n",
       "...                                ...             ...  \n",
       "22755                   foreign bodies  United Kingdom  \n",
       "90314   food additives and flavourings     Philippines  \n",
       "128575  food additives and flavourings           Spain  \n",
       "15217                      composition        Slovenia  \n",
       "81532                       mycotoxins     Switzerland  \n",
       "\n",
       "[131694 rows x 6 columns]"
      ]
     },
     "execution_count": 10,
     "metadata": {},
     "output_type": "execute_result"
    }
   ],
   "source": [
    "X"
   ]
  },
  {
   "cell_type": "code",
   "execution_count": 11,
   "metadata": {
    "ExecuteTime": {
     "end_time": "2019-11-05T15:07:12.748943Z",
     "start_time": "2019-11-05T15:07:12.736947Z"
    },
    "scrolled": true
   },
   "outputs": [
    {
     "data": {
      "text/html": [
       "<div>\n",
       "<style scoped>\n",
       "    .dataframe tbody tr th:only-of-type {\n",
       "        vertical-align: middle;\n",
       "    }\n",
       "\n",
       "    .dataframe tbody tr th {\n",
       "        vertical-align: top;\n",
       "    }\n",
       "\n",
       "    .dataframe thead th {\n",
       "        text-align: right;\n",
       "    }\n",
       "</style>\n",
       "<table border=\"1\" class=\"dataframe\">\n",
       "  <thead>\n",
       "    <tr style=\"text-align: right;\">\n",
       "      <th></th>\n",
       "      <th>ACTION_TAKEN</th>\n",
       "    </tr>\n",
       "  </thead>\n",
       "  <tbody>\n",
       "    <tr>\n",
       "      <th>97237</th>\n",
       "      <td>recall from consumers</td>\n",
       "    </tr>\n",
       "    <tr>\n",
       "      <th>139207</th>\n",
       "      <td>destruction</td>\n",
       "    </tr>\n",
       "    <tr>\n",
       "      <th>123875</th>\n",
       "      <td>destruction</td>\n",
       "    </tr>\n",
       "    <tr>\n",
       "      <th>55331</th>\n",
       "      <td>recall from consumers</td>\n",
       "    </tr>\n",
       "    <tr>\n",
       "      <th>36508</th>\n",
       "      <td>re-dispatch</td>\n",
       "    </tr>\n",
       "    <tr>\n",
       "      <th>...</th>\n",
       "      <td>...</td>\n",
       "    </tr>\n",
       "    <tr>\n",
       "      <th>22755</th>\n",
       "      <td>recall from consumers</td>\n",
       "    </tr>\n",
       "    <tr>\n",
       "      <th>90314</th>\n",
       "      <td></td>\n",
       "    </tr>\n",
       "    <tr>\n",
       "      <th>128575</th>\n",
       "      <td></td>\n",
       "    </tr>\n",
       "    <tr>\n",
       "      <th>15217</th>\n",
       "      <td>withdrawal from the market</td>\n",
       "    </tr>\n",
       "    <tr>\n",
       "      <th>81532</th>\n",
       "      <td>recall from consumers</td>\n",
       "    </tr>\n",
       "  </tbody>\n",
       "</table>\n",
       "<p>131694 rows × 1 columns</p>\n",
       "</div>"
      ],
      "text/plain": [
       "                      ACTION_TAKEN\n",
       "97237        recall from consumers\n",
       "139207                 destruction\n",
       "123875                 destruction\n",
       "55331        recall from consumers\n",
       "36508                  re-dispatch\n",
       "...                            ...\n",
       "22755        recall from consumers\n",
       "90314                             \n",
       "128575                            \n",
       "15217   withdrawal from the market\n",
       "81532        recall from consumers\n",
       "\n",
       "[131694 rows x 1 columns]"
      ]
     },
     "execution_count": 11,
     "metadata": {},
     "output_type": "execute_result"
    }
   ],
   "source": [
    "y"
   ]
  },
  {
   "cell_type": "markdown",
   "metadata": {},
   "source": [
    "# Selección de codificación"
   ]
  },
  {
   "cell_type": "code",
   "execution_count": 14,
   "metadata": {
    "ExecuteTime": {
     "end_time": "2019-11-05T15:07:13.480299Z",
     "start_time": "2019-11-05T15:07:13.440406Z"
    }
   },
   "outputs": [],
   "source": [
    "ency = OneHotEncoder(handle_unknown='ignore', sparse_output = False)\n",
    "ency.fit(y.values)\n",
    "y_one_hot = ency.transform(y.values)"
   ]
  },
  {
   "cell_type": "code",
   "execution_count": 15,
   "metadata": {
    "ExecuteTime": {
     "end_time": "2019-11-05T15:07:18.548386Z",
     "start_time": "2019-11-05T15:07:18.543400Z"
    }
   },
   "outputs": [
    {
     "data": {
      "text/plain": [
       "'encx = OrdinalEncoder()\\nencx.fit(X.values)\\nx_one_hot = encx.transform(X.values)'"
      ]
     },
     "execution_count": 15,
     "metadata": {},
     "output_type": "execute_result"
    }
   ],
   "source": [
    "'''encx = OrdinalEncoder()\n",
    "encx.fit(X.values)\n",
    "x_one_hot = encx.transform(X.values)'''"
   ]
  },
  {
   "cell_type": "code",
   "execution_count": 16,
   "metadata": {
    "ExecuteTime": {
     "end_time": "2019-11-05T15:07:18.899374Z",
     "start_time": "2019-11-05T15:07:18.896370Z"
    }
   },
   "outputs": [
    {
     "data": {
      "text/plain": [
       "\"encx = OneHotEncoder(handle_unknown='ignore', sparse = False)\\nencx.fit(X.values)\\nx_one_hot = encx.transform(X.values)\""
      ]
     },
     "execution_count": 16,
     "metadata": {},
     "output_type": "execute_result"
    }
   ],
   "source": [
    "'''encx = OneHotEncoder(handle_unknown='ignore', sparse = False)\n",
    "encx.fit(X.values)\n",
    "x_one_hot = encx.transform(X.values)'''"
   ]
  },
  {
   "cell_type": "code",
   "execution_count": 17,
   "metadata": {
    "ExecuteTime": {
     "end_time": "2019-11-05T15:07:22.117670Z",
     "start_time": "2019-11-05T15:07:21.375656Z"
    }
   },
   "outputs": [
    {
     "name": "stderr",
     "output_type": "stream",
     "text": [
      "c:\\Users\\Locc\\AppData\\Local\\Programs\\Python\\Python311\\Lib\\site-packages\\category_encoders\\ordinal.py:198: FutureWarning: Downcasting object dtype arrays on .fillna, .ffill, .bfill is deprecated and will change in a future version. Call result.infer_objects(copy=False) instead. To opt-in to the future behavior, set `pd.set_option('future.no_silent_downcasting', True)`\n",
      "  X[column] = X[column].astype(\"object\").fillna(np.nan).map(col_mapping)\n",
      "c:\\Users\\Locc\\AppData\\Local\\Programs\\Python\\Python311\\Lib\\site-packages\\category_encoders\\ordinal.py:198: FutureWarning: Downcasting object dtype arrays on .fillna, .ffill, .bfill is deprecated and will change in a future version. Call result.infer_objects(copy=False) instead. To opt-in to the future behavior, set `pd.set_option('future.no_silent_downcasting', True)`\n",
      "  X[column] = X[column].astype(\"object\").fillna(np.nan).map(col_mapping)\n",
      "c:\\Users\\Locc\\AppData\\Local\\Programs\\Python\\Python311\\Lib\\site-packages\\category_encoders\\ordinal.py:198: FutureWarning: Downcasting object dtype arrays on .fillna, .ffill, .bfill is deprecated and will change in a future version. Call result.infer_objects(copy=False) instead. To opt-in to the future behavior, set `pd.set_option('future.no_silent_downcasting', True)`\n",
      "  X[column] = X[column].astype(\"object\").fillna(np.nan).map(col_mapping)\n"
     ]
    }
   ],
   "source": [
    "encx  = ce.BaseNEncoder()\n",
    "encx.fit(X.values)\n",
    "x_one_hot = encx.transform(X.values)"
   ]
  },
  {
   "cell_type": "code",
   "execution_count": 18,
   "metadata": {
    "ExecuteTime": {
     "end_time": "2019-11-05T15:07:26.823459Z",
     "start_time": "2019-11-05T15:07:26.767582Z"
    }
   },
   "outputs": [],
   "source": [
    "X_train, X_val, y_train, y_val = train_test_split(x_one_hot, y_one_hot, test_size=0.2)"
   ]
  },
  {
   "cell_type": "markdown",
   "metadata": {},
   "source": [
    "# Pruebas con mlp básico"
   ]
  },
  {
   "cell_type": "code",
   "execution_count": 19,
   "metadata": {
    "ExecuteTime": {
     "end_time": "2019-11-05T15:18:18.781542Z",
     "start_time": "2019-11-05T15:09:12.417315Z"
    },
    "scrolled": true
   },
   "outputs": [
    {
     "name": "stdout",
     "output_type": "stream",
     "text": [
      "WARNING:tensorflow:From c:\\Users\\Locc\\AppData\\Local\\Programs\\Python\\Python311\\Lib\\site-packages\\keras\\src\\backend\\common\\global_state.py:82: The name tf.reset_default_graph is deprecated. Please use tf.compat.v1.reset_default_graph instead.\n",
      "\n",
      "Epoch 1/15\n"
     ]
    },
    {
     "name": "stderr",
     "output_type": "stream",
     "text": [
      "c:\\Users\\Locc\\AppData\\Local\\Programs\\Python\\Python311\\Lib\\site-packages\\keras\\src\\layers\\core\\dense.py:87: UserWarning: Do not pass an `input_shape`/`input_dim` argument to a layer. When using Sequential models, prefer using an `Input(shape)` object as the first layer in the model instead.\n",
      "  super().__init__(activity_regularizer=activity_regularizer, **kwargs)\n"
     ]
    },
    {
     "name": "stdout",
     "output_type": "stream",
     "text": [
      "\u001b[1m1647/1647\u001b[0m \u001b[32m━━━━━━━━━━━━━━━━━━━━\u001b[0m\u001b[37m\u001b[0m \u001b[1m60s\u001b[0m 36ms/step - categorical_accuracy: 0.4245 - loss: 1.8945 - val_categorical_accuracy: 0.5836 - val_loss: 1.3475\n",
      "Epoch 2/15\n",
      "\u001b[1m 499/1647\u001b[0m \u001b[32m━━━━━━\u001b[0m\u001b[37m━━━━━━━━━━━━━━\u001b[0m \u001b[1m43s\u001b[0m 38ms/step - categorical_accuracy: 0.5795 - loss: 1.3417"
     ]
    },
    {
     "ename": "KeyboardInterrupt",
     "evalue": "",
     "output_type": "error",
     "traceback": [
      "\u001b[1;31m---------------------------------------------------------------------------\u001b[0m",
      "\u001b[1;31mKeyboardInterrupt\u001b[0m                         Traceback (most recent call last)",
      "Cell \u001b[1;32mIn[19], line 13\u001b[0m\n\u001b[0;32m     11\u001b[0m model\u001b[38;5;241m.\u001b[39madd(Dense(\u001b[38;5;241m24\u001b[39m, activation \u001b[38;5;241m=\u001b[39m \u001b[38;5;124m\"\u001b[39m\u001b[38;5;124msoftmax\u001b[39m\u001b[38;5;124m\"\u001b[39m))\n\u001b[0;32m     12\u001b[0m model\u001b[38;5;241m.\u001b[39mcompile(loss\u001b[38;5;241m=\u001b[39m\u001b[38;5;124m'\u001b[39m\u001b[38;5;124mcategorical_crossentropy\u001b[39m\u001b[38;5;124m'\u001b[39m, optimizer\u001b[38;5;241m=\u001b[39m\u001b[38;5;124m\"\u001b[39m\u001b[38;5;124madam\u001b[39m\u001b[38;5;124m\"\u001b[39m,  metrics\u001b[38;5;241m=\u001b[39m[\u001b[38;5;124m'\u001b[39m\u001b[38;5;124mcategorical_accuracy\u001b[39m\u001b[38;5;124m'\u001b[39m])\n\u001b[1;32m---> 13\u001b[0m hist \u001b[38;5;241m=\u001b[39m \u001b[43mmodel\u001b[49m\u001b[38;5;241;43m.\u001b[39;49m\u001b[43mfit\u001b[49m\u001b[43m(\u001b[49m\u001b[43mX_train\u001b[49m\u001b[43m,\u001b[49m\u001b[43my_train\u001b[49m\u001b[43m,\u001b[49m\u001b[43m \u001b[49m\u001b[43mepochs\u001b[49m\u001b[38;5;241;43m=\u001b[39;49m\u001b[43m \u001b[49m\u001b[38;5;241;43m15\u001b[39;49m\u001b[43m,\u001b[49m\u001b[43mvalidation_data\u001b[49m\u001b[38;5;241;43m=\u001b[39;49m\u001b[43m(\u001b[49m\u001b[43mX_val\u001b[49m\u001b[43m,\u001b[49m\u001b[43m \u001b[49m\u001b[43my_val\u001b[49m\u001b[43m)\u001b[49m\u001b[43m,\u001b[49m\u001b[43m \u001b[49m\u001b[43mbatch_size\u001b[49m\u001b[43m \u001b[49m\u001b[38;5;241;43m=\u001b[39;49m\u001b[43m \u001b[49m\u001b[38;5;241;43m64\u001b[39;49m\u001b[43m)\u001b[49m\n\u001b[0;32m     14\u001b[0m accs\u001b[38;5;241m.\u001b[39mappend(hist\u001b[38;5;241m.\u001b[39mhistory[\u001b[38;5;124m'\u001b[39m\u001b[38;5;124mval_categorical_accuracy\u001b[39m\u001b[38;5;124m'\u001b[39m][\u001b[38;5;241m9\u001b[39m])\n\u001b[0;32m     15\u001b[0m model\u001b[38;5;241m.\u001b[39msave (\u001b[38;5;124m\"\u001b[39m\u001b[38;5;124mmodel\u001b[39m\u001b[38;5;124m\"\u001b[39m\u001b[38;5;241m+\u001b[39m\u001b[38;5;28mstr\u001b[39m(i)\u001b[38;5;241m+\u001b[39m\u001b[38;5;124m\"\u001b[39m\u001b[38;5;124m.h5\u001b[39m\u001b[38;5;124m\"\u001b[39m)\n",
      "File \u001b[1;32mc:\\Users\\Locc\\AppData\\Local\\Programs\\Python\\Python311\\Lib\\site-packages\\keras\\src\\utils\\traceback_utils.py:117\u001b[0m, in \u001b[0;36mfilter_traceback.<locals>.error_handler\u001b[1;34m(*args, **kwargs)\u001b[0m\n\u001b[0;32m    115\u001b[0m filtered_tb \u001b[38;5;241m=\u001b[39m \u001b[38;5;28;01mNone\u001b[39;00m\n\u001b[0;32m    116\u001b[0m \u001b[38;5;28;01mtry\u001b[39;00m:\n\u001b[1;32m--> 117\u001b[0m     \u001b[38;5;28;01mreturn\u001b[39;00m \u001b[43mfn\u001b[49m\u001b[43m(\u001b[49m\u001b[38;5;241;43m*\u001b[39;49m\u001b[43margs\u001b[49m\u001b[43m,\u001b[49m\u001b[43m \u001b[49m\u001b[38;5;241;43m*\u001b[39;49m\u001b[38;5;241;43m*\u001b[39;49m\u001b[43mkwargs\u001b[49m\u001b[43m)\u001b[49m\n\u001b[0;32m    118\u001b[0m \u001b[38;5;28;01mexcept\u001b[39;00m \u001b[38;5;167;01mException\u001b[39;00m \u001b[38;5;28;01mas\u001b[39;00m e:\n\u001b[0;32m    119\u001b[0m     filtered_tb \u001b[38;5;241m=\u001b[39m _process_traceback_frames(e\u001b[38;5;241m.\u001b[39m__traceback__)\n",
      "File \u001b[1;32mc:\\Users\\Locc\\AppData\\Local\\Programs\\Python\\Python311\\Lib\\site-packages\\keras\\src\\backend\\tensorflow\\trainer.py:316\u001b[0m, in \u001b[0;36mTensorFlowTrainer.fit\u001b[1;34m(self, x, y, batch_size, epochs, verbose, callbacks, validation_split, validation_data, shuffle, class_weight, sample_weight, initial_epoch, steps_per_epoch, validation_steps, validation_batch_size, validation_freq)\u001b[0m\n\u001b[0;32m    314\u001b[0m logs \u001b[38;5;241m=\u001b[39m \u001b[38;5;28mself\u001b[39m\u001b[38;5;241m.\u001b[39mtrain_function(iterator)\n\u001b[0;32m    315\u001b[0m logs \u001b[38;5;241m=\u001b[39m \u001b[38;5;28mself\u001b[39m\u001b[38;5;241m.\u001b[39m_pythonify_logs(logs)\n\u001b[1;32m--> 316\u001b[0m \u001b[43mcallbacks\u001b[49m\u001b[38;5;241;43m.\u001b[39;49m\u001b[43mon_train_batch_end\u001b[49m\u001b[43m(\u001b[49m\u001b[43mstep\u001b[49m\u001b[43m,\u001b[49m\u001b[43m \u001b[49m\u001b[43mlogs\u001b[49m\u001b[43m)\u001b[49m\n\u001b[0;32m    317\u001b[0m \u001b[38;5;28;01mif\u001b[39;00m \u001b[38;5;28mself\u001b[39m\u001b[38;5;241m.\u001b[39mstop_training:\n\u001b[0;32m    318\u001b[0m     \u001b[38;5;28;01mbreak\u001b[39;00m\n",
      "File \u001b[1;32mc:\\Users\\Locc\\AppData\\Local\\Programs\\Python\\Python311\\Lib\\site-packages\\keras\\src\\callbacks\\callback_list.py:106\u001b[0m, in \u001b[0;36mCallbackList.on_train_batch_end\u001b[1;34m(self, batch, logs)\u001b[0m\n\u001b[0;32m    104\u001b[0m logs \u001b[38;5;241m=\u001b[39m logs \u001b[38;5;129;01mor\u001b[39;00m {}\n\u001b[0;32m    105\u001b[0m \u001b[38;5;28;01mfor\u001b[39;00m callback \u001b[38;5;129;01min\u001b[39;00m \u001b[38;5;28mself\u001b[39m\u001b[38;5;241m.\u001b[39mcallbacks:\n\u001b[1;32m--> 106\u001b[0m     \u001b[43mcallback\u001b[49m\u001b[38;5;241;43m.\u001b[39;49m\u001b[43mon_train_batch_end\u001b[49m\u001b[43m(\u001b[49m\u001b[43mbatch\u001b[49m\u001b[43m,\u001b[49m\u001b[43m \u001b[49m\u001b[43mlogs\u001b[49m\u001b[38;5;241;43m=\u001b[39;49m\u001b[43mlogs\u001b[49m\u001b[43m)\u001b[49m\n",
      "File \u001b[1;32mc:\\Users\\Locc\\AppData\\Local\\Programs\\Python\\Python311\\Lib\\site-packages\\keras\\src\\callbacks\\progbar_logger.py:58\u001b[0m, in \u001b[0;36mProgbarLogger.on_train_batch_end\u001b[1;34m(self, batch, logs)\u001b[0m\n\u001b[0;32m     57\u001b[0m \u001b[38;5;28;01mdef\u001b[39;00m \u001b[38;5;21mon_train_batch_end\u001b[39m(\u001b[38;5;28mself\u001b[39m, batch, logs\u001b[38;5;241m=\u001b[39m\u001b[38;5;28;01mNone\u001b[39;00m):\n\u001b[1;32m---> 58\u001b[0m     \u001b[38;5;28;43mself\u001b[39;49m\u001b[38;5;241;43m.\u001b[39;49m\u001b[43m_update_progbar\u001b[49m\u001b[43m(\u001b[49m\u001b[43mbatch\u001b[49m\u001b[43m,\u001b[49m\u001b[43m \u001b[49m\u001b[43mlogs\u001b[49m\u001b[43m)\u001b[49m\n",
      "File \u001b[1;32mc:\\Users\\Locc\\AppData\\Local\\Programs\\Python\\Python311\\Lib\\site-packages\\keras\\src\\callbacks\\progbar_logger.py:95\u001b[0m, in \u001b[0;36mProgbarLogger._update_progbar\u001b[1;34m(self, batch, logs)\u001b[0m\n\u001b[0;32m     92\u001b[0m \u001b[38;5;28mself\u001b[39m\u001b[38;5;241m.\u001b[39mseen \u001b[38;5;241m=\u001b[39m batch \u001b[38;5;241m+\u001b[39m \u001b[38;5;241m1\u001b[39m  \u001b[38;5;66;03m# One-indexed.\u001b[39;00m\n\u001b[0;32m     94\u001b[0m \u001b[38;5;28;01mif\u001b[39;00m \u001b[38;5;28mself\u001b[39m\u001b[38;5;241m.\u001b[39mverbose \u001b[38;5;241m==\u001b[39m \u001b[38;5;241m1\u001b[39m:\n\u001b[1;32m---> 95\u001b[0m     \u001b[38;5;28;43mself\u001b[39;49m\u001b[38;5;241;43m.\u001b[39;49m\u001b[43mprogbar\u001b[49m\u001b[38;5;241;43m.\u001b[39;49m\u001b[43mupdate\u001b[49m\u001b[43m(\u001b[49m\u001b[38;5;28;43mself\u001b[39;49m\u001b[38;5;241;43m.\u001b[39;49m\u001b[43mseen\u001b[49m\u001b[43m,\u001b[49m\u001b[43m \u001b[49m\u001b[38;5;28;43mlist\u001b[39;49m\u001b[43m(\u001b[49m\u001b[43mlogs\u001b[49m\u001b[38;5;241;43m.\u001b[39;49m\u001b[43mitems\u001b[49m\u001b[43m(\u001b[49m\u001b[43m)\u001b[49m\u001b[43m)\u001b[49m\u001b[43m,\u001b[49m\u001b[43m \u001b[49m\u001b[43mfinalize\u001b[49m\u001b[38;5;241;43m=\u001b[39;49m\u001b[38;5;28;43;01mFalse\u001b[39;49;00m\u001b[43m)\u001b[49m\n",
      "File \u001b[1;32mc:\\Users\\Locc\\AppData\\Local\\Programs\\Python\\Python311\\Lib\\site-packages\\keras\\src\\utils\\progbar.py:182\u001b[0m, in \u001b[0;36mProgbar.update\u001b[1;34m(self, current, values, finalize)\u001b[0m\n\u001b[0;32m    179\u001b[0m \u001b[38;5;28;01mif\u001b[39;00m finalize:\n\u001b[0;32m    180\u001b[0m     message \u001b[38;5;241m+\u001b[39m\u001b[38;5;241m=\u001b[39m \u001b[38;5;124m\"\u001b[39m\u001b[38;5;130;01m\\n\u001b[39;00m\u001b[38;5;124m\"\u001b[39m\n\u001b[1;32m--> 182\u001b[0m \u001b[43mio_utils\u001b[49m\u001b[38;5;241;43m.\u001b[39;49m\u001b[43mprint_msg\u001b[49m\u001b[43m(\u001b[49m\u001b[43mmessage\u001b[49m\u001b[43m,\u001b[49m\u001b[43m \u001b[49m\u001b[43mline_break\u001b[49m\u001b[38;5;241;43m=\u001b[39;49m\u001b[38;5;28;43;01mFalse\u001b[39;49;00m\u001b[43m)\u001b[49m\n\u001b[0;32m    183\u001b[0m \u001b[38;5;28mself\u001b[39m\u001b[38;5;241m.\u001b[39m_prev_total_width \u001b[38;5;241m=\u001b[39m total_width\n\u001b[0;32m    184\u001b[0m message \u001b[38;5;241m=\u001b[39m \u001b[38;5;124m\"\u001b[39m\u001b[38;5;124m\"\u001b[39m\n",
      "File \u001b[1;32mc:\\Users\\Locc\\AppData\\Local\\Programs\\Python\\Python311\\Lib\\site-packages\\keras\\src\\utils\\io_utils.py:99\u001b[0m, in \u001b[0;36mprint_msg\u001b[1;34m(message, line_break)\u001b[0m\n\u001b[0;32m     97\u001b[0m     \u001b[38;5;28;01melse\u001b[39;00m:\n\u001b[0;32m     98\u001b[0m         sys\u001b[38;5;241m.\u001b[39mstdout\u001b[38;5;241m.\u001b[39mwrite(message)\n\u001b[1;32m---> 99\u001b[0m     \u001b[43msys\u001b[49m\u001b[38;5;241;43m.\u001b[39;49m\u001b[43mstdout\u001b[49m\u001b[38;5;241;43m.\u001b[39;49m\u001b[43mflush\u001b[49m\u001b[43m(\u001b[49m\u001b[43m)\u001b[49m\n\u001b[0;32m    100\u001b[0m \u001b[38;5;28;01melse\u001b[39;00m:\n\u001b[0;32m    101\u001b[0m     logging\u001b[38;5;241m.\u001b[39minfo(message)\n",
      "File \u001b[1;32m~\\AppData\\Roaming\\Python\\Python311\\site-packages\\ipykernel\\iostream.py:609\u001b[0m, in \u001b[0;36mOutStream.flush\u001b[1;34m(self)\u001b[0m\n\u001b[0;32m    607\u001b[0m     \u001b[38;5;28mself\u001b[39m\u001b[38;5;241m.\u001b[39mpub_thread\u001b[38;5;241m.\u001b[39mschedule(evt\u001b[38;5;241m.\u001b[39mset)\n\u001b[0;32m    608\u001b[0m     \u001b[38;5;66;03m# and give a timeout to avoid\u001b[39;00m\n\u001b[1;32m--> 609\u001b[0m     \u001b[38;5;28;01mif\u001b[39;00m \u001b[38;5;129;01mnot\u001b[39;00m \u001b[43mevt\u001b[49m\u001b[38;5;241;43m.\u001b[39;49m\u001b[43mwait\u001b[49m\u001b[43m(\u001b[49m\u001b[38;5;28;43mself\u001b[39;49m\u001b[38;5;241;43m.\u001b[39;49m\u001b[43mflush_timeout\u001b[49m\u001b[43m)\u001b[49m:\n\u001b[0;32m    610\u001b[0m         \u001b[38;5;66;03m# write directly to __stderr__ instead of warning because\u001b[39;00m\n\u001b[0;32m    611\u001b[0m         \u001b[38;5;66;03m# if this is happening sys.stderr may be the problem.\u001b[39;00m\n\u001b[0;32m    612\u001b[0m         \u001b[38;5;28mprint\u001b[39m(\u001b[38;5;124m\"\u001b[39m\u001b[38;5;124mIOStream.flush timed out\u001b[39m\u001b[38;5;124m\"\u001b[39m, file\u001b[38;5;241m=\u001b[39msys\u001b[38;5;241m.\u001b[39m__stderr__)\n\u001b[0;32m    613\u001b[0m \u001b[38;5;28;01melse\u001b[39;00m:\n",
      "File \u001b[1;32mc:\\Users\\Locc\\AppData\\Local\\Programs\\Python\\Python311\\Lib\\threading.py:629\u001b[0m, in \u001b[0;36mEvent.wait\u001b[1;34m(self, timeout)\u001b[0m\n\u001b[0;32m    627\u001b[0m signaled \u001b[38;5;241m=\u001b[39m \u001b[38;5;28mself\u001b[39m\u001b[38;5;241m.\u001b[39m_flag\n\u001b[0;32m    628\u001b[0m \u001b[38;5;28;01mif\u001b[39;00m \u001b[38;5;129;01mnot\u001b[39;00m signaled:\n\u001b[1;32m--> 629\u001b[0m     signaled \u001b[38;5;241m=\u001b[39m \u001b[38;5;28;43mself\u001b[39;49m\u001b[38;5;241;43m.\u001b[39;49m\u001b[43m_cond\u001b[49m\u001b[38;5;241;43m.\u001b[39;49m\u001b[43mwait\u001b[49m\u001b[43m(\u001b[49m\u001b[43mtimeout\u001b[49m\u001b[43m)\u001b[49m\n\u001b[0;32m    630\u001b[0m \u001b[38;5;28;01mreturn\u001b[39;00m signaled\n",
      "File \u001b[1;32mc:\\Users\\Locc\\AppData\\Local\\Programs\\Python\\Python311\\Lib\\threading.py:331\u001b[0m, in \u001b[0;36mCondition.wait\u001b[1;34m(self, timeout)\u001b[0m\n\u001b[0;32m    329\u001b[0m \u001b[38;5;28;01melse\u001b[39;00m:\n\u001b[0;32m    330\u001b[0m     \u001b[38;5;28;01mif\u001b[39;00m timeout \u001b[38;5;241m>\u001b[39m \u001b[38;5;241m0\u001b[39m:\n\u001b[1;32m--> 331\u001b[0m         gotit \u001b[38;5;241m=\u001b[39m \u001b[43mwaiter\u001b[49m\u001b[38;5;241;43m.\u001b[39;49m\u001b[43macquire\u001b[49m\u001b[43m(\u001b[49m\u001b[38;5;28;43;01mTrue\u001b[39;49;00m\u001b[43m,\u001b[49m\u001b[43m \u001b[49m\u001b[43mtimeout\u001b[49m\u001b[43m)\u001b[49m\n\u001b[0;32m    332\u001b[0m     \u001b[38;5;28;01melse\u001b[39;00m:\n\u001b[0;32m    333\u001b[0m         gotit \u001b[38;5;241m=\u001b[39m waiter\u001b[38;5;241m.\u001b[39macquire(\u001b[38;5;28;01mFalse\u001b[39;00m)\n",
      "\u001b[1;31mKeyboardInterrupt\u001b[0m: "
     ]
    }
   ],
   "source": [
    "accs = []\n",
    "for i in range (1,6):\n",
    "    K.clear_session()\n",
    "    model = Sequential()\n",
    "    model.add(Dense(2048, activation=\"relu\", input_dim=len(X_train.values[1])))\n",
    "    model.add(Dropout(0.3))\n",
    "    model.add(Dense(1024, activation=\"relu\"))\n",
    "    model.add(Dropout(0.2))\n",
    "    model.add(Dense(512, activation=\"relu\"))\n",
    "    model.add(Dropout(0.2))\n",
    "    model.add(Dense(24, activation = \"softmax\"))\n",
    "    model.compile(loss='categorical_crossentropy', optimizer=\"adam\",  metrics=['categorical_accuracy'])\n",
    "    hist = model.fit(X_train,y_train, epochs= 15,validation_data=(X_val, y_val), batch_size = 64)\n",
    "    accs.append(hist.history['val_categorical_accuracy'][9])\n",
    "    model.save (\"model\"+str(i)+\".h5\")"
   ]
  },
  {
   "cell_type": "code",
   "execution_count": null,
   "metadata": {
    "ExecuteTime": {
     "end_time": "2019-11-06T09:53:12.133191Z",
     "start_time": "2019-11-06T09:53:12.129201Z"
    },
    "scrolled": true
   },
   "outputs": [
    {
     "name": "stdout",
     "output_type": "stream",
     "text": [
      "0.7319564144768591\n"
     ]
    }
   ],
   "source": [
    "suma = 0\n",
    "for i in accs:\n",
    "    suma = suma + i\n",
    "print(suma/5)"
   ]
  }
 ],
 "metadata": {
  "kernelspec": {
   "display_name": "Python 3",
   "language": "python",
   "name": "python3"
  },
  "language_info": {
   "codemirror_mode": {
    "name": "ipython",
    "version": 3
   },
   "file_extension": ".py",
   "mimetype": "text/x-python",
   "name": "python",
   "nbconvert_exporter": "python",
   "pygments_lexer": "ipython3",
   "version": "3.11.8"
  },
  "toc": {
   "base_numbering": 1,
   "nav_menu": {},
   "number_sections": true,
   "sideBar": true,
   "skip_h1_title": false,
   "title_cell": "Table of Contents",
   "title_sidebar": "Contents",
   "toc_cell": false,
   "toc_position": {},
   "toc_section_display": true,
   "toc_window_display": false
  }
 },
 "nbformat": 4,
 "nbformat_minor": 2
}
