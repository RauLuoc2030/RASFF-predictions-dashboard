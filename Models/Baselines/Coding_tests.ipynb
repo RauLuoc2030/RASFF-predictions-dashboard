{
 "cells": [
  {
   "cell_type": "code",
   "execution_count": 1,
   "metadata": {
    "ExecuteTime": {
     "end_time": "2019-11-05T15:07:09.047628Z",
     "start_time": "2019-11-05T15:07:09.041610Z"
    }
   },
   "outputs": [],
   "source": [
    "import numpy as np\n",
    "import pandas as pd\n",
    "import matplotlib.pyplot as plt\n",
    "from IPython.display import Image\n",
    "import category_encoders as ce\n",
    "import functools\n",
    "\n",
    "from keras.layers import Concatenate\n",
    "from keras.models import Sequential, Model\n",
    "from keras.layers import Dense, Dropout, Flatten, Input, MaxPooling1D, Conv1D, Embedding,Reshape, Concatenate,BatchNormalization,GlobalMaxPooling1D,GlobalAveragePooling1D\n",
    "# from keras.layers.merge import Concatenate\n",
    "from keras.preprocessing import sequence\n",
    "from keras.optimizers import RMSprop, Adam\n",
    "from keras.preprocessing.sequence import pad_sequences\n",
    "from keras.utils import to_categorical\n",
    "from keras.utils import plot_model\n",
    "from keras import backend as K\n",
    "# from keras.wrappers.scikit_learn import KerasClassifier\n",
    "from keras import metrics\n",
    "from keras import regularizers\n",
    "\n",
    "from sklearn.model_selection import train_test_split\n",
    "from sklearn.preprocessing import OneHotEncoder\n",
    "from sklearn.preprocessing import LabelBinarizer\n",
    "from sklearn import preprocessing\n",
    "from sklearn.model_selection import GridSearchCV \n",
    "from sklearn.metrics import classification_report\n",
    "from sklearn.preprocessing import OrdinalEncoder\n",
    "from sklearn.feature_extraction import FeatureHasher"
   ]
  },
  {
   "cell_type": "markdown",
   "metadata": {},
   "source": [
    "# Lectura de datos"
   ]
  },
  {
   "cell_type": "code",
   "execution_count": 2,
   "metadata": {
    "ExecuteTime": {
     "end_time": "2019-11-05T15:07:09.855479Z",
     "start_time": "2019-11-05T15:07:09.529324Z"
    }
   },
   "outputs": [
    {
     "data": {
      "text/html": [
       "<div>\n",
       "<style scoped>\n",
       "    .dataframe tbody tr th:only-of-type {\n",
       "        vertical-align: middle;\n",
       "    }\n",
       "\n",
       "    .dataframe tbody tr th {\n",
       "        vertical-align: top;\n",
       "    }\n",
       "\n",
       "    .dataframe thead th {\n",
       "        text-align: right;\n",
       "    }\n",
       "</style>\n",
       "<table border=\"1\" class=\"dataframe\">\n",
       "  <thead>\n",
       "    <tr style=\"text-align: right;\">\n",
       "      <th></th>\n",
       "      <th>DATE_CASE</th>\n",
       "      <th>NOT_COUNTRY</th>\n",
       "      <th>PROD_CAT</th>\n",
       "      <th>TYPE</th>\n",
       "      <th>RISK_DECISION</th>\n",
       "      <th>ACTION_TAKEN</th>\n",
       "      <th>DISTRIBUTION_STAT</th>\n",
       "      <th>HAZARDS_CAT</th>\n",
       "      <th>COUNT_ORIGEN</th>\n",
       "      <th>COUNT_DESTIN</th>\n",
       "      <th>COUNT_CONCERN</th>\n",
       "    </tr>\n",
       "  </thead>\n",
       "  <tbody>\n",
       "    <tr>\n",
       "      <th>59976</th>\n",
       "      <td>2014-10-27</td>\n",
       "      <td>France</td>\n",
       "      <td>milk and milk products</td>\n",
       "      <td>food</td>\n",
       "      <td>serious</td>\n",
       "      <td>recall from consumers</td>\n",
       "      <td>distribution to other member countries</td>\n",
       "      <td>microbial contaminants (other)</td>\n",
       "      <td>France</td>\n",
       "      <td>Germany</td>\n",
       "      <td>Commission Services</td>\n",
       "    </tr>\n",
       "    <tr>\n",
       "      <th>48103</th>\n",
       "      <td>2016-02-23</td>\n",
       "      <td>Italy</td>\n",
       "      <td>cephalopods and products thereof</td>\n",
       "      <td>food</td>\n",
       "      <td>serious</td>\n",
       "      <td>import not authorised</td>\n",
       "      <td>product not (yet) placed on the market</td>\n",
       "      <td>metals</td>\n",
       "      <td>India</td>\n",
       "      <td></td>\n",
       "      <td>Italy</td>\n",
       "    </tr>\n",
       "    <tr>\n",
       "      <th>33200</th>\n",
       "      <td>2017-07-13</td>\n",
       "      <td>Netherlands</td>\n",
       "      <td>cereals and bakery products</td>\n",
       "      <td>food</td>\n",
       "      <td>undecided</td>\n",
       "      <td>withdrawal from recipient(s)</td>\n",
       "      <td>distribution to other member countries</td>\n",
       "      <td>food additives and flavourings</td>\n",
       "      <td>United States</td>\n",
       "      <td>Austria</td>\n",
       "      <td></td>\n",
       "    </tr>\n",
       "    <tr>\n",
       "      <th>119457</th>\n",
       "      <td>2007-11-08</td>\n",
       "      <td>Slovakia</td>\n",
       "      <td>confectionery</td>\n",
       "      <td>food</td>\n",
       "      <td>undecided</td>\n",
       "      <td>withdrawal from the market</td>\n",
       "      <td>distribution on the market (possible)</td>\n",
       "      <td>food additives and flavourings</td>\n",
       "      <td>Spain</td>\n",
       "      <td>Slovakia</td>\n",
       "      <td>Czech Republic</td>\n",
       "    </tr>\n",
       "    <tr>\n",
       "      <th>89098</th>\n",
       "      <td>2011-11-28</td>\n",
       "      <td>Germany</td>\n",
       "      <td>cereals and bakery products</td>\n",
       "      <td>food</td>\n",
       "      <td>undecided</td>\n",
       "      <td>withdrawal from the market</td>\n",
       "      <td>distribution to other member countries</td>\n",
       "      <td>mycotoxins</td>\n",
       "      <td>Sweden</td>\n",
       "      <td>Slovakia</td>\n",
       "      <td></td>\n",
       "    </tr>\n",
       "    <tr>\n",
       "      <th>...</th>\n",
       "      <td>...</td>\n",
       "      <td>...</td>\n",
       "      <td>...</td>\n",
       "      <td>...</td>\n",
       "      <td>...</td>\n",
       "      <td>...</td>\n",
       "      <td>...</td>\n",
       "      <td>...</td>\n",
       "      <td>...</td>\n",
       "      <td>...</td>\n",
       "      <td>...</td>\n",
       "    </tr>\n",
       "    <tr>\n",
       "      <th>96666</th>\n",
       "      <td>2011-01-17</td>\n",
       "      <td>Germany</td>\n",
       "      <td>non-alcoholic beverages</td>\n",
       "      <td>food</td>\n",
       "      <td>undecided</td>\n",
       "      <td>withdrawal from the market</td>\n",
       "      <td>distribution on the market (possible)</td>\n",
       "      <td>foreign bodies</td>\n",
       "      <td>Germany</td>\n",
       "      <td>Austria</td>\n",
       "      <td></td>\n",
       "    </tr>\n",
       "    <tr>\n",
       "      <th>121940</th>\n",
       "      <td>2007-05-31</td>\n",
       "      <td>United Kingdom</td>\n",
       "      <td>fats and oils</td>\n",
       "      <td>food</td>\n",
       "      <td>undecided</td>\n",
       "      <td>withdrawal from the market</td>\n",
       "      <td>distribution on the market (possible)</td>\n",
       "      <td>organoleptic aspects</td>\n",
       "      <td>United Kingdom</td>\n",
       "      <td>Greece</td>\n",
       "      <td></td>\n",
       "    </tr>\n",
       "    <tr>\n",
       "      <th>36099</th>\n",
       "      <td>2017-04-27</td>\n",
       "      <td>Belgium</td>\n",
       "      <td>fruits and vegetables</td>\n",
       "      <td>food</td>\n",
       "      <td>serious</td>\n",
       "      <td>withdrawal from the market</td>\n",
       "      <td>distribution to other member countries</td>\n",
       "      <td>metals</td>\n",
       "      <td>France</td>\n",
       "      <td>France</td>\n",
       "      <td>INFOSAN</td>\n",
       "    </tr>\n",
       "    <tr>\n",
       "      <th>102067</th>\n",
       "      <td>2010-04-01</td>\n",
       "      <td>Germany</td>\n",
       "      <td>food contact materials</td>\n",
       "      <td>fcm</td>\n",
       "      <td>undecided</td>\n",
       "      <td>withdrawal from the market</td>\n",
       "      <td>distribution on the market (possible)</td>\n",
       "      <td>metals</td>\n",
       "      <td>China</td>\n",
       "      <td>Slovakia</td>\n",
       "      <td>Commission Services</td>\n",
       "    </tr>\n",
       "    <tr>\n",
       "      <th>22920</th>\n",
       "      <td>2018-02-22</td>\n",
       "      <td>Germany</td>\n",
       "      <td>meat and meat products (other than poultry)</td>\n",
       "      <td>food</td>\n",
       "      <td>serious</td>\n",
       "      <td>official detention</td>\n",
       "      <td>distribution to other member countries</td>\n",
       "      <td>microbial contaminants (other)</td>\n",
       "      <td>Argentina</td>\n",
       "      <td>Hungary</td>\n",
       "      <td>INFOSAN</td>\n",
       "    </tr>\n",
       "  </tbody>\n",
       "</table>\n",
       "<p>141529 rows × 11 columns</p>\n",
       "</div>"
      ],
      "text/plain": [
       "         DATE_CASE     NOT_COUNTRY  \\\n",
       "59976   2014-10-27          France   \n",
       "48103   2016-02-23           Italy   \n",
       "33200   2017-07-13     Netherlands   \n",
       "119457  2007-11-08        Slovakia   \n",
       "89098   2011-11-28         Germany   \n",
       "...            ...             ...   \n",
       "96666   2011-01-17         Germany   \n",
       "121940  2007-05-31  United Kingdom   \n",
       "36099   2017-04-27         Belgium   \n",
       "102067  2010-04-01         Germany   \n",
       "22920   2018-02-22         Germany   \n",
       "\n",
       "                                           PROD_CAT  TYPE RISK_DECISION  \\\n",
       "59976                        milk and milk products  food       serious   \n",
       "48103              cephalopods and products thereof  food       serious   \n",
       "33200                   cereals and bakery products  food     undecided   \n",
       "119457                                confectionery  food     undecided   \n",
       "89098                   cereals and bakery products  food     undecided   \n",
       "...                                             ...   ...           ...   \n",
       "96666                       non-alcoholic beverages  food     undecided   \n",
       "121940                                fats and oils  food     undecided   \n",
       "36099                         fruits and vegetables  food       serious   \n",
       "102067                       food contact materials   fcm     undecided   \n",
       "22920   meat and meat products (other than poultry)  food       serious   \n",
       "\n",
       "                        ACTION_TAKEN                       DISTRIBUTION_STAT  \\\n",
       "59976          recall from consumers  distribution to other member countries   \n",
       "48103          import not authorised  product not (yet) placed on the market   \n",
       "33200   withdrawal from recipient(s)  distribution to other member countries   \n",
       "119457    withdrawal from the market   distribution on the market (possible)   \n",
       "89098     withdrawal from the market  distribution to other member countries   \n",
       "...                              ...                                     ...   \n",
       "96666     withdrawal from the market   distribution on the market (possible)   \n",
       "121940    withdrawal from the market   distribution on the market (possible)   \n",
       "36099     withdrawal from the market  distribution to other member countries   \n",
       "102067    withdrawal from the market   distribution on the market (possible)   \n",
       "22920             official detention  distribution to other member countries   \n",
       "\n",
       "                           HAZARDS_CAT    COUNT_ORIGEN COUNT_DESTIN  \\\n",
       "59976   microbial contaminants (other)          France      Germany   \n",
       "48103                           metals           India                \n",
       "33200   food additives and flavourings   United States      Austria   \n",
       "119457  food additives and flavourings           Spain     Slovakia   \n",
       "89098                       mycotoxins          Sweden     Slovakia   \n",
       "...                                ...             ...          ...   \n",
       "96666                   foreign bodies         Germany      Austria   \n",
       "121940            organoleptic aspects  United Kingdom       Greece   \n",
       "36099                           metals          France       France   \n",
       "102067                          metals           China     Slovakia   \n",
       "22920   microbial contaminants (other)       Argentina      Hungary   \n",
       "\n",
       "              COUNT_CONCERN  \n",
       "59976   Commission Services  \n",
       "48103                 Italy  \n",
       "33200                        \n",
       "119457       Czech Republic  \n",
       "89098                        \n",
       "...                     ...  \n",
       "96666                        \n",
       "121940                       \n",
       "36099               INFOSAN  \n",
       "102067  Commission Services  \n",
       "22920               INFOSAN  \n",
       "\n",
       "[141529 rows x 11 columns]"
      ]
     },
     "execution_count": 2,
     "metadata": {},
     "output_type": "execute_result"
    }
   ],
   "source": [
    "data = pd.read_csv('D:/Visual Studio Code/HK 6/Data Mining/RASFF-predictions-dashboard/Copia csvs antiguos/splited_RASFF_DATA_16092019.csv', sep=';', \n",
    "                header=0, index_col = 0)\n",
    "data ['DATE_CASE'] = data ['DATE_CASE'].astype(str)\n",
    "data ['HAZARDS_CAT'] = data ['HAZARDS_CAT'].astype(str)\n",
    "data = data.sample(frac = 1)\n",
    "df = data\n",
    "df"
   ]
  },
  {
   "cell_type": "code",
   "execution_count": 3,
   "metadata": {
    "ExecuteTime": {
     "end_time": "2019-11-05T15:07:10.270056Z",
     "start_time": "2019-11-05T15:07:10.240159Z"
    }
   },
   "outputs": [
    {
     "name": "stderr",
     "output_type": "stream",
     "text": [
      "C:\\Users\\Locc\\AppData\\Local\\Temp\\ipykernel_14896\\335135510.py:3: SettingWithCopyWarning: \n",
      "A value is trying to be set on a copy of a slice from a DataFrame.\n",
      "Try using .loc[row_indexer,col_indexer] = value instead\n",
      "\n",
      "See the caveats in the documentation: https://pandas.pydata.org/pandas-docs/stable/user_guide/indexing.html#returning-a-view-versus-a-copy\n",
      "  df['DATE_CASE'] =pd.to_datetime(df.DATE_CASE)\n",
      "C:\\Users\\Locc\\AppData\\Local\\Temp\\ipykernel_14896\\335135510.py:4: SettingWithCopyWarning: \n",
      "A value is trying to be set on a copy of a slice from a DataFrame.\n",
      "Try using .loc[row_indexer,col_indexer] = value instead\n",
      "\n",
      "See the caveats in the documentation: https://pandas.pydata.org/pandas-docs/stable/user_guide/indexing.html#returning-a-view-versus-a-copy\n",
      "  df['DATE_CASE'] = df.DATE_CASE.dt.month\n"
     ]
    }
   ],
   "source": [
    "mask = (df['DATE_CASE'] >= '2004-01-01') & (df['DATE_CASE'] <= '2018-12-31')\n",
    "df = df.loc[mask]\n",
    "df['DATE_CASE'] =pd.to_datetime(df.DATE_CASE)\n",
    "df['DATE_CASE'] = df.DATE_CASE.dt.month"
   ]
  },
  {
   "cell_type": "code",
   "execution_count": 4,
   "metadata": {
    "ExecuteTime": {
     "end_time": "2019-11-05T15:07:11.786191Z",
     "start_time": "2019-11-05T15:07:11.776240Z"
    }
   },
   "outputs": [],
   "source": [
    "features = [0,1,2,6,7,8]\n",
    "target = [5]\n",
    "X = df.iloc[:,features]\n",
    "y = df.iloc[:,target]"
   ]
  },
  {
   "cell_type": "code",
   "execution_count": 5,
   "metadata": {
    "ExecuteTime": {
     "end_time": "2019-11-05T15:07:12.344412Z",
     "start_time": "2019-11-05T15:07:12.323496Z"
    },
    "scrolled": true
   },
   "outputs": [
    {
     "data": {
      "text/html": [
       "<div>\n",
       "<style scoped>\n",
       "    .dataframe tbody tr th:only-of-type {\n",
       "        vertical-align: middle;\n",
       "    }\n",
       "\n",
       "    .dataframe tbody tr th {\n",
       "        vertical-align: top;\n",
       "    }\n",
       "\n",
       "    .dataframe thead th {\n",
       "        text-align: right;\n",
       "    }\n",
       "</style>\n",
       "<table border=\"1\" class=\"dataframe\">\n",
       "  <thead>\n",
       "    <tr style=\"text-align: right;\">\n",
       "      <th></th>\n",
       "      <th>DATE_CASE</th>\n",
       "      <th>NOT_COUNTRY</th>\n",
       "      <th>PROD_CAT</th>\n",
       "      <th>DISTRIBUTION_STAT</th>\n",
       "      <th>HAZARDS_CAT</th>\n",
       "      <th>COUNT_ORIGEN</th>\n",
       "    </tr>\n",
       "  </thead>\n",
       "  <tbody>\n",
       "    <tr>\n",
       "      <th>59976</th>\n",
       "      <td>10</td>\n",
       "      <td>France</td>\n",
       "      <td>milk and milk products</td>\n",
       "      <td>distribution to other member countries</td>\n",
       "      <td>microbial contaminants (other)</td>\n",
       "      <td>France</td>\n",
       "    </tr>\n",
       "    <tr>\n",
       "      <th>48103</th>\n",
       "      <td>2</td>\n",
       "      <td>Italy</td>\n",
       "      <td>cephalopods and products thereof</td>\n",
       "      <td>product not (yet) placed on the market</td>\n",
       "      <td>metals</td>\n",
       "      <td>India</td>\n",
       "    </tr>\n",
       "    <tr>\n",
       "      <th>33200</th>\n",
       "      <td>7</td>\n",
       "      <td>Netherlands</td>\n",
       "      <td>cereals and bakery products</td>\n",
       "      <td>distribution to other member countries</td>\n",
       "      <td>food additives and flavourings</td>\n",
       "      <td>United States</td>\n",
       "    </tr>\n",
       "    <tr>\n",
       "      <th>119457</th>\n",
       "      <td>11</td>\n",
       "      <td>Slovakia</td>\n",
       "      <td>confectionery</td>\n",
       "      <td>distribution on the market (possible)</td>\n",
       "      <td>food additives and flavourings</td>\n",
       "      <td>Spain</td>\n",
       "    </tr>\n",
       "    <tr>\n",
       "      <th>89098</th>\n",
       "      <td>11</td>\n",
       "      <td>Germany</td>\n",
       "      <td>cereals and bakery products</td>\n",
       "      <td>distribution to other member countries</td>\n",
       "      <td>mycotoxins</td>\n",
       "      <td>Sweden</td>\n",
       "    </tr>\n",
       "    <tr>\n",
       "      <th>...</th>\n",
       "      <td>...</td>\n",
       "      <td>...</td>\n",
       "      <td>...</td>\n",
       "      <td>...</td>\n",
       "      <td>...</td>\n",
       "      <td>...</td>\n",
       "    </tr>\n",
       "    <tr>\n",
       "      <th>96666</th>\n",
       "      <td>1</td>\n",
       "      <td>Germany</td>\n",
       "      <td>non-alcoholic beverages</td>\n",
       "      <td>distribution on the market (possible)</td>\n",
       "      <td>foreign bodies</td>\n",
       "      <td>Germany</td>\n",
       "    </tr>\n",
       "    <tr>\n",
       "      <th>121940</th>\n",
       "      <td>5</td>\n",
       "      <td>United Kingdom</td>\n",
       "      <td>fats and oils</td>\n",
       "      <td>distribution on the market (possible)</td>\n",
       "      <td>organoleptic aspects</td>\n",
       "      <td>United Kingdom</td>\n",
       "    </tr>\n",
       "    <tr>\n",
       "      <th>36099</th>\n",
       "      <td>4</td>\n",
       "      <td>Belgium</td>\n",
       "      <td>fruits and vegetables</td>\n",
       "      <td>distribution to other member countries</td>\n",
       "      <td>metals</td>\n",
       "      <td>France</td>\n",
       "    </tr>\n",
       "    <tr>\n",
       "      <th>102067</th>\n",
       "      <td>4</td>\n",
       "      <td>Germany</td>\n",
       "      <td>food contact materials</td>\n",
       "      <td>distribution on the market (possible)</td>\n",
       "      <td>metals</td>\n",
       "      <td>China</td>\n",
       "    </tr>\n",
       "    <tr>\n",
       "      <th>22920</th>\n",
       "      <td>2</td>\n",
       "      <td>Germany</td>\n",
       "      <td>meat and meat products (other than poultry)</td>\n",
       "      <td>distribution to other member countries</td>\n",
       "      <td>microbial contaminants (other)</td>\n",
       "      <td>Argentina</td>\n",
       "    </tr>\n",
       "  </tbody>\n",
       "</table>\n",
       "<p>131694 rows × 6 columns</p>\n",
       "</div>"
      ],
      "text/plain": [
       "        DATE_CASE     NOT_COUNTRY  \\\n",
       "59976          10          France   \n",
       "48103           2           Italy   \n",
       "33200           7     Netherlands   \n",
       "119457         11        Slovakia   \n",
       "89098          11         Germany   \n",
       "...           ...             ...   \n",
       "96666           1         Germany   \n",
       "121940          5  United Kingdom   \n",
       "36099           4         Belgium   \n",
       "102067          4         Germany   \n",
       "22920           2         Germany   \n",
       "\n",
       "                                           PROD_CAT  \\\n",
       "59976                        milk and milk products   \n",
       "48103              cephalopods and products thereof   \n",
       "33200                   cereals and bakery products   \n",
       "119457                                confectionery   \n",
       "89098                   cereals and bakery products   \n",
       "...                                             ...   \n",
       "96666                       non-alcoholic beverages   \n",
       "121940                                fats and oils   \n",
       "36099                         fruits and vegetables   \n",
       "102067                       food contact materials   \n",
       "22920   meat and meat products (other than poultry)   \n",
       "\n",
       "                             DISTRIBUTION_STAT  \\\n",
       "59976   distribution to other member countries   \n",
       "48103   product not (yet) placed on the market   \n",
       "33200   distribution to other member countries   \n",
       "119457   distribution on the market (possible)   \n",
       "89098   distribution to other member countries   \n",
       "...                                        ...   \n",
       "96666    distribution on the market (possible)   \n",
       "121940   distribution on the market (possible)   \n",
       "36099   distribution to other member countries   \n",
       "102067   distribution on the market (possible)   \n",
       "22920   distribution to other member countries   \n",
       "\n",
       "                           HAZARDS_CAT    COUNT_ORIGEN  \n",
       "59976   microbial contaminants (other)          France  \n",
       "48103                           metals           India  \n",
       "33200   food additives and flavourings   United States  \n",
       "119457  food additives and flavourings           Spain  \n",
       "89098                       mycotoxins          Sweden  \n",
       "...                                ...             ...  \n",
       "96666                   foreign bodies         Germany  \n",
       "121940            organoleptic aspects  United Kingdom  \n",
       "36099                           metals          France  \n",
       "102067                          metals           China  \n",
       "22920   microbial contaminants (other)       Argentina  \n",
       "\n",
       "[131694 rows x 6 columns]"
      ]
     },
     "execution_count": 5,
     "metadata": {},
     "output_type": "execute_result"
    }
   ],
   "source": [
    "X"
   ]
  },
  {
   "cell_type": "code",
   "execution_count": 6,
   "metadata": {
    "ExecuteTime": {
     "end_time": "2019-11-05T15:07:12.748943Z",
     "start_time": "2019-11-05T15:07:12.736947Z"
    },
    "scrolled": true
   },
   "outputs": [
    {
     "data": {
      "text/html": [
       "<div>\n",
       "<style scoped>\n",
       "    .dataframe tbody tr th:only-of-type {\n",
       "        vertical-align: middle;\n",
       "    }\n",
       "\n",
       "    .dataframe tbody tr th {\n",
       "        vertical-align: top;\n",
       "    }\n",
       "\n",
       "    .dataframe thead th {\n",
       "        text-align: right;\n",
       "    }\n",
       "</style>\n",
       "<table border=\"1\" class=\"dataframe\">\n",
       "  <thead>\n",
       "    <tr style=\"text-align: right;\">\n",
       "      <th></th>\n",
       "      <th>ACTION_TAKEN</th>\n",
       "    </tr>\n",
       "  </thead>\n",
       "  <tbody>\n",
       "    <tr>\n",
       "      <th>59976</th>\n",
       "      <td>recall from consumers</td>\n",
       "    </tr>\n",
       "    <tr>\n",
       "      <th>48103</th>\n",
       "      <td>import not authorised</td>\n",
       "    </tr>\n",
       "    <tr>\n",
       "      <th>33200</th>\n",
       "      <td>withdrawal from recipient(s)</td>\n",
       "    </tr>\n",
       "    <tr>\n",
       "      <th>119457</th>\n",
       "      <td>withdrawal from the market</td>\n",
       "    </tr>\n",
       "    <tr>\n",
       "      <th>89098</th>\n",
       "      <td>withdrawal from the market</td>\n",
       "    </tr>\n",
       "    <tr>\n",
       "      <th>...</th>\n",
       "      <td>...</td>\n",
       "    </tr>\n",
       "    <tr>\n",
       "      <th>96666</th>\n",
       "      <td>withdrawal from the market</td>\n",
       "    </tr>\n",
       "    <tr>\n",
       "      <th>121940</th>\n",
       "      <td>withdrawal from the market</td>\n",
       "    </tr>\n",
       "    <tr>\n",
       "      <th>36099</th>\n",
       "      <td>withdrawal from the market</td>\n",
       "    </tr>\n",
       "    <tr>\n",
       "      <th>102067</th>\n",
       "      <td>withdrawal from the market</td>\n",
       "    </tr>\n",
       "    <tr>\n",
       "      <th>22920</th>\n",
       "      <td>official detention</td>\n",
       "    </tr>\n",
       "  </tbody>\n",
       "</table>\n",
       "<p>131694 rows × 1 columns</p>\n",
       "</div>"
      ],
      "text/plain": [
       "                        ACTION_TAKEN\n",
       "59976          recall from consumers\n",
       "48103          import not authorised\n",
       "33200   withdrawal from recipient(s)\n",
       "119457    withdrawal from the market\n",
       "89098     withdrawal from the market\n",
       "...                              ...\n",
       "96666     withdrawal from the market\n",
       "121940    withdrawal from the market\n",
       "36099     withdrawal from the market\n",
       "102067    withdrawal from the market\n",
       "22920             official detention\n",
       "\n",
       "[131694 rows x 1 columns]"
      ]
     },
     "execution_count": 6,
     "metadata": {},
     "output_type": "execute_result"
    }
   ],
   "source": [
    "y"
   ]
  },
  {
   "cell_type": "markdown",
   "metadata": {},
   "source": [
    "# Selección de codificación"
   ]
  },
  {
   "cell_type": "code",
   "execution_count": 7,
   "metadata": {
    "ExecuteTime": {
     "end_time": "2019-11-05T15:07:13.480299Z",
     "start_time": "2019-11-05T15:07:13.440406Z"
    }
   },
   "outputs": [],
   "source": [
    "ency = OneHotEncoder(handle_unknown='ignore', sparse_output = False)\n",
    "ency.fit(y.values)\n",
    "y_one_hot = ency.transform(y.values)"
   ]
  },
  {
   "cell_type": "code",
   "execution_count": 8,
   "metadata": {
    "ExecuteTime": {
     "end_time": "2019-11-05T15:07:18.548386Z",
     "start_time": "2019-11-05T15:07:18.543400Z"
    }
   },
   "outputs": [
    {
     "data": {
      "text/plain": [
       "'encx = OrdinalEncoder()\\nencx.fit(X.values)\\nx_one_hot = encx.transform(X.values)'"
      ]
     },
     "execution_count": 8,
     "metadata": {},
     "output_type": "execute_result"
    }
   ],
   "source": [
    "'''encx = OrdinalEncoder()\n",
    "encx.fit(X.values)\n",
    "x_one_hot = encx.transform(X.values)'''"
   ]
  },
  {
   "cell_type": "code",
   "execution_count": 9,
   "metadata": {
    "ExecuteTime": {
     "end_time": "2019-11-05T15:07:18.899374Z",
     "start_time": "2019-11-05T15:07:18.896370Z"
    }
   },
   "outputs": [
    {
     "data": {
      "text/plain": [
       "\"encx = OneHotEncoder(handle_unknown='ignore', sparse = False)\\nencx.fit(X.values)\\nx_one_hot = encx.transform(X.values)\""
      ]
     },
     "execution_count": 9,
     "metadata": {},
     "output_type": "execute_result"
    }
   ],
   "source": [
    "'''encx = OneHotEncoder(handle_unknown='ignore', sparse = False)\n",
    "encx.fit(X.values)\n",
    "x_one_hot = encx.transform(X.values)'''"
   ]
  },
  {
   "cell_type": "code",
   "execution_count": 10,
   "metadata": {
    "ExecuteTime": {
     "end_time": "2019-11-05T15:07:22.117670Z",
     "start_time": "2019-11-05T15:07:21.375656Z"
    }
   },
   "outputs": [
    {
     "name": "stderr",
     "output_type": "stream",
     "text": [
      "c:\\Users\\Locc\\AppData\\Local\\Programs\\Python\\Python311\\Lib\\site-packages\\category_encoders\\ordinal.py:198: FutureWarning: Downcasting object dtype arrays on .fillna, .ffill, .bfill is deprecated and will change in a future version. Call result.infer_objects(copy=False) instead. To opt-in to the future behavior, set `pd.set_option('future.no_silent_downcasting', True)`\n",
      "  X[column] = X[column].astype(\"object\").fillna(np.nan).map(col_mapping)\n",
      "c:\\Users\\Locc\\AppData\\Local\\Programs\\Python\\Python311\\Lib\\site-packages\\category_encoders\\ordinal.py:198: FutureWarning: Downcasting object dtype arrays on .fillna, .ffill, .bfill is deprecated and will change in a future version. Call result.infer_objects(copy=False) instead. To opt-in to the future behavior, set `pd.set_option('future.no_silent_downcasting', True)`\n",
      "  X[column] = X[column].astype(\"object\").fillna(np.nan).map(col_mapping)\n",
      "c:\\Users\\Locc\\AppData\\Local\\Programs\\Python\\Python311\\Lib\\site-packages\\category_encoders\\ordinal.py:198: FutureWarning: Downcasting object dtype arrays on .fillna, .ffill, .bfill is deprecated and will change in a future version. Call result.infer_objects(copy=False) instead. To opt-in to the future behavior, set `pd.set_option('future.no_silent_downcasting', True)`\n",
      "  X[column] = X[column].astype(\"object\").fillna(np.nan).map(col_mapping)\n"
     ]
    }
   ],
   "source": [
    "encx  = ce.BaseNEncoder()\n",
    "encx.fit(X.values)\n",
    "x_one_hot = encx.transform(X.values)"
   ]
  },
  {
   "cell_type": "code",
   "execution_count": 11,
   "metadata": {
    "ExecuteTime": {
     "end_time": "2019-11-05T15:07:26.823459Z",
     "start_time": "2019-11-05T15:07:26.767582Z"
    }
   },
   "outputs": [],
   "source": [
    "X_train, X_val, y_train, y_val = train_test_split(x_one_hot, y_one_hot, test_size=0.2)"
   ]
  },
  {
   "cell_type": "markdown",
   "metadata": {},
   "source": [
    "# Pruebas con mlp básico"
   ]
  },
  {
   "cell_type": "code",
   "execution_count": 12,
   "metadata": {
    "ExecuteTime": {
     "end_time": "2019-11-05T15:18:18.781542Z",
     "start_time": "2019-11-05T15:09:12.417315Z"
    },
    "scrolled": true
   },
   "outputs": [
    {
     "name": "stdout",
     "output_type": "stream",
     "text": [
      "WARNING:tensorflow:From c:\\Users\\Locc\\AppData\\Local\\Programs\\Python\\Python311\\Lib\\site-packages\\keras\\src\\backend\\common\\global_state.py:82: The name tf.reset_default_graph is deprecated. Please use tf.compat.v1.reset_default_graph instead.\n",
      "\n"
     ]
    },
    {
     "name": "stderr",
     "output_type": "stream",
     "text": [
      "c:\\Users\\Locc\\AppData\\Local\\Programs\\Python\\Python311\\Lib\\site-packages\\keras\\src\\layers\\core\\dense.py:87: UserWarning: Do not pass an `input_shape`/`input_dim` argument to a layer. When using Sequential models, prefer using an `Input(shape)` object as the first layer in the model instead.\n",
      "  super().__init__(activity_regularizer=activity_regularizer, **kwargs)\n"
     ]
    },
    {
     "name": "stdout",
     "output_type": "stream",
     "text": [
      "Epoch 1/15\n",
      "\u001b[1m1647/1647\u001b[0m \u001b[32m━━━━━━━━━━━━━━━━━━━━\u001b[0m\u001b[37m\u001b[0m \u001b[1m51s\u001b[0m 29ms/step - categorical_accuracy: 0.4272 - loss: 1.8940 - val_categorical_accuracy: 0.5952 - val_loss: 1.3160\n",
      "Epoch 2/15\n",
      "\u001b[1m1647/1647\u001b[0m \u001b[32m━━━━━━━━━━━━━━━━━━━━\u001b[0m\u001b[37m\u001b[0m \u001b[1m47s\u001b[0m 29ms/step - categorical_accuracy: 0.5959 - loss: 1.3044 - val_categorical_accuracy: 0.6639 - val_loss: 1.1052\n",
      "Epoch 3/15\n",
      "\u001b[1m1647/1647\u001b[0m \u001b[32m━━━━━━━━━━━━━━━━━━━━\u001b[0m\u001b[37m\u001b[0m \u001b[1m50s\u001b[0m 30ms/step - categorical_accuracy: 0.6585 - loss: 1.0905 - val_categorical_accuracy: 0.6922 - val_loss: 0.9922\n",
      "Epoch 4/15\n",
      "\u001b[1m1647/1647\u001b[0m \u001b[32m━━━━━━━━━━━━━━━━━━━━\u001b[0m\u001b[37m\u001b[0m \u001b[1m55s\u001b[0m 33ms/step - categorical_accuracy: 0.6930 - loss: 0.9656 - val_categorical_accuracy: 0.7176 - val_loss: 0.9244\n",
      "Epoch 5/15\n",
      "\u001b[1m1647/1647\u001b[0m \u001b[32m━━━━━━━━━━━━━━━━━━━━\u001b[0m\u001b[37m\u001b[0m \u001b[1m54s\u001b[0m 33ms/step - categorical_accuracy: 0.7209 - loss: 0.8745 - val_categorical_accuracy: 0.7353 - val_loss: 0.8675\n",
      "Epoch 6/15\n",
      "\u001b[1m1647/1647\u001b[0m \u001b[32m━━━━━━━━━━━━━━━━━━━━\u001b[0m\u001b[37m\u001b[0m \u001b[1m59s\u001b[0m 35ms/step - categorical_accuracy: 0.7402 - loss: 0.7976 - val_categorical_accuracy: 0.7449 - val_loss: 0.8355\n",
      "Epoch 7/15\n",
      "\u001b[1m1647/1647\u001b[0m \u001b[32m━━━━━━━━━━━━━━━━━━━━\u001b[0m\u001b[37m\u001b[0m \u001b[1m55s\u001b[0m 33ms/step - categorical_accuracy: 0.7549 - loss: 0.7489 - val_categorical_accuracy: 0.7523 - val_loss: 0.8147\n",
      "Epoch 8/15\n",
      "\u001b[1m1647/1647\u001b[0m \u001b[32m━━━━━━━━━━━━━━━━━━━━\u001b[0m\u001b[37m\u001b[0m \u001b[1m52s\u001b[0m 31ms/step - categorical_accuracy: 0.7668 - loss: 0.7046 - val_categorical_accuracy: 0.7568 - val_loss: 0.7961\n",
      "Epoch 9/15\n",
      "\u001b[1m1647/1647\u001b[0m \u001b[32m━━━━━━━━━━━━━━━━━━━━\u001b[0m\u001b[37m\u001b[0m \u001b[1m52s\u001b[0m 31ms/step - categorical_accuracy: 0.7772 - loss: 0.6706 - val_categorical_accuracy: 0.7632 - val_loss: 0.7959\n",
      "Epoch 10/15\n",
      "\u001b[1m1647/1647\u001b[0m \u001b[32m━━━━━━━━━━━━━━━━━━━━\u001b[0m\u001b[37m\u001b[0m \u001b[1m51s\u001b[0m 31ms/step - categorical_accuracy: 0.7834 - loss: 0.6372 - val_categorical_accuracy: 0.7705 - val_loss: 0.7814\n",
      "Epoch 11/15\n",
      "\u001b[1m1647/1647\u001b[0m \u001b[32m━━━━━━━━━━━━━━━━━━━━\u001b[0m\u001b[37m\u001b[0m \u001b[1m52s\u001b[0m 31ms/step - categorical_accuracy: 0.7934 - loss: 0.6121 - val_categorical_accuracy: 0.7730 - val_loss: 0.7753\n",
      "Epoch 12/15\n",
      "\u001b[1m1647/1647\u001b[0m \u001b[32m━━━━━━━━━━━━━━━━━━━━\u001b[0m\u001b[37m\u001b[0m \u001b[1m52s\u001b[0m 31ms/step - categorical_accuracy: 0.7989 - loss: 0.5958 - val_categorical_accuracy: 0.7788 - val_loss: 0.7730\n",
      "Epoch 13/15\n",
      "\u001b[1m1647/1647\u001b[0m \u001b[32m━━━━━━━━━━━━━━━━━━━━\u001b[0m\u001b[37m\u001b[0m \u001b[1m52s\u001b[0m 31ms/step - categorical_accuracy: 0.8061 - loss: 0.5649 - val_categorical_accuracy: 0.7793 - val_loss: 0.7722\n",
      "Epoch 14/15\n",
      "\u001b[1m1647/1647\u001b[0m \u001b[32m━━━━━━━━━━━━━━━━━━━━\u001b[0m\u001b[37m\u001b[0m \u001b[1m52s\u001b[0m 31ms/step - categorical_accuracy: 0.8071 - loss: 0.5567 - val_categorical_accuracy: 0.7831 - val_loss: 0.7707\n",
      "Epoch 15/15\n",
      "\u001b[1m1647/1647\u001b[0m \u001b[32m━━━━━━━━━━━━━━━━━━━━\u001b[0m\u001b[37m\u001b[0m \u001b[1m51s\u001b[0m 31ms/step - categorical_accuracy: 0.8137 - loss: 0.5423 - val_categorical_accuracy: 0.7860 - val_loss: 0.7787\n"
     ]
    },
    {
     "name": "stderr",
     "output_type": "stream",
     "text": [
      "WARNING:absl:You are saving your model as an HDF5 file via `model.save()` or `keras.saving.save_model(model)`. This file format is considered legacy. We recommend using instead the native Keras format, e.g. `model.save('my_model.keras')` or `keras.saving.save_model(model, 'my_model.keras')`. \n"
     ]
    },
    {
     "name": "stdout",
     "output_type": "stream",
     "text": [
      "Epoch 1/15\n"
     ]
    },
    {
     "name": "stderr",
     "output_type": "stream",
     "text": [
      "c:\\Users\\Locc\\AppData\\Local\\Programs\\Python\\Python311\\Lib\\site-packages\\keras\\src\\layers\\core\\dense.py:87: UserWarning: Do not pass an `input_shape`/`input_dim` argument to a layer. When using Sequential models, prefer using an `Input(shape)` object as the first layer in the model instead.\n",
      "  super().__init__(activity_regularizer=activity_regularizer, **kwargs)\n"
     ]
    },
    {
     "name": "stdout",
     "output_type": "stream",
     "text": [
      "\u001b[1m1647/1647\u001b[0m \u001b[32m━━━━━━━━━━━━━━━━━━━━\u001b[0m\u001b[37m\u001b[0m \u001b[1m58s\u001b[0m 34ms/step - categorical_accuracy: 0.4215 - loss: 1.9137 - val_categorical_accuracy: 0.5932 - val_loss: 1.3352\n",
      "Epoch 2/15\n",
      "\u001b[1m1647/1647\u001b[0m \u001b[32m━━━━━━━━━━━━━━━━━━━━\u001b[0m\u001b[37m\u001b[0m \u001b[1m58s\u001b[0m 35ms/step - categorical_accuracy: 0.5934 - loss: 1.3175 - val_categorical_accuracy: 0.6515 - val_loss: 1.1215\n",
      "Epoch 3/15\n",
      "\u001b[1m1647/1647\u001b[0m \u001b[32m━━━━━━━━━━━━━━━━━━━━\u001b[0m\u001b[37m\u001b[0m \u001b[1m46s\u001b[0m 28ms/step - categorical_accuracy: 0.6527 - loss: 1.1083 - val_categorical_accuracy: 0.6947 - val_loss: 1.0011\n",
      "Epoch 4/15\n",
      "\u001b[1m1647/1647\u001b[0m \u001b[32m━━━━━━━━━━━━━━━━━━━━\u001b[0m\u001b[37m\u001b[0m \u001b[1m45s\u001b[0m 27ms/step - categorical_accuracy: 0.6907 - loss: 0.9776 - val_categorical_accuracy: 0.7170 - val_loss: 0.9196\n",
      "Epoch 5/15\n",
      "\u001b[1m1647/1647\u001b[0m \u001b[32m━━━━━━━━━━━━━━━━━━━━\u001b[0m\u001b[37m\u001b[0m \u001b[1m45s\u001b[0m 27ms/step - categorical_accuracy: 0.7190 - loss: 0.8788 - val_categorical_accuracy: 0.7311 - val_loss: 0.8701\n",
      "Epoch 6/15\n",
      "\u001b[1m1647/1647\u001b[0m \u001b[32m━━━━━━━━━━━━━━━━━━━━\u001b[0m\u001b[37m\u001b[0m \u001b[1m45s\u001b[0m 28ms/step - categorical_accuracy: 0.7390 - loss: 0.8092 - val_categorical_accuracy: 0.7466 - val_loss: 0.8407\n",
      "Epoch 7/15\n",
      "\u001b[1m1647/1647\u001b[0m \u001b[32m━━━━━━━━━━━━━━━━━━━━\u001b[0m\u001b[37m\u001b[0m \u001b[1m45s\u001b[0m 27ms/step - categorical_accuracy: 0.7526 - loss: 0.7567 - val_categorical_accuracy: 0.7523 - val_loss: 0.8180\n",
      "Epoch 8/15\n",
      "\u001b[1m1647/1647\u001b[0m \u001b[32m━━━━━━━━━━━━━━━━━━━━\u001b[0m\u001b[37m\u001b[0m \u001b[1m46s\u001b[0m 28ms/step - categorical_accuracy: 0.7663 - loss: 0.7105 - val_categorical_accuracy: 0.7593 - val_loss: 0.8060\n",
      "Epoch 9/15\n",
      "\u001b[1m1647/1647\u001b[0m \u001b[32m━━━━━━━━━━━━━━━━━━━━\u001b[0m\u001b[37m\u001b[0m \u001b[1m46s\u001b[0m 28ms/step - categorical_accuracy: 0.7754 - loss: 0.6826 - val_categorical_accuracy: 0.7659 - val_loss: 0.7892\n",
      "Epoch 10/15\n",
      "\u001b[1m1647/1647\u001b[0m \u001b[32m━━━━━━━━━━━━━━━━━━━━\u001b[0m\u001b[37m\u001b[0m \u001b[1m46s\u001b[0m 28ms/step - categorical_accuracy: 0.7839 - loss: 0.6428 - val_categorical_accuracy: 0.7686 - val_loss: 0.7771\n",
      "Epoch 11/15\n",
      "\u001b[1m1647/1647\u001b[0m \u001b[32m━━━━━━━━━━━━━━━━━━━━\u001b[0m\u001b[37m\u001b[0m \u001b[1m45s\u001b[0m 27ms/step - categorical_accuracy: 0.7884 - loss: 0.6213 - val_categorical_accuracy: 0.7741 - val_loss: 0.7840\n",
      "Epoch 12/15\n",
      "\u001b[1m1647/1647\u001b[0m \u001b[32m━━━━━━━━━━━━━━━━━━━━\u001b[0m\u001b[37m\u001b[0m \u001b[1m46s\u001b[0m 28ms/step - categorical_accuracy: 0.7983 - loss: 0.5926 - val_categorical_accuracy: 0.7747 - val_loss: 0.7740\n",
      "Epoch 13/15\n",
      "\u001b[1m1647/1647\u001b[0m \u001b[32m━━━━━━━━━━━━━━━━━━━━\u001b[0m\u001b[37m\u001b[0m \u001b[1m45s\u001b[0m 28ms/step - categorical_accuracy: 0.8035 - loss: 0.5773 - val_categorical_accuracy: 0.7806 - val_loss: 0.7629\n",
      "Epoch 14/15\n",
      "\u001b[1m1647/1647\u001b[0m \u001b[32m━━━━━━━━━━━━━━━━━━━━\u001b[0m\u001b[37m\u001b[0m \u001b[1m45s\u001b[0m 27ms/step - categorical_accuracy: 0.8056 - loss: 0.5664 - val_categorical_accuracy: 0.7824 - val_loss: 0.7744\n",
      "Epoch 15/15\n",
      "\u001b[1m1647/1647\u001b[0m \u001b[32m━━━━━━━━━━━━━━━━━━━━\u001b[0m\u001b[37m\u001b[0m \u001b[1m45s\u001b[0m 27ms/step - categorical_accuracy: 0.8136 - loss: 0.5446 - val_categorical_accuracy: 0.7845 - val_loss: 0.7716\n"
     ]
    },
    {
     "name": "stderr",
     "output_type": "stream",
     "text": [
      "WARNING:absl:You are saving your model as an HDF5 file via `model.save()` or `keras.saving.save_model(model)`. This file format is considered legacy. We recommend using instead the native Keras format, e.g. `model.save('my_model.keras')` or `keras.saving.save_model(model, 'my_model.keras')`. \n"
     ]
    },
    {
     "name": "stdout",
     "output_type": "stream",
     "text": [
      "Epoch 1/15\n"
     ]
    },
    {
     "name": "stderr",
     "output_type": "stream",
     "text": [
      "c:\\Users\\Locc\\AppData\\Local\\Programs\\Python\\Python311\\Lib\\site-packages\\keras\\src\\layers\\core\\dense.py:87: UserWarning: Do not pass an `input_shape`/`input_dim` argument to a layer. When using Sequential models, prefer using an `Input(shape)` object as the first layer in the model instead.\n",
      "  super().__init__(activity_regularizer=activity_regularizer, **kwargs)\n"
     ]
    },
    {
     "name": "stdout",
     "output_type": "stream",
     "text": [
      "\u001b[1m1647/1647\u001b[0m \u001b[32m━━━━━━━━━━━━━━━━━━━━\u001b[0m\u001b[37m\u001b[0m \u001b[1m46s\u001b[0m 27ms/step - categorical_accuracy: 0.4284 - loss: 1.8887 - val_categorical_accuracy: 0.5990 - val_loss: 1.3097\n",
      "Epoch 2/15\n",
      "\u001b[1m1647/1647\u001b[0m \u001b[32m━━━━━━━━━━━━━━━━━━━━\u001b[0m\u001b[37m\u001b[0m \u001b[1m45s\u001b[0m 27ms/step - categorical_accuracy: 0.5983 - loss: 1.2972 - val_categorical_accuracy: 0.6594 - val_loss: 1.1069\n",
      "Epoch 3/15\n",
      "\u001b[1m1647/1647\u001b[0m \u001b[32m━━━━━━━━━━━━━━━━━━━━\u001b[0m\u001b[37m\u001b[0m \u001b[1m44s\u001b[0m 27ms/step - categorical_accuracy: 0.6593 - loss: 1.0950 - val_categorical_accuracy: 0.6963 - val_loss: 0.9848\n",
      "Epoch 4/15\n",
      "\u001b[1m1647/1647\u001b[0m \u001b[32m━━━━━━━━━━━━━━━━━━━━\u001b[0m\u001b[37m\u001b[0m \u001b[1m45s\u001b[0m 27ms/step - categorical_accuracy: 0.6936 - loss: 0.9661 - val_categorical_accuracy: 0.7140 - val_loss: 0.9270\n",
      "Epoch 5/15\n",
      "\u001b[1m1647/1647\u001b[0m \u001b[32m━━━━━━━━━━━━━━━━━━━━\u001b[0m\u001b[37m\u001b[0m \u001b[1m45s\u001b[0m 27ms/step - categorical_accuracy: 0.7191 - loss: 0.8744 - val_categorical_accuracy: 0.7328 - val_loss: 0.8793\n",
      "Epoch 6/15\n",
      "\u001b[1m1647/1647\u001b[0m \u001b[32m━━━━━━━━━━━━━━━━━━━━\u001b[0m\u001b[37m\u001b[0m \u001b[1m44s\u001b[0m 27ms/step - categorical_accuracy: 0.7420 - loss: 0.7967 - val_categorical_accuracy: 0.7490 - val_loss: 0.8248\n",
      "Epoch 7/15\n",
      "\u001b[1m1647/1647\u001b[0m \u001b[32m━━━━━━━━━━━━━━━━━━━━\u001b[0m\u001b[37m\u001b[0m \u001b[1m45s\u001b[0m 27ms/step - categorical_accuracy: 0.7544 - loss: 0.7469 - val_categorical_accuracy: 0.7567 - val_loss: 0.8111\n",
      "Epoch 8/15\n",
      "\u001b[1m1647/1647\u001b[0m \u001b[32m━━━━━━━━━━━━━━━━━━━━\u001b[0m\u001b[37m\u001b[0m \u001b[1m45s\u001b[0m 27ms/step - categorical_accuracy: 0.7670 - loss: 0.7065 - val_categorical_accuracy: 0.7619 - val_loss: 0.7953\n",
      "Epoch 9/15\n",
      "\u001b[1m1647/1647\u001b[0m \u001b[32m━━━━━━━━━━━━━━━━━━━━\u001b[0m\u001b[37m\u001b[0m \u001b[1m45s\u001b[0m 27ms/step - categorical_accuracy: 0.7747 - loss: 0.6719 - val_categorical_accuracy: 0.7695 - val_loss: 0.7809\n",
      "Epoch 10/15\n",
      "\u001b[1m1647/1647\u001b[0m \u001b[32m━━━━━━━━━━━━━━━━━━━━\u001b[0m\u001b[37m\u001b[0m \u001b[1m45s\u001b[0m 27ms/step - categorical_accuracy: 0.7868 - loss: 0.6347 - val_categorical_accuracy: 0.7711 - val_loss: 0.7739\n",
      "Epoch 11/15\n",
      "\u001b[1m1647/1647\u001b[0m \u001b[32m━━━━━━━━━━━━━━━━━━━━\u001b[0m\u001b[37m\u001b[0m \u001b[1m45s\u001b[0m 27ms/step - categorical_accuracy: 0.7933 - loss: 0.6097 - val_categorical_accuracy: 0.7716 - val_loss: 0.7744\n",
      "Epoch 12/15\n",
      "\u001b[1m1647/1647\u001b[0m \u001b[32m━━━━━━━━━━━━━━━━━━━━\u001b[0m\u001b[37m\u001b[0m \u001b[1m45s\u001b[0m 27ms/step - categorical_accuracy: 0.8017 - loss: 0.5819 - val_categorical_accuracy: 0.7771 - val_loss: 0.7665\n",
      "Epoch 13/15\n",
      "\u001b[1m1647/1647\u001b[0m \u001b[32m━━━━━━━━━━━━━━━━━━━━\u001b[0m\u001b[37m\u001b[0m \u001b[1m45s\u001b[0m 27ms/step - categorical_accuracy: 0.8070 - loss: 0.5705 - val_categorical_accuracy: 0.7804 - val_loss: 0.7656\n",
      "Epoch 14/15\n",
      "\u001b[1m1647/1647\u001b[0m \u001b[32m━━━━━━━━━━━━━━━━━━━━\u001b[0m\u001b[37m\u001b[0m \u001b[1m45s\u001b[0m 27ms/step - categorical_accuracy: 0.8104 - loss: 0.5533 - val_categorical_accuracy: 0.7823 - val_loss: 0.7657\n",
      "Epoch 15/15\n",
      "\u001b[1m1647/1647\u001b[0m \u001b[32m━━━━━━━━━━━━━━━━━━━━\u001b[0m\u001b[37m\u001b[0m \u001b[1m44s\u001b[0m 27ms/step - categorical_accuracy: 0.8111 - loss: 0.5435 - val_categorical_accuracy: 0.7837 - val_loss: 0.7803\n"
     ]
    },
    {
     "name": "stderr",
     "output_type": "stream",
     "text": [
      "WARNING:absl:You are saving your model as an HDF5 file via `model.save()` or `keras.saving.save_model(model)`. This file format is considered legacy. We recommend using instead the native Keras format, e.g. `model.save('my_model.keras')` or `keras.saving.save_model(model, 'my_model.keras')`. \n"
     ]
    },
    {
     "name": "stdout",
     "output_type": "stream",
     "text": [
      "Epoch 1/15\n"
     ]
    },
    {
     "name": "stderr",
     "output_type": "stream",
     "text": [
      "c:\\Users\\Locc\\AppData\\Local\\Programs\\Python\\Python311\\Lib\\site-packages\\keras\\src\\layers\\core\\dense.py:87: UserWarning: Do not pass an `input_shape`/`input_dim` argument to a layer. When using Sequential models, prefer using an `Input(shape)` object as the first layer in the model instead.\n",
      "  super().__init__(activity_regularizer=activity_regularizer, **kwargs)\n"
     ]
    },
    {
     "name": "stdout",
     "output_type": "stream",
     "text": [
      "\u001b[1m1647/1647\u001b[0m \u001b[32m━━━━━━━━━━━━━━━━━━━━\u001b[0m\u001b[37m\u001b[0m \u001b[1m46s\u001b[0m 27ms/step - categorical_accuracy: 0.4243 - loss: 1.9093 - val_categorical_accuracy: 0.5982 - val_loss: 1.3128\n",
      "Epoch 2/15\n",
      "\u001b[1m1647/1647\u001b[0m \u001b[32m━━━━━━━━━━━━━━━━━━━━\u001b[0m\u001b[37m\u001b[0m \u001b[1m44s\u001b[0m 27ms/step - categorical_accuracy: 0.5964 - loss: 1.3106 - val_categorical_accuracy: 0.6551 - val_loss: 1.1276\n",
      "Epoch 3/15\n",
      "\u001b[1m1647/1647\u001b[0m \u001b[32m━━━━━━━━━━━━━━━━━━━━\u001b[0m\u001b[37m\u001b[0m \u001b[1m45s\u001b[0m 28ms/step - categorical_accuracy: 0.6556 - loss: 1.1007 - val_categorical_accuracy: 0.6959 - val_loss: 0.9955\n",
      "Epoch 4/15\n",
      "\u001b[1m1647/1647\u001b[0m \u001b[32m━━━━━━━━━━━━━━━━━━━━\u001b[0m\u001b[37m\u001b[0m \u001b[1m45s\u001b[0m 27ms/step - categorical_accuracy: 0.6939 - loss: 0.9715 - val_categorical_accuracy: 0.7204 - val_loss: 0.9198\n",
      "Epoch 5/15\n",
      "\u001b[1m1647/1647\u001b[0m \u001b[32m━━━━━━━━━━━━━━━━━━━━\u001b[0m\u001b[37m\u001b[0m \u001b[1m45s\u001b[0m 27ms/step - categorical_accuracy: 0.7200 - loss: 0.8733 - val_categorical_accuracy: 0.7301 - val_loss: 0.8816\n",
      "Epoch 6/15\n",
      "\u001b[1m1647/1647\u001b[0m \u001b[32m━━━━━━━━━━━━━━━━━━━━\u001b[0m\u001b[37m\u001b[0m \u001b[1m44s\u001b[0m 27ms/step - categorical_accuracy: 0.7408 - loss: 0.8031 - val_categorical_accuracy: 0.7485 - val_loss: 0.8344\n",
      "Epoch 7/15\n",
      "\u001b[1m1647/1647\u001b[0m \u001b[32m━━━━━━━━━━━━━━━━━━━━\u001b[0m\u001b[37m\u001b[0m \u001b[1m45s\u001b[0m 27ms/step - categorical_accuracy: 0.7542 - loss: 0.7505 - val_categorical_accuracy: 0.7555 - val_loss: 0.8097\n",
      "Epoch 8/15\n",
      "\u001b[1m1647/1647\u001b[0m \u001b[32m━━━━━━━━━━━━━━━━━━━━\u001b[0m\u001b[37m\u001b[0m \u001b[1m44s\u001b[0m 27ms/step - categorical_accuracy: 0.7679 - loss: 0.6996 - val_categorical_accuracy: 0.7584 - val_loss: 0.8049\n",
      "Epoch 9/15\n",
      "\u001b[1m1647/1647\u001b[0m \u001b[32m━━━━━━━━━━━━━━━━━━━━\u001b[0m\u001b[37m\u001b[0m \u001b[1m45s\u001b[0m 27ms/step - categorical_accuracy: 0.7766 - loss: 0.6686 - val_categorical_accuracy: 0.7674 - val_loss: 0.7897\n",
      "Epoch 10/15\n",
      "\u001b[1m1647/1647\u001b[0m \u001b[32m━━━━━━━━━━━━━━━━━━━━\u001b[0m\u001b[37m\u001b[0m \u001b[1m45s\u001b[0m 27ms/step - categorical_accuracy: 0.7880 - loss: 0.6351 - val_categorical_accuracy: 0.7726 - val_loss: 0.7774\n",
      "Epoch 11/15\n",
      "\u001b[1m1647/1647\u001b[0m \u001b[32m━━━━━━━━━━━━━━━━━━━━\u001b[0m\u001b[37m\u001b[0m \u001b[1m44s\u001b[0m 27ms/step - categorical_accuracy: 0.7903 - loss: 0.6186 - val_categorical_accuracy: 0.7775 - val_loss: 0.7752\n",
      "Epoch 12/15\n",
      "\u001b[1m1647/1647\u001b[0m \u001b[32m━━━━━━━━━━━━━━━━━━━━\u001b[0m\u001b[37m\u001b[0m \u001b[1m45s\u001b[0m 27ms/step - categorical_accuracy: 0.8002 - loss: 0.5900 - val_categorical_accuracy: 0.7754 - val_loss: 0.7744\n",
      "Epoch 13/15\n",
      "\u001b[1m1647/1647\u001b[0m \u001b[32m━━━━━━━━━━━━━━━━━━━━\u001b[0m\u001b[37m\u001b[0m \u001b[1m44s\u001b[0m 27ms/step - categorical_accuracy: 0.8024 - loss: 0.5743 - val_categorical_accuracy: 0.7784 - val_loss: 0.7756\n",
      "Epoch 14/15\n",
      "\u001b[1m1647/1647\u001b[0m \u001b[32m━━━━━━━━━━━━━━━━━━━━\u001b[0m\u001b[37m\u001b[0m \u001b[1m45s\u001b[0m 27ms/step - categorical_accuracy: 0.8097 - loss: 0.5572 - val_categorical_accuracy: 0.7774 - val_loss: 0.7694\n",
      "Epoch 15/15\n",
      "\u001b[1m1647/1647\u001b[0m \u001b[32m━━━━━━━━━━━━━━━━━━━━\u001b[0m\u001b[37m\u001b[0m \u001b[1m45s\u001b[0m 27ms/step - categorical_accuracy: 0.8132 - loss: 0.5415 - val_categorical_accuracy: 0.7836 - val_loss: 0.7705\n"
     ]
    },
    {
     "name": "stderr",
     "output_type": "stream",
     "text": [
      "WARNING:absl:You are saving your model as an HDF5 file via `model.save()` or `keras.saving.save_model(model)`. This file format is considered legacy. We recommend using instead the native Keras format, e.g. `model.save('my_model.keras')` or `keras.saving.save_model(model, 'my_model.keras')`. \n"
     ]
    },
    {
     "name": "stdout",
     "output_type": "stream",
     "text": [
      "Epoch 1/15\n"
     ]
    },
    {
     "name": "stderr",
     "output_type": "stream",
     "text": [
      "c:\\Users\\Locc\\AppData\\Local\\Programs\\Python\\Python311\\Lib\\site-packages\\keras\\src\\layers\\core\\dense.py:87: UserWarning: Do not pass an `input_shape`/`input_dim` argument to a layer. When using Sequential models, prefer using an `Input(shape)` object as the first layer in the model instead.\n",
      "  super().__init__(activity_regularizer=activity_regularizer, **kwargs)\n"
     ]
    },
    {
     "name": "stdout",
     "output_type": "stream",
     "text": [
      "\u001b[1m1647/1647\u001b[0m \u001b[32m━━━━━━━━━━━━━━━━━━━━\u001b[0m\u001b[37m\u001b[0m \u001b[1m46s\u001b[0m 27ms/step - categorical_accuracy: 0.4243 - loss: 1.9025 - val_categorical_accuracy: 0.6012 - val_loss: 1.3118\n",
      "Epoch 2/15\n",
      "\u001b[1m1647/1647\u001b[0m \u001b[32m━━━━━━━━━━━━━━━━━━━━\u001b[0m\u001b[37m\u001b[0m \u001b[1m45s\u001b[0m 27ms/step - categorical_accuracy: 0.5955 - loss: 1.3137 - val_categorical_accuracy: 0.6570 - val_loss: 1.1130\n",
      "Epoch 3/15\n",
      "\u001b[1m1647/1647\u001b[0m \u001b[32m━━━━━━━━━━━━━━━━━━━━\u001b[0m\u001b[37m\u001b[0m \u001b[1m44s\u001b[0m 27ms/step - categorical_accuracy: 0.6558 - loss: 1.0987 - val_categorical_accuracy: 0.6959 - val_loss: 1.0027\n",
      "Epoch 4/15\n",
      "\u001b[1m1647/1647\u001b[0m \u001b[32m━━━━━━━━━━━━━━━━━━━━\u001b[0m\u001b[37m\u001b[0m \u001b[1m46s\u001b[0m 28ms/step - categorical_accuracy: 0.6966 - loss: 0.9626 - val_categorical_accuracy: 0.7197 - val_loss: 0.9168\n",
      "Epoch 5/15\n",
      "\u001b[1m1647/1647\u001b[0m \u001b[32m━━━━━━━━━━━━━━━━━━━━\u001b[0m\u001b[37m\u001b[0m \u001b[1m53s\u001b[0m 32ms/step - categorical_accuracy: 0.7193 - loss: 0.8738 - val_categorical_accuracy: 0.7336 - val_loss: 0.8706\n",
      "Epoch 6/15\n",
      "\u001b[1m1647/1647\u001b[0m \u001b[32m━━━━━━━━━━━━━━━━━━━━\u001b[0m\u001b[37m\u001b[0m \u001b[1m45s\u001b[0m 28ms/step - categorical_accuracy: 0.7394 - loss: 0.7997 - val_categorical_accuracy: 0.7499 - val_loss: 0.8319\n",
      "Epoch 7/15\n",
      "\u001b[1m1647/1647\u001b[0m \u001b[32m━━━━━━━━━━━━━━━━━━━━\u001b[0m\u001b[37m\u001b[0m \u001b[1m45s\u001b[0m 27ms/step - categorical_accuracy: 0.7553 - loss: 0.7500 - val_categorical_accuracy: 0.7550 - val_loss: 0.8147\n",
      "Epoch 8/15\n",
      "\u001b[1m1647/1647\u001b[0m \u001b[32m━━━━━━━━━━━━━━━━━━━━\u001b[0m\u001b[37m\u001b[0m \u001b[1m45s\u001b[0m 27ms/step - categorical_accuracy: 0.7690 - loss: 0.7011 - val_categorical_accuracy: 0.7605 - val_loss: 0.7986\n",
      "Epoch 9/15\n",
      "\u001b[1m1647/1647\u001b[0m \u001b[32m━━━━━━━━━━━━━━━━━━━━\u001b[0m\u001b[37m\u001b[0m \u001b[1m45s\u001b[0m 27ms/step - categorical_accuracy: 0.7795 - loss: 0.6647 - val_categorical_accuracy: 0.7687 - val_loss: 0.7795\n",
      "Epoch 10/15\n",
      "\u001b[1m1647/1647\u001b[0m \u001b[32m━━━━━━━━━━━━━━━━━━━━\u001b[0m\u001b[37m\u001b[0m \u001b[1m46s\u001b[0m 28ms/step - categorical_accuracy: 0.7877 - loss: 0.6329 - val_categorical_accuracy: 0.7722 - val_loss: 0.7719\n",
      "Epoch 11/15\n",
      "\u001b[1m1647/1647\u001b[0m \u001b[32m━━━━━━━━━━━━━━━━━━━━\u001b[0m\u001b[37m\u001b[0m \u001b[1m45s\u001b[0m 28ms/step - categorical_accuracy: 0.7933 - loss: 0.6082 - val_categorical_accuracy: 0.7724 - val_loss: 0.7740\n",
      "Epoch 12/15\n",
      "\u001b[1m1647/1647\u001b[0m \u001b[32m━━━━━━━━━━━━━━━━━━━━\u001b[0m\u001b[37m\u001b[0m \u001b[1m45s\u001b[0m 27ms/step - categorical_accuracy: 0.7991 - loss: 0.5890 - val_categorical_accuracy: 0.7750 - val_loss: 0.7648\n",
      "Epoch 13/15\n",
      "\u001b[1m1647/1647\u001b[0m \u001b[32m━━━━━━━━━━━━━━━━━━━━\u001b[0m\u001b[37m\u001b[0m \u001b[1m45s\u001b[0m 27ms/step - categorical_accuracy: 0.8049 - loss: 0.5727 - val_categorical_accuracy: 0.7817 - val_loss: 0.7652\n",
      "Epoch 14/15\n",
      "\u001b[1m1647/1647\u001b[0m \u001b[32m━━━━━━━━━━━━━━━━━━━━\u001b[0m\u001b[37m\u001b[0m \u001b[1m45s\u001b[0m 27ms/step - categorical_accuracy: 0.8091 - loss: 0.5572 - val_categorical_accuracy: 0.7843 - val_loss: 0.7679\n",
      "Epoch 15/15\n",
      "\u001b[1m1647/1647\u001b[0m \u001b[32m━━━━━━━━━━━━━━━━━━━━\u001b[0m\u001b[37m\u001b[0m \u001b[1m45s\u001b[0m 27ms/step - categorical_accuracy: 0.8135 - loss: 0.5412 - val_categorical_accuracy: 0.7838 - val_loss: 0.7706\n"
     ]
    },
    {
     "name": "stderr",
     "output_type": "stream",
     "text": [
      "WARNING:absl:You are saving your model as an HDF5 file via `model.save()` or `keras.saving.save_model(model)`. This file format is considered legacy. We recommend using instead the native Keras format, e.g. `model.save('my_model.keras')` or `keras.saving.save_model(model, 'my_model.keras')`. \n"
     ]
    }
   ],
   "source": [
    "accs = []\n",
    "for i in range (1,6):\n",
    "    K.clear_session()\n",
    "    model = Sequential()\n",
    "    model.add(Dense(2048, activation=\"relu\", input_dim=len(X_train.values[1])))\n",
    "    model.add(Dropout(0.3))\n",
    "    model.add(Dense(1024, activation=\"relu\"))\n",
    "    model.add(Dropout(0.2))\n",
    "    model.add(Dense(512, activation=\"relu\"))\n",
    "    model.add(Dropout(0.2))\n",
    "    model.add(Dense(24, activation = \"softmax\"))\n",
    "    model.compile(loss='categorical_crossentropy', optimizer=\"adam\",  metrics=['categorical_accuracy'])\n",
    "    hist = model.fit(X_train,y_train, epochs= 15,validation_data=(X_val, y_val), batch_size = 64)\n",
    "    accs.append(hist.history['val_categorical_accuracy'][9])\n",
    "    model.save (\"model\"+str(i)+\".h5\")"
   ]
  },
  {
   "cell_type": "code",
   "execution_count": 13,
   "metadata": {
    "ExecuteTime": {
     "end_time": "2019-11-06T09:53:12.133191Z",
     "start_time": "2019-11-06T09:53:12.129201Z"
    },
    "scrolled": true
   },
   "outputs": [
    {
     "name": "stdout",
     "output_type": "stream",
     "text": [
      "0.7710011720657348\n"
     ]
    }
   ],
   "source": [
    "suma = 0\n",
    "for i in accs:\n",
    "    suma = suma + i\n",
    "print(suma/5)"
   ]
  }
 ],
 "metadata": {
  "kernelspec": {
   "display_name": "Python 3",
   "language": "python",
   "name": "python3"
  },
  "language_info": {
   "codemirror_mode": {
    "name": "ipython",
    "version": 3
   },
   "file_extension": ".py",
   "mimetype": "text/x-python",
   "name": "python",
   "nbconvert_exporter": "python",
   "pygments_lexer": "ipython3",
   "version": "3.11.8"
  },
  "toc": {
   "base_numbering": 1,
   "nav_menu": {},
   "number_sections": true,
   "sideBar": true,
   "skip_h1_title": false,
   "title_cell": "Table of Contents",
   "title_sidebar": "Contents",
   "toc_cell": false,
   "toc_position": {},
   "toc_section_display": true,
   "toc_window_display": false
  }
 },
 "nbformat": 4,
 "nbformat_minor": 2
}
