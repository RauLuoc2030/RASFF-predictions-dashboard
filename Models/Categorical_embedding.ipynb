{
 "cells": [
  {
   "cell_type": "markdown",
   "metadata": {
    "colab_type": "text",
    "id": "8Wj2_jhW4vsS"
   },
   "source": [
    "# Librerias"
   ]
  },
  {
   "cell_type": "code",
   "execution_count": null,
   "metadata": {
    "ExecuteTime": {
     "end_time": "2019-11-07T09:58:33.466115Z",
     "start_time": "2019-11-07T09:58:33.460153Z"
    },
    "colab": {},
    "colab_type": "code",
    "id": "nuu3FCuL4vsU",
    "outputId": "cb6802cd-212f-45f8-8679-1ed6483d819b"
   },
   "outputs": [
    {
     "name": "stderr",
     "output_type": "stream",
     "text": [
      "Using TensorFlow backend.\n"
     ]
    }
   ],
   "source": [
    "import numpy as np\n",
    "import pandas as pd\n",
    "import tensorflow as tf\n",
    "from IPython.display import Image\n",
    "import matplotlib.pyplot as plt\n",
    "import functools\n",
    "\n",
    "from keras.models import Sequential, Model\n",
    "from keras.layers import Dense, Dropout, Flatten, Input, MaxPooling1D, Conv1D, Embedding,Reshape, Concatenate,BatchNormalization,GlobalMaxPooling1D,GlobalAveragePooling1D\n",
    "from keras.layers.merge import Concatenate\n",
    "from keras.preprocessing import sequence\n",
    "from keras.optimizers import RMSprop, Adam\n",
    "from keras.preprocessing.sequence import pad_sequences\n",
    "from keras.utils import to_categorical\n",
    "from keras.utils import plot_model\n",
    "from keras import regularizers\n",
    "from keras import metrics\n",
    "from keras import backend as K\n",
    "from keras.wrappers.scikit_learn import KerasClassifier\n",
    "\n",
    "from sklearn import preprocessing\n",
    "from sklearn.model_selection import train_test_split\n",
    "from sklearn.preprocessing import OneHotEncoder\n",
    "from sklearn.preprocessing import LabelBinarizer\n",
    "from sklearn.model_selection import GridSearchCV \n",
    "from sklearn.metrics import classification_report\n"
   ]
  },
  {
   "cell_type": "markdown",
   "metadata": {
    "colab_type": "text",
    "id": "4Sfq8g5B4vsd"
   },
   "source": [
    "# Datos de entrenamiento"
   ]
  },
  {
   "cell_type": "code",
   "execution_count": null,
   "metadata": {
    "ExecuteTime": {
     "end_time": "2019-11-07T09:58:34.347205Z",
     "start_time": "2019-11-07T09:58:34.022084Z"
    },
    "colab": {},
    "colab_type": "code",
    "id": "a7-UwfBS4vsg",
    "outputId": "bb505d90-dca2-42d5-fdfc-358b78371e5b",
    "scrolled": true
   },
   "outputs": [
    {
     "data": {
      "text/html": [
       "<div>\n",
       "<style scoped>\n",
       "    .dataframe tbody tr th:only-of-type {\n",
       "        vertical-align: middle;\n",
       "    }\n",
       "\n",
       "    .dataframe tbody tr th {\n",
       "        vertical-align: top;\n",
       "    }\n",
       "\n",
       "    .dataframe thead th {\n",
       "        text-align: right;\n",
       "    }\n",
       "</style>\n",
       "<table border=\"1\" class=\"dataframe\">\n",
       "  <thead>\n",
       "    <tr style=\"text-align: right;\">\n",
       "      <th></th>\n",
       "      <th>DATE_CASE</th>\n",
       "      <th>NOT_COUNTRY</th>\n",
       "      <th>PROD_CAT</th>\n",
       "      <th>TYPE</th>\n",
       "      <th>RISK_DECISION</th>\n",
       "      <th>ACTION_TAKEN</th>\n",
       "      <th>DISTRIBUTION_STAT</th>\n",
       "      <th>HAZARDS_CAT</th>\n",
       "      <th>COUNT_ORIGEN</th>\n",
       "      <th>COUNT_DESTIN</th>\n",
       "      <th>COUNT_CONCERN</th>\n",
       "    </tr>\n",
       "  </thead>\n",
       "  <tbody>\n",
       "    <tr>\n",
       "      <th>0</th>\n",
       "      <td>2019-09-13</td>\n",
       "      <td>France</td>\n",
       "      <td>meat and meat products (other than poultry)</td>\n",
       "      <td>food</td>\n",
       "      <td>serious</td>\n",
       "      <td>no stock left</td>\n",
       "      <td>no distribution from notifying country</td>\n",
       "      <td>pathogenic micro-organisms</td>\n",
       "      <td>Romania</td>\n",
       "      <td>France</td>\n",
       "      <td>Belgium</td>\n",
       "    </tr>\n",
       "    <tr>\n",
       "      <th>1</th>\n",
       "      <td>2019-09-13</td>\n",
       "      <td>Denmark</td>\n",
       "      <td>cocoa and cocoa preparations, coffee and tea</td>\n",
       "      <td>food</td>\n",
       "      <td>serious</td>\n",
       "      <td>recall from consumers</td>\n",
       "      <td>no distribution from notifying country</td>\n",
       "      <td>natural toxins (other)</td>\n",
       "      <td>Germany</td>\n",
       "      <td>Denmark</td>\n",
       "      <td></td>\n",
       "    </tr>\n",
       "    <tr>\n",
       "      <th>2</th>\n",
       "      <td>2019-09-13</td>\n",
       "      <td>Poland</td>\n",
       "      <td>confectionery</td>\n",
       "      <td>food</td>\n",
       "      <td>serious</td>\n",
       "      <td>informing authorities</td>\n",
       "      <td>distribution restricted to notifying country</td>\n",
       "      <td>food additives and flavourings</td>\n",
       "      <td>Croatia</td>\n",
       "      <td>Poland</td>\n",
       "      <td></td>\n",
       "    </tr>\n",
       "    <tr>\n",
       "      <th>3</th>\n",
       "      <td>2019-09-13</td>\n",
       "      <td>Spain</td>\n",
       "      <td>cereals and bakery products</td>\n",
       "      <td>food</td>\n",
       "      <td>serious</td>\n",
       "      <td>withdrawal from the market</td>\n",
       "      <td>distribution to non-member countries</td>\n",
       "      <td>metals</td>\n",
       "      <td>Italy</td>\n",
       "      <td>Andorra</td>\n",
       "      <td>INFOSAN</td>\n",
       "    </tr>\n",
       "    <tr>\n",
       "      <th>4</th>\n",
       "      <td>2019-09-13</td>\n",
       "      <td>Spain</td>\n",
       "      <td>cereals and bakery products</td>\n",
       "      <td>food</td>\n",
       "      <td>serious</td>\n",
       "      <td>withdrawal from the market</td>\n",
       "      <td>distribution to non-member countries</td>\n",
       "      <td>metals</td>\n",
       "      <td>Italy</td>\n",
       "      <td>Spain</td>\n",
       "      <td>INFOSAN</td>\n",
       "    </tr>\n",
       "    <tr>\n",
       "      <th>...</th>\n",
       "      <td>...</td>\n",
       "      <td>...</td>\n",
       "      <td>...</td>\n",
       "      <td>...</td>\n",
       "      <td>...</td>\n",
       "      <td>...</td>\n",
       "      <td>...</td>\n",
       "      <td>...</td>\n",
       "      <td>...</td>\n",
       "      <td>...</td>\n",
       "      <td>...</td>\n",
       "    </tr>\n",
       "    <tr>\n",
       "      <th>141524</th>\n",
       "      <td>2004-01-05</td>\n",
       "      <td>Italy</td>\n",
       "      <td>fruits and vegetables</td>\n",
       "      <td>food</td>\n",
       "      <td>undecided</td>\n",
       "      <td></td>\n",
       "      <td></td>\n",
       "      <td>labelling absent/incomplete/incorrect</td>\n",
       "      <td>China</td>\n",
       "      <td></td>\n",
       "      <td>Spain</td>\n",
       "    </tr>\n",
       "    <tr>\n",
       "      <th>141525</th>\n",
       "      <td>2004-01-05</td>\n",
       "      <td>Portugal</td>\n",
       "      <td>molluscs and products thereof - (obsolete)</td>\n",
       "      <td>food</td>\n",
       "      <td>undecided</td>\n",
       "      <td></td>\n",
       "      <td></td>\n",
       "      <td>pathogenic micro-organisms</td>\n",
       "      <td>Brazil</td>\n",
       "      <td></td>\n",
       "      <td>Portugal</td>\n",
       "    </tr>\n",
       "    <tr>\n",
       "      <th>141526</th>\n",
       "      <td>2004-01-05</td>\n",
       "      <td>Portugal</td>\n",
       "      <td>molluscs and products thereof - (obsolete)</td>\n",
       "      <td>food</td>\n",
       "      <td>undecided</td>\n",
       "      <td></td>\n",
       "      <td></td>\n",
       "      <td>pathogenic micro-organisms</td>\n",
       "      <td>Brazil</td>\n",
       "      <td></td>\n",
       "      <td>Spain</td>\n",
       "    </tr>\n",
       "    <tr>\n",
       "      <th>141527</th>\n",
       "      <td>2004-01-05</td>\n",
       "      <td>Netherlands</td>\n",
       "      <td>fish and fish products</td>\n",
       "      <td>food</td>\n",
       "      <td>undecided</td>\n",
       "      <td></td>\n",
       "      <td></td>\n",
       "      <td>biological contaminants (other)</td>\n",
       "      <td>Indonesia</td>\n",
       "      <td>Belgium</td>\n",
       "      <td>Netherlands</td>\n",
       "    </tr>\n",
       "    <tr>\n",
       "      <th>141528</th>\n",
       "      <td>2004-01-05</td>\n",
       "      <td>Netherlands</td>\n",
       "      <td>fish and fish products</td>\n",
       "      <td>food</td>\n",
       "      <td>undecided</td>\n",
       "      <td></td>\n",
       "      <td></td>\n",
       "      <td>biological contaminants (other)</td>\n",
       "      <td>Indonesia</td>\n",
       "      <td>Belgium</td>\n",
       "      <td>Spain</td>\n",
       "    </tr>\n",
       "  </tbody>\n",
       "</table>\n",
       "<p>141529 rows × 11 columns</p>\n",
       "</div>"
      ],
      "text/plain": [
       "         DATE_CASE  NOT_COUNTRY                                      PROD_CAT  \\\n",
       "0       2019-09-13       France   meat and meat products (other than poultry)   \n",
       "1       2019-09-13      Denmark  cocoa and cocoa preparations, coffee and tea   \n",
       "2       2019-09-13       Poland                                 confectionery   \n",
       "3       2019-09-13        Spain                   cereals and bakery products   \n",
       "4       2019-09-13        Spain                   cereals and bakery products   \n",
       "...            ...          ...                                           ...   \n",
       "141524  2004-01-05        Italy                         fruits and vegetables   \n",
       "141525  2004-01-05     Portugal    molluscs and products thereof - (obsolete)   \n",
       "141526  2004-01-05     Portugal    molluscs and products thereof - (obsolete)   \n",
       "141527  2004-01-05  Netherlands                        fish and fish products   \n",
       "141528  2004-01-05  Netherlands                        fish and fish products   \n",
       "\n",
       "        TYPE RISK_DECISION                ACTION_TAKEN  \\\n",
       "0       food       serious               no stock left   \n",
       "1       food       serious       recall from consumers   \n",
       "2       food       serious       informing authorities   \n",
       "3       food       serious  withdrawal from the market   \n",
       "4       food       serious  withdrawal from the market   \n",
       "...      ...           ...                         ...   \n",
       "141524  food     undecided                               \n",
       "141525  food     undecided                               \n",
       "141526  food     undecided                               \n",
       "141527  food     undecided                               \n",
       "141528  food     undecided                               \n",
       "\n",
       "                                   DISTRIBUTION_STAT  \\\n",
       "0             no distribution from notifying country   \n",
       "1             no distribution from notifying country   \n",
       "2       distribution restricted to notifying country   \n",
       "3               distribution to non-member countries   \n",
       "4               distribution to non-member countries   \n",
       "...                                              ...   \n",
       "141524                                                 \n",
       "141525                                                 \n",
       "141526                                                 \n",
       "141527                                                 \n",
       "141528                                                 \n",
       "\n",
       "                                  HAZARDS_CAT COUNT_ORIGEN COUNT_DESTIN  \\\n",
       "0                  pathogenic micro-organisms      Romania       France   \n",
       "1                      natural toxins (other)      Germany      Denmark   \n",
       "2              food additives and flavourings      Croatia       Poland   \n",
       "3                                      metals        Italy      Andorra   \n",
       "4                                      metals        Italy        Spain   \n",
       "...                                       ...          ...          ...   \n",
       "141524  labelling absent/incomplete/incorrect        China                \n",
       "141525             pathogenic micro-organisms       Brazil                \n",
       "141526             pathogenic micro-organisms       Brazil                \n",
       "141527        biological contaminants (other)    Indonesia      Belgium   \n",
       "141528        biological contaminants (other)    Indonesia      Belgium   \n",
       "\n",
       "       COUNT_CONCERN  \n",
       "0            Belgium  \n",
       "1                     \n",
       "2                     \n",
       "3            INFOSAN  \n",
       "4            INFOSAN  \n",
       "...              ...  \n",
       "141524         Spain  \n",
       "141525      Portugal  \n",
       "141526         Spain  \n",
       "141527   Netherlands  \n",
       "141528         Spain  \n",
       "\n",
       "[141529 rows x 11 columns]"
      ]
     },
     "execution_count": 3,
     "metadata": {
      "tags": []
     },
     "output_type": "execute_result"
    }
   ],
   "source": [
    "data = pd.read_csv('D:/Visual Studio Code/HK 6/Data Mining/RASFF-predictions-dashboard/Copia csvs antiguos/splited_RASFF_DATA_16092019.csv', sep=';', \n",
    "                header=0, index_col = 0)\n",
    "data = data.sample(frac = 1)\n",
    "df = data\n",
    "df"
   ]
  },
  {
   "cell_type": "markdown",
   "metadata": {
    "colab_type": "text",
    "id": "9pPNjLsA4vsm"
   },
   "source": [
    "# Pre-procesamiento basico"
   ]
  },
  {
   "cell_type": "code",
   "execution_count": null,
   "metadata": {
    "ExecuteTime": {
     "end_time": "2019-11-07T09:58:35.113167Z",
     "start_time": "2019-11-07T09:58:34.979538Z"
    },
    "colab": {},
    "colab_type": "code",
    "id": "6DOLl9014vso"
   },
   "outputs": [],
   "source": [
    "df['HAZARDS_CAT'] = df['HAZARDS_CAT'].astype(str)\n",
    "df['DATE_CASE'] = df['DATE_CASE'].astype(str)\n",
    "df['DATE_CASE'] =pd.to_datetime(df.DATE_CASE)\n",
    "df['DATE_CASE'] = df.DATE_CASE.dt.month"
   ]
  },
  {
   "cell_type": "markdown",
   "metadata": {
    "colab_type": "text",
    "id": "ZCy43SqV4vss"
   },
   "source": [
    "# Selección de features"
   ]
  },
  {
   "cell_type": "code",
   "execution_count": null,
   "metadata": {
    "ExecuteTime": {
     "end_time": "2019-11-07T09:58:39.169658Z",
     "start_time": "2019-11-07T09:58:39.161652Z"
    },
    "colab": {},
    "colab_type": "code",
    "id": "FIJhCA8f4vsu"
   },
   "outputs": [],
   "source": [
    "features = [0,1,6,8]\n",
    "target = [2]\n",
    "X = df.iloc[:,features]\n",
    "y = df.iloc[:,target]"
   ]
  },
  {
   "cell_type": "code",
   "execution_count": null,
   "metadata": {
    "ExecuteTime": {
     "end_time": "2019-11-07T09:58:39.622387Z",
     "start_time": "2019-11-07T09:58:39.605432Z"
    },
    "colab": {},
    "colab_type": "code",
    "id": "60xhpgfs4vsy",
    "outputId": "f44ccac5-53f1-4dde-8495-7ba6df8702e8",
    "scrolled": true
   },
   "outputs": [
    {
     "data": {
      "text/html": [
       "<div>\n",
       "<style scoped>\n",
       "    .dataframe tbody tr th:only-of-type {\n",
       "        vertical-align: middle;\n",
       "    }\n",
       "\n",
       "    .dataframe tbody tr th {\n",
       "        vertical-align: top;\n",
       "    }\n",
       "\n",
       "    .dataframe thead th {\n",
       "        text-align: right;\n",
       "    }\n",
       "</style>\n",
       "<table border=\"1\" class=\"dataframe\">\n",
       "  <thead>\n",
       "    <tr style=\"text-align: right;\">\n",
       "      <th></th>\n",
       "      <th>DATE_CASE</th>\n",
       "      <th>NOT_COUNTRY</th>\n",
       "      <th>DISTRIBUTION_STAT</th>\n",
       "      <th>COUNT_ORIGEN</th>\n",
       "    </tr>\n",
       "  </thead>\n",
       "  <tbody>\n",
       "    <tr>\n",
       "      <th>21250</th>\n",
       "      <td>4</td>\n",
       "      <td>Italy</td>\n",
       "      <td>product allowed to travel to destination under...</td>\n",
       "      <td>China</td>\n",
       "    </tr>\n",
       "    <tr>\n",
       "      <th>64345</th>\n",
       "      <td>6</td>\n",
       "      <td>France</td>\n",
       "      <td>distribution to other member countries</td>\n",
       "      <td>France</td>\n",
       "    </tr>\n",
       "    <tr>\n",
       "      <th>26868</th>\n",
       "      <td>12</td>\n",
       "      <td>Germany</td>\n",
       "      <td>distribution to other member countries</td>\n",
       "      <td>Turkey</td>\n",
       "    </tr>\n",
       "    <tr>\n",
       "      <th>71140</th>\n",
       "      <td>9</td>\n",
       "      <td>Italy</td>\n",
       "      <td>product not (yet) placed on the market</td>\n",
       "      <td>Morocco</td>\n",
       "    </tr>\n",
       "    <tr>\n",
       "      <th>101837</th>\n",
       "      <td>5</td>\n",
       "      <td>France</td>\n",
       "      <td>distribution on the market (possible)</td>\n",
       "      <td>Poland</td>\n",
       "    </tr>\n",
       "    <tr>\n",
       "      <th>...</th>\n",
       "      <td>...</td>\n",
       "      <td>...</td>\n",
       "      <td>...</td>\n",
       "      <td>...</td>\n",
       "    </tr>\n",
       "    <tr>\n",
       "      <th>135336</th>\n",
       "      <td>3</td>\n",
       "      <td>Italy</td>\n",
       "      <td>no distribution</td>\n",
       "      <td>Turkey</td>\n",
       "    </tr>\n",
       "    <tr>\n",
       "      <th>12625</th>\n",
       "      <td>10</td>\n",
       "      <td>Italy</td>\n",
       "      <td>product not (yet) placed on the market</td>\n",
       "      <td>Thailand</td>\n",
       "    </tr>\n",
       "    <tr>\n",
       "      <th>67891</th>\n",
       "      <td>2</td>\n",
       "      <td>Lithuania</td>\n",
       "      <td>distribution to other member countries</td>\n",
       "      <td>United States</td>\n",
       "    </tr>\n",
       "    <tr>\n",
       "      <th>78072</th>\n",
       "      <td>2</td>\n",
       "      <td>United Kingdom</td>\n",
       "      <td>distribution to other member countries</td>\n",
       "      <td>Romania</td>\n",
       "    </tr>\n",
       "    <tr>\n",
       "      <th>139463</th>\n",
       "      <td>6</td>\n",
       "      <td>Spain</td>\n",
       "      <td></td>\n",
       "      <td>Iran</td>\n",
       "    </tr>\n",
       "  </tbody>\n",
       "</table>\n",
       "<p>141529 rows × 4 columns</p>\n",
       "</div>"
      ],
      "text/plain": [
       "        DATE_CASE     NOT_COUNTRY  \\\n",
       "21250           4           Italy   \n",
       "64345           6          France   \n",
       "26868          12         Germany   \n",
       "71140           9           Italy   \n",
       "101837          5          France   \n",
       "...           ...             ...   \n",
       "135336          3           Italy   \n",
       "12625          10           Italy   \n",
       "67891           2       Lithuania   \n",
       "78072           2  United Kingdom   \n",
       "139463          6           Spain   \n",
       "\n",
       "                                        DISTRIBUTION_STAT   COUNT_ORIGEN  \n",
       "21250   product allowed to travel to destination under...          China  \n",
       "64345              distribution to other member countries         France  \n",
       "26868              distribution to other member countries         Turkey  \n",
       "71140              product not (yet) placed on the market        Morocco  \n",
       "101837              distribution on the market (possible)         Poland  \n",
       "...                                                   ...            ...  \n",
       "135336                                    no distribution         Turkey  \n",
       "12625              product not (yet) placed on the market       Thailand  \n",
       "67891              distribution to other member countries  United States  \n",
       "78072              distribution to other member countries        Romania  \n",
       "139463                                                              Iran  \n",
       "\n",
       "[141529 rows x 4 columns]"
      ]
     },
     "execution_count": 41,
     "metadata": {
      "tags": []
     },
     "output_type": "execute_result"
    }
   ],
   "source": [
    "X"
   ]
  },
  {
   "cell_type": "code",
   "execution_count": null,
   "metadata": {
    "ExecuteTime": {
     "end_time": "2019-11-07T09:58:42.208891Z",
     "start_time": "2019-11-07T09:58:42.196950Z"
    },
    "colab": {},
    "colab_type": "code",
    "id": "FQCg4xQ54vs4",
    "outputId": "ea6ee104-d2da-4bd1-c289-19bd86ea7253",
    "scrolled": true
   },
   "outputs": [
    {
     "data": {
      "text/html": [
       "<div>\n",
       "<style scoped>\n",
       "    .dataframe tbody tr th:only-of-type {\n",
       "        vertical-align: middle;\n",
       "    }\n",
       "\n",
       "    .dataframe tbody tr th {\n",
       "        vertical-align: top;\n",
       "    }\n",
       "\n",
       "    .dataframe thead th {\n",
       "        text-align: right;\n",
       "    }\n",
       "</style>\n",
       "<table border=\"1\" class=\"dataframe\">\n",
       "  <thead>\n",
       "    <tr style=\"text-align: right;\">\n",
       "      <th></th>\n",
       "      <th>PROD_CAT</th>\n",
       "    </tr>\n",
       "  </thead>\n",
       "  <tbody>\n",
       "    <tr>\n",
       "      <th>21250</th>\n",
       "      <td>food contact materials</td>\n",
       "    </tr>\n",
       "    <tr>\n",
       "      <th>64345</th>\n",
       "      <td>milk and milk products</td>\n",
       "    </tr>\n",
       "    <tr>\n",
       "      <th>26868</th>\n",
       "      <td>herbs and spices</td>\n",
       "    </tr>\n",
       "    <tr>\n",
       "      <th>71140</th>\n",
       "      <td>fruits and vegetables</td>\n",
       "    </tr>\n",
       "    <tr>\n",
       "      <th>101837</th>\n",
       "      <td>dietetic foods, food supplements, fortified foods</td>\n",
       "    </tr>\n",
       "    <tr>\n",
       "      <th>...</th>\n",
       "      <td>...</td>\n",
       "    </tr>\n",
       "    <tr>\n",
       "      <th>135336</th>\n",
       "      <td>fruits and vegetables</td>\n",
       "    </tr>\n",
       "    <tr>\n",
       "      <th>12625</th>\n",
       "      <td>soups, broths, sauces and condiments</td>\n",
       "    </tr>\n",
       "    <tr>\n",
       "      <th>67891</th>\n",
       "      <td>dietetic foods, food supplements, fortified foods</td>\n",
       "    </tr>\n",
       "    <tr>\n",
       "      <th>78072</th>\n",
       "      <td>prepared dishes and snacks</td>\n",
       "    </tr>\n",
       "    <tr>\n",
       "      <th>139463</th>\n",
       "      <td>nuts, nut products and seeds</td>\n",
       "    </tr>\n",
       "  </tbody>\n",
       "</table>\n",
       "<p>141529 rows × 1 columns</p>\n",
       "</div>"
      ],
      "text/plain": [
       "                                                 PROD_CAT\n",
       "21250                              food contact materials\n",
       "64345                              milk and milk products\n",
       "26868                                    herbs and spices\n",
       "71140                               fruits and vegetables\n",
       "101837  dietetic foods, food supplements, fortified foods\n",
       "...                                                   ...\n",
       "135336                              fruits and vegetables\n",
       "12625                soups, broths, sauces and condiments\n",
       "67891   dietetic foods, food supplements, fortified foods\n",
       "78072                          prepared dishes and snacks\n",
       "139463                       nuts, nut products and seeds\n",
       "\n",
       "[141529 rows x 1 columns]"
      ]
     },
     "execution_count": 42,
     "metadata": {
      "tags": []
     },
     "output_type": "execute_result"
    }
   ],
   "source": [
    "y"
   ]
  },
  {
   "cell_type": "code",
   "execution_count": null,
   "metadata": {
    "ExecuteTime": {
     "end_time": "2019-11-07T09:58:47.391416Z",
     "start_time": "2019-11-07T09:58:47.346535Z"
    },
    "colab": {},
    "colab_type": "code",
    "id": "lYMY6oXk4vs9"
   },
   "outputs": [],
   "source": [
    "ency = OneHotEncoder(handle_unknown='ignore', sparse = False)\n",
    "ency.fit(y.values)\n",
    "y_one_hot = ency.transform(y.values)"
   ]
  },
  {
   "cell_type": "markdown",
   "metadata": {
    "colab_type": "text",
    "id": "9pHebzer4vtB"
   },
   "source": [
    "# Datos de test"
   ]
  },
  {
   "cell_type": "markdown",
   "metadata": {
    "colab_type": "text",
    "id": "6A-ocBgx4vtB"
   },
   "source": [
    "## Cargado"
   ]
  },
  {
   "cell_type": "code",
   "execution_count": null,
   "metadata": {
    "ExecuteTime": {
     "end_time": "2019-11-07T09:58:50.434099Z",
     "start_time": "2019-11-07T09:58:50.374287Z"
    },
    "colab": {},
    "colab_type": "code",
    "id": "zxE6R8kd4vtC",
    "outputId": "1a598948-6c17-43fe-935d-1de27f80ed91"
   },
   "outputs": [
    {
     "data": {
      "text/html": [
       "<div>\n",
       "<style scoped>\n",
       "    .dataframe tbody tr th:only-of-type {\n",
       "        vertical-align: middle;\n",
       "    }\n",
       "\n",
       "    .dataframe tbody tr th {\n",
       "        vertical-align: top;\n",
       "    }\n",
       "\n",
       "    .dataframe thead th {\n",
       "        text-align: right;\n",
       "    }\n",
       "</style>\n",
       "<table border=\"1\" class=\"dataframe\">\n",
       "  <thead>\n",
       "    <tr style=\"text-align: right;\">\n",
       "      <th></th>\n",
       "      <th>DATE_CASE</th>\n",
       "      <th>NOT_COUNTRY</th>\n",
       "      <th>PROD_CAT</th>\n",
       "      <th>TYPE</th>\n",
       "      <th>RISK_DECISION</th>\n",
       "      <th>ACTION_TAKEN</th>\n",
       "      <th>DISTRIBUTION_STAT</th>\n",
       "      <th>HAZARDS_CAT</th>\n",
       "      <th>COUNT_ORIGEN</th>\n",
       "      <th>COUNT_DESTIN</th>\n",
       "      <th>COUNT_CONCERN</th>\n",
       "    </tr>\n",
       "  </thead>\n",
       "  <tbody>\n",
       "    <tr>\n",
       "      <th>4251</th>\n",
       "      <td>2019-05-08</td>\n",
       "      <td>Italy</td>\n",
       "      <td>prepared dishes and snacks</td>\n",
       "      <td>food</td>\n",
       "      <td>not serious</td>\n",
       "      <td>seizure</td>\n",
       "      <td>information on distribution not (yet) available</td>\n",
       "      <td>labelling absent/incomplete/incorrect</td>\n",
       "      <td>China</td>\n",
       "      <td></td>\n",
       "      <td>Italy</td>\n",
       "    </tr>\n",
       "    <tr>\n",
       "      <th>1059</th>\n",
       "      <td>2019-08-08</td>\n",
       "      <td>France</td>\n",
       "      <td>food contact materials</td>\n",
       "      <td>fcm</td>\n",
       "      <td>undecided</td>\n",
       "      <td>withdrawal from the market</td>\n",
       "      <td>distribution to other member countries</td>\n",
       "      <td>industrial contaminants</td>\n",
       "      <td>China</td>\n",
       "      <td>Belgium</td>\n",
       "      <td></td>\n",
       "    </tr>\n",
       "    <tr>\n",
       "      <th>611</th>\n",
       "      <td>2019-08-20</td>\n",
       "      <td>Austria</td>\n",
       "      <td>fruits and vegetables</td>\n",
       "      <td>food</td>\n",
       "      <td>serious</td>\n",
       "      <td>withdrawal from the market</td>\n",
       "      <td>distribution to other member countries</td>\n",
       "      <td>composition</td>\n",
       "      <td>China</td>\n",
       "      <td>Croatia</td>\n",
       "      <td>INFOSAN</td>\n",
       "    </tr>\n",
       "    <tr>\n",
       "      <th>637</th>\n",
       "      <td>2019-08-16</td>\n",
       "      <td>Germany</td>\n",
       "      <td>fats and oils</td>\n",
       "      <td>food</td>\n",
       "      <td>not serious</td>\n",
       "      <td>detained by operator</td>\n",
       "      <td>no distribution from notifying country</td>\n",
       "      <td>composition</td>\n",
       "      <td>India</td>\n",
       "      <td>Belgium</td>\n",
       "      <td></td>\n",
       "    </tr>\n",
       "    <tr>\n",
       "      <th>2986</th>\n",
       "      <td>2019-06-20</td>\n",
       "      <td>Denmark</td>\n",
       "      <td>food additives and flavourings</td>\n",
       "      <td>food</td>\n",
       "      <td>undecided</td>\n",
       "      <td>withdrawal from recipient(s)</td>\n",
       "      <td>distribution to other member countries</td>\n",
       "      <td>foreign bodies</td>\n",
       "      <td>Belgium</td>\n",
       "      <td>Netherlands</td>\n",
       "      <td>INFOSAN</td>\n",
       "    </tr>\n",
       "    <tr>\n",
       "      <th>2560</th>\n",
       "      <td>2019-06-27</td>\n",
       "      <td>Bulgaria</td>\n",
       "      <td>fruits and vegetables</td>\n",
       "      <td>food</td>\n",
       "      <td>serious</td>\n",
       "      <td>destruction</td>\n",
       "      <td>product not (yet) placed on the market</td>\n",
       "      <td>pesticide residues</td>\n",
       "      <td>Turkey</td>\n",
       "      <td></td>\n",
       "      <td>Bulgaria</td>\n",
       "    </tr>\n",
       "    <tr>\n",
       "      <th>8263</th>\n",
       "      <td>2019-01-30</td>\n",
       "      <td>Ireland</td>\n",
       "      <td>herbs and spices</td>\n",
       "      <td>food</td>\n",
       "      <td>serious</td>\n",
       "      <td>withdrawal from recipient(s)</td>\n",
       "      <td>distribution to other member countries</td>\n",
       "      <td>environmental pollutants</td>\n",
       "      <td>Czech Republic</td>\n",
       "      <td>Austria</td>\n",
       "      <td>INFOSAN</td>\n",
       "    </tr>\n",
       "    <tr>\n",
       "      <th>3862</th>\n",
       "      <td>2019-05-28</td>\n",
       "      <td>Netherlands</td>\n",
       "      <td>cereals and bakery products</td>\n",
       "      <td>food</td>\n",
       "      <td>serious</td>\n",
       "      <td>withdrawal from the market</td>\n",
       "      <td>distribution to other member countries</td>\n",
       "      <td>foreign bodies</td>\n",
       "      <td>Moldova</td>\n",
       "      <td>Slovakia</td>\n",
       "      <td>INFOSAN</td>\n",
       "    </tr>\n",
       "    <tr>\n",
       "      <th>9372</th>\n",
       "      <td>2019-01-23</td>\n",
       "      <td>United Kingdom</td>\n",
       "      <td>non-alcoholic beverages</td>\n",
       "      <td>food</td>\n",
       "      <td>undecided</td>\n",
       "      <td>import not authorised</td>\n",
       "      <td>product not (yet) placed on the market</td>\n",
       "      <td>food additives and flavourings</td>\n",
       "      <td>United Arab Emirates</td>\n",
       "      <td></td>\n",
       "      <td>United Kingdom</td>\n",
       "    </tr>\n",
       "    <tr>\n",
       "      <th>697</th>\n",
       "      <td>2019-08-13</td>\n",
       "      <td>Czech Republic</td>\n",
       "      <td>dietetic foods, food supplements, fortified foods</td>\n",
       "      <td>food</td>\n",
       "      <td>undecided</td>\n",
       "      <td></td>\n",
       "      <td>product traded online</td>\n",
       "      <td>novel food</td>\n",
       "      <td>unknown origin</td>\n",
       "      <td></td>\n",
       "      <td>Czech Republic</td>\n",
       "    </tr>\n",
       "    <tr>\n",
       "      <th>214</th>\n",
       "      <td>2019-09-03</td>\n",
       "      <td>Netherlands</td>\n",
       "      <td>poultry meat and poultry meat products</td>\n",
       "      <td>food</td>\n",
       "      <td>serious</td>\n",
       "      <td></td>\n",
       "      <td>product not (yet) placed on the market</td>\n",
       "      <td>pathogenic micro-organisms</td>\n",
       "      <td>Brazil</td>\n",
       "      <td></td>\n",
       "      <td>Netherlands</td>\n",
       "    </tr>\n",
       "    <tr>\n",
       "      <th>1910</th>\n",
       "      <td>2019-07-10</td>\n",
       "      <td>Austria</td>\n",
       "      <td>nuts, nut products and seeds</td>\n",
       "      <td>food</td>\n",
       "      <td>serious</td>\n",
       "      <td>withdrawal from the market</td>\n",
       "      <td>no distribution from notifying country</td>\n",
       "      <td>biological contaminants (other)</td>\n",
       "      <td>Austria</td>\n",
       "      <td>Austria</td>\n",
       "      <td>Pakistan</td>\n",
       "    </tr>\n",
       "    <tr>\n",
       "      <th>3502</th>\n",
       "      <td>2019-06-06</td>\n",
       "      <td>France</td>\n",
       "      <td>prepared dishes and snacks</td>\n",
       "      <td>food</td>\n",
       "      <td>serious</td>\n",
       "      <td>recall from consumers</td>\n",
       "      <td>distribution to other member countries</td>\n",
       "      <td>labelling absent/incomplete/incorrect</td>\n",
       "      <td>France</td>\n",
       "      <td>Belgium</td>\n",
       "      <td></td>\n",
       "    </tr>\n",
       "    <tr>\n",
       "      <th>6208</th>\n",
       "      <td>2019-03-21</td>\n",
       "      <td>Latvia</td>\n",
       "      <td>other food product / mixed</td>\n",
       "      <td>food</td>\n",
       "      <td>not serious</td>\n",
       "      <td>re-dispatch</td>\n",
       "      <td>product not (yet) placed on the market</td>\n",
       "      <td>metals</td>\n",
       "      <td>Russia</td>\n",
       "      <td></td>\n",
       "      <td>Latvia</td>\n",
       "    </tr>\n",
       "    <tr>\n",
       "      <th>290</th>\n",
       "      <td>2019-09-05</td>\n",
       "      <td>Greece</td>\n",
       "      <td>nuts, nut products and seeds</td>\n",
       "      <td>food</td>\n",
       "      <td>serious</td>\n",
       "      <td>import not authorised</td>\n",
       "      <td>product not (yet) placed on the market</td>\n",
       "      <td>pathogenic micro-organisms</td>\n",
       "      <td>Sudan</td>\n",
       "      <td></td>\n",
       "      <td>Greece</td>\n",
       "    </tr>\n",
       "    <tr>\n",
       "      <th>1666</th>\n",
       "      <td>2019-07-23</td>\n",
       "      <td>France</td>\n",
       "      <td>poultry meat and poultry meat products</td>\n",
       "      <td>food</td>\n",
       "      <td>serious</td>\n",
       "      <td>detained by operator</td>\n",
       "      <td>distribution to other member countries</td>\n",
       "      <td>pathogenic micro-organisms</td>\n",
       "      <td>Poland</td>\n",
       "      <td>Hong Kong</td>\n",
       "      <td>INFOSAN</td>\n",
       "    </tr>\n",
       "    <tr>\n",
       "      <th>6551</th>\n",
       "      <td>2019-03-14</td>\n",
       "      <td>Sweden</td>\n",
       "      <td>dietetic foods, food supplements, fortified foods</td>\n",
       "      <td>food</td>\n",
       "      <td>undecided</td>\n",
       "      <td>informing authorities</td>\n",
       "      <td>product traded online</td>\n",
       "      <td>novel food</td>\n",
       "      <td>Switzerland</td>\n",
       "      <td>Austria</td>\n",
       "      <td>Sweden</td>\n",
       "    </tr>\n",
       "    <tr>\n",
       "      <th>9188</th>\n",
       "      <td>2019-01-23</td>\n",
       "      <td>United Kingdom</td>\n",
       "      <td>other food product / mixed</td>\n",
       "      <td>food</td>\n",
       "      <td>serious</td>\n",
       "      <td>withdrawal from the market</td>\n",
       "      <td>distribution to other member countries</td>\n",
       "      <td>foreign bodies</td>\n",
       "      <td>Belize</td>\n",
       "      <td>Lithuania</td>\n",
       "      <td>Belgium</td>\n",
       "    </tr>\n",
       "    <tr>\n",
       "      <th>2230</th>\n",
       "      <td>2019-07-05</td>\n",
       "      <td>Germany</td>\n",
       "      <td>food contact materials</td>\n",
       "      <td>fcm</td>\n",
       "      <td>serious</td>\n",
       "      <td>recall from consumers</td>\n",
       "      <td>distribution to other member countries</td>\n",
       "      <td>migration</td>\n",
       "      <td>China</td>\n",
       "      <td>Slovenia</td>\n",
       "      <td>INFOSAN</td>\n",
       "    </tr>\n",
       "    <tr>\n",
       "      <th>1859</th>\n",
       "      <td>2019-07-15</td>\n",
       "      <td>Italy</td>\n",
       "      <td>meat and meat products (other than poultry)</td>\n",
       "      <td>food</td>\n",
       "      <td>undecided</td>\n",
       "      <td>withdrawal from the market</td>\n",
       "      <td>distribution to other member countries</td>\n",
       "      <td>residues of veterinary medicinal products</td>\n",
       "      <td>Italy</td>\n",
       "      <td>United Kingdom</td>\n",
       "      <td>INFOSAN</td>\n",
       "    </tr>\n",
       "    <tr>\n",
       "      <th>8284</th>\n",
       "      <td>2019-01-30</td>\n",
       "      <td>Ireland</td>\n",
       "      <td>herbs and spices</td>\n",
       "      <td>food</td>\n",
       "      <td>serious</td>\n",
       "      <td>withdrawal from recipient(s)</td>\n",
       "      <td>distribution to other member countries</td>\n",
       "      <td>environmental pollutants</td>\n",
       "      <td>Czech Republic</td>\n",
       "      <td>Italy</td>\n",
       "      <td>Denmark</td>\n",
       "    </tr>\n",
       "    <tr>\n",
       "      <th>6989</th>\n",
       "      <td>2019-03-06</td>\n",
       "      <td>Netherlands</td>\n",
       "      <td>fruits and vegetables</td>\n",
       "      <td>food</td>\n",
       "      <td>serious</td>\n",
       "      <td>informing recipient(s)</td>\n",
       "      <td>distribution to other member countries</td>\n",
       "      <td>pesticide residues</td>\n",
       "      <td>South Africa</td>\n",
       "      <td>Switzerland</td>\n",
       "      <td>INFOSAN</td>\n",
       "    </tr>\n",
       "    <tr>\n",
       "      <th>3511</th>\n",
       "      <td>2019-06-06</td>\n",
       "      <td>Greece</td>\n",
       "      <td>feed materials</td>\n",
       "      <td>feed</td>\n",
       "      <td>not serious</td>\n",
       "      <td>physical/chemical treatment</td>\n",
       "      <td>product not (yet) placed on the market</td>\n",
       "      <td>pathogenic micro-organisms</td>\n",
       "      <td>United States</td>\n",
       "      <td></td>\n",
       "      <td>Greece</td>\n",
       "    </tr>\n",
       "    <tr>\n",
       "      <th>314</th>\n",
       "      <td>2019-08-30</td>\n",
       "      <td>Italy</td>\n",
       "      <td>herbs and spices</td>\n",
       "      <td>food</td>\n",
       "      <td>serious</td>\n",
       "      <td>recall from consumers</td>\n",
       "      <td>distribution restricted to notifying country</td>\n",
       "      <td>pathogenic micro-organisms</td>\n",
       "      <td>Italy</td>\n",
       "      <td>Italy</td>\n",
       "      <td>China</td>\n",
       "    </tr>\n",
       "    <tr>\n",
       "      <th>7211</th>\n",
       "      <td>2019-02-27</td>\n",
       "      <td>Sweden</td>\n",
       "      <td>dietetic foods, food supplements, fortified foods</td>\n",
       "      <td>food</td>\n",
       "      <td>undecided</td>\n",
       "      <td>withdrawal from recipient(s)</td>\n",
       "      <td>no distribution from notifying country</td>\n",
       "      <td>composition</td>\n",
       "      <td>Finland</td>\n",
       "      <td>Sweden</td>\n",
       "      <td></td>\n",
       "    </tr>\n",
       "    <tr>\n",
       "      <th>5874</th>\n",
       "      <td>2019-03-29</td>\n",
       "      <td>Spain</td>\n",
       "      <td>fish and fish products</td>\n",
       "      <td>food</td>\n",
       "      <td>serious</td>\n",
       "      <td>relabelling</td>\n",
       "      <td>distribution to other member countries</td>\n",
       "      <td>allergens</td>\n",
       "      <td>Spain</td>\n",
       "      <td>France</td>\n",
       "      <td></td>\n",
       "    </tr>\n",
       "    <tr>\n",
       "      <th>2473</th>\n",
       "      <td>2019-07-04</td>\n",
       "      <td>Netherlands</td>\n",
       "      <td>feed materials</td>\n",
       "      <td>feed</td>\n",
       "      <td>serious</td>\n",
       "      <td>official detention</td>\n",
       "      <td>product not (yet) placed on the market</td>\n",
       "      <td>mycotoxins</td>\n",
       "      <td>Sudan</td>\n",
       "      <td></td>\n",
       "      <td>Netherlands</td>\n",
       "    </tr>\n",
       "    <tr>\n",
       "      <th>3444</th>\n",
       "      <td>2019-06-11</td>\n",
       "      <td>Germany</td>\n",
       "      <td>dietetic foods, food supplements, fortified foods</td>\n",
       "      <td>food</td>\n",
       "      <td>serious</td>\n",
       "      <td>withdrawal from the market</td>\n",
       "      <td>distribution to other member countries</td>\n",
       "      <td>allergens</td>\n",
       "      <td>Poland</td>\n",
       "      <td>Belgium</td>\n",
       "      <td>INFOSAN</td>\n",
       "    </tr>\n",
       "    <tr>\n",
       "      <th>237</th>\n",
       "      <td>2019-08-30</td>\n",
       "      <td>Netherlands</td>\n",
       "      <td>pet food</td>\n",
       "      <td>feed</td>\n",
       "      <td>not serious</td>\n",
       "      <td>informing recipient(s)</td>\n",
       "      <td>distribution to other member countries</td>\n",
       "      <td>pathogenic micro-organisms</td>\n",
       "      <td>Thailand</td>\n",
       "      <td>Germany</td>\n",
       "      <td>Netherlands</td>\n",
       "    </tr>\n",
       "    <tr>\n",
       "      <th>9486</th>\n",
       "      <td>2019-01-16</td>\n",
       "      <td>Germany</td>\n",
       "      <td>feed materials</td>\n",
       "      <td>feed</td>\n",
       "      <td>serious</td>\n",
       "      <td>detained by operator</td>\n",
       "      <td>distribution restricted to notifying country</td>\n",
       "      <td>composition</td>\n",
       "      <td>Romania</td>\n",
       "      <td>Germany</td>\n",
       "      <td>Netherlands</td>\n",
       "    </tr>\n",
       "    <tr>\n",
       "      <th>...</th>\n",
       "      <td>...</td>\n",
       "      <td>...</td>\n",
       "      <td>...</td>\n",
       "      <td>...</td>\n",
       "      <td>...</td>\n",
       "      <td>...</td>\n",
       "      <td>...</td>\n",
       "      <td>...</td>\n",
       "      <td>...</td>\n",
       "      <td>...</td>\n",
       "      <td>...</td>\n",
       "    </tr>\n",
       "    <tr>\n",
       "      <th>6871</th>\n",
       "      <td>2019-03-04</td>\n",
       "      <td>United Kingdom</td>\n",
       "      <td>meat and meat products (other than poultry)</td>\n",
       "      <td>food</td>\n",
       "      <td>undecided</td>\n",
       "      <td></td>\n",
       "      <td>distribution to other member countries</td>\n",
       "      <td>poor or insufficient controls</td>\n",
       "      <td>United Kingdom</td>\n",
       "      <td>Ireland</td>\n",
       "      <td>France</td>\n",
       "    </tr>\n",
       "    <tr>\n",
       "      <th>4832</th>\n",
       "      <td>2019-04-17</td>\n",
       "      <td>Netherlands</td>\n",
       "      <td>fats and oils</td>\n",
       "      <td>food</td>\n",
       "      <td>serious</td>\n",
       "      <td></td>\n",
       "      <td>distribution to other member countries</td>\n",
       "      <td>composition</td>\n",
       "      <td>Ghana</td>\n",
       "      <td>France</td>\n",
       "      <td>Estonia</td>\n",
       "    </tr>\n",
       "    <tr>\n",
       "      <th>1913</th>\n",
       "      <td>2019-07-10</td>\n",
       "      <td>Austria</td>\n",
       "      <td>nuts, nut products and seeds</td>\n",
       "      <td>food</td>\n",
       "      <td>serious</td>\n",
       "      <td>withdrawal from the market</td>\n",
       "      <td>no distribution from notifying country</td>\n",
       "      <td>biological contaminants (other)</td>\n",
       "      <td>unknown origin</td>\n",
       "      <td>Austria</td>\n",
       "      <td>Pakistan</td>\n",
       "    </tr>\n",
       "    <tr>\n",
       "      <th>4219</th>\n",
       "      <td>2019-05-10</td>\n",
       "      <td>Belgium</td>\n",
       "      <td>alcoholic beverages</td>\n",
       "      <td>food</td>\n",
       "      <td>undecided</td>\n",
       "      <td>detained by operator</td>\n",
       "      <td>distribution restricted to notifying country</td>\n",
       "      <td>packaging defective / incorrect</td>\n",
       "      <td>Argentina</td>\n",
       "      <td>Belgium</td>\n",
       "      <td></td>\n",
       "    </tr>\n",
       "    <tr>\n",
       "      <th>8893</th>\n",
       "      <td>2019-02-04</td>\n",
       "      <td>United Kingdom</td>\n",
       "      <td>pet food</td>\n",
       "      <td>feed</td>\n",
       "      <td>undecided</td>\n",
       "      <td>recall from consumers</td>\n",
       "      <td>distribution to other member countries</td>\n",
       "      <td>composition</td>\n",
       "      <td>United States</td>\n",
       "      <td>Serbia</td>\n",
       "      <td>Albania</td>\n",
       "    </tr>\n",
       "    <tr>\n",
       "      <th>7880</th>\n",
       "      <td>2019-02-05</td>\n",
       "      <td>Netherlands</td>\n",
       "      <td>cocoa and cocoa preparations, coffee and tea</td>\n",
       "      <td>food</td>\n",
       "      <td>undecided</td>\n",
       "      <td>withdrawal from the market</td>\n",
       "      <td>distribution to other member countries</td>\n",
       "      <td>food additives and flavourings</td>\n",
       "      <td>Taiwan</td>\n",
       "      <td>Italy</td>\n",
       "      <td></td>\n",
       "    </tr>\n",
       "    <tr>\n",
       "      <th>149</th>\n",
       "      <td>2019-09-09</td>\n",
       "      <td>Germany</td>\n",
       "      <td>herbs and spices</td>\n",
       "      <td>food</td>\n",
       "      <td>serious</td>\n",
       "      <td>withdrawal from the market</td>\n",
       "      <td>distribution to other member countries</td>\n",
       "      <td>pathogenic micro-organisms</td>\n",
       "      <td>Turkey</td>\n",
       "      <td>Croatia</td>\n",
       "      <td>INFOSAN</td>\n",
       "    </tr>\n",
       "    <tr>\n",
       "      <th>2497</th>\n",
       "      <td>2019-07-02</td>\n",
       "      <td>Austria</td>\n",
       "      <td>pet food</td>\n",
       "      <td>feed</td>\n",
       "      <td>serious</td>\n",
       "      <td>withdrawal from the market</td>\n",
       "      <td>distribution to other member countries</td>\n",
       "      <td>pathogenic micro-organisms</td>\n",
       "      <td>Poland</td>\n",
       "      <td>Austria</td>\n",
       "      <td></td>\n",
       "    </tr>\n",
       "    <tr>\n",
       "      <th>2871</th>\n",
       "      <td>2019-06-21</td>\n",
       "      <td>Netherlands</td>\n",
       "      <td>fats and oils</td>\n",
       "      <td>food</td>\n",
       "      <td>undecided</td>\n",
       "      <td>destruction</td>\n",
       "      <td>distribution to other member countries</td>\n",
       "      <td>composition</td>\n",
       "      <td>Ghana</td>\n",
       "      <td>Austria</td>\n",
       "      <td>Ukraine</td>\n",
       "    </tr>\n",
       "    <tr>\n",
       "      <th>9416</th>\n",
       "      <td>2019-01-18</td>\n",
       "      <td>Spain</td>\n",
       "      <td>ices and desserts</td>\n",
       "      <td>food</td>\n",
       "      <td>serious</td>\n",
       "      <td>recall from consumers</td>\n",
       "      <td>distribution to other member countries</td>\n",
       "      <td>allergens</td>\n",
       "      <td>Netherlands</td>\n",
       "      <td>Sweden</td>\n",
       "      <td>INFOSAN</td>\n",
       "    </tr>\n",
       "    <tr>\n",
       "      <th>6485</th>\n",
       "      <td>2019-03-11</td>\n",
       "      <td>Sweden</td>\n",
       "      <td>prepared dishes and snacks</td>\n",
       "      <td>food</td>\n",
       "      <td>serious</td>\n",
       "      <td>withdrawal from the market</td>\n",
       "      <td>distribution restricted to notifying country</td>\n",
       "      <td>allergens</td>\n",
       "      <td>Netherlands</td>\n",
       "      <td>Sweden</td>\n",
       "      <td></td>\n",
       "    </tr>\n",
       "    <tr>\n",
       "      <th>4197</th>\n",
       "      <td>2019-05-16</td>\n",
       "      <td>Belgium</td>\n",
       "      <td>cereals and bakery products</td>\n",
       "      <td>food</td>\n",
       "      <td>serious</td>\n",
       "      <td>withdrawal from the market</td>\n",
       "      <td>distribution to other member countries</td>\n",
       "      <td>allergens</td>\n",
       "      <td>Italy</td>\n",
       "      <td>Austria</td>\n",
       "      <td>INFOSAN</td>\n",
       "    </tr>\n",
       "    <tr>\n",
       "      <th>5052</th>\n",
       "      <td>2019-04-15</td>\n",
       "      <td>Greece</td>\n",
       "      <td>nuts, nut products and seeds</td>\n",
       "      <td>food</td>\n",
       "      <td>serious</td>\n",
       "      <td>re-dispatch</td>\n",
       "      <td>product not (yet) placed on the market</td>\n",
       "      <td>pathogenic micro-organisms</td>\n",
       "      <td>Ethiopia</td>\n",
       "      <td></td>\n",
       "      <td>Greece</td>\n",
       "    </tr>\n",
       "    <tr>\n",
       "      <th>9359</th>\n",
       "      <td>2019-01-24</td>\n",
       "      <td>Netherlands</td>\n",
       "      <td>nuts, nut products and seeds</td>\n",
       "      <td>food</td>\n",
       "      <td>serious</td>\n",
       "      <td>detained by operator</td>\n",
       "      <td>product not (yet) placed on the market</td>\n",
       "      <td>mycotoxins</td>\n",
       "      <td>Argentina</td>\n",
       "      <td></td>\n",
       "      <td>INFOSAN</td>\n",
       "    </tr>\n",
       "    <tr>\n",
       "      <th>6548</th>\n",
       "      <td>2019-03-15</td>\n",
       "      <td>Netherlands</td>\n",
       "      <td>fish and fish products</td>\n",
       "      <td>food</td>\n",
       "      <td>serious</td>\n",
       "      <td>withdrawal from the market</td>\n",
       "      <td>product (presumably) no longer on the market</td>\n",
       "      <td>metals</td>\n",
       "      <td>France</td>\n",
       "      <td>Germany</td>\n",
       "      <td>Netherlands</td>\n",
       "    </tr>\n",
       "    <tr>\n",
       "      <th>7777</th>\n",
       "      <td>2019-02-13</td>\n",
       "      <td>Germany</td>\n",
       "      <td>meat and meat products (other than poultry)</td>\n",
       "      <td>food</td>\n",
       "      <td>serious</td>\n",
       "      <td>recall from consumers</td>\n",
       "      <td>distribution to other member countries</td>\n",
       "      <td>foreign bodies</td>\n",
       "      <td>Germany</td>\n",
       "      <td>Germany</td>\n",
       "      <td></td>\n",
       "    </tr>\n",
       "    <tr>\n",
       "      <th>8916</th>\n",
       "      <td>2019-02-04</td>\n",
       "      <td>United Kingdom</td>\n",
       "      <td>pet food</td>\n",
       "      <td>feed</td>\n",
       "      <td>undecided</td>\n",
       "      <td>recall from consumers</td>\n",
       "      <td>distribution to other member countries</td>\n",
       "      <td>composition</td>\n",
       "      <td>United States</td>\n",
       "      <td>Slovakia</td>\n",
       "      <td>Belarus</td>\n",
       "    </tr>\n",
       "    <tr>\n",
       "      <th>9293</th>\n",
       "      <td>2019-01-18</td>\n",
       "      <td>Germany</td>\n",
       "      <td>food contact materials</td>\n",
       "      <td>fcm</td>\n",
       "      <td>serious</td>\n",
       "      <td>recall from consumers</td>\n",
       "      <td>distribution to other member countries</td>\n",
       "      <td>industrial contaminants</td>\n",
       "      <td>China</td>\n",
       "      <td>Spain</td>\n",
       "      <td>France</td>\n",
       "    </tr>\n",
       "    <tr>\n",
       "      <th>5821</th>\n",
       "      <td>2019-03-27</td>\n",
       "      <td>Belgium</td>\n",
       "      <td>poultry meat and poultry meat products</td>\n",
       "      <td>food</td>\n",
       "      <td>serious</td>\n",
       "      <td>withdrawal from the market</td>\n",
       "      <td>distribution to other member countries</td>\n",
       "      <td>pathogenic micro-organisms</td>\n",
       "      <td>Belgium</td>\n",
       "      <td>Germany</td>\n",
       "      <td></td>\n",
       "    </tr>\n",
       "    <tr>\n",
       "      <th>5637</th>\n",
       "      <td>2019-04-09</td>\n",
       "      <td>France</td>\n",
       "      <td>milk and milk products</td>\n",
       "      <td>food</td>\n",
       "      <td>serious</td>\n",
       "      <td>recall from consumers</td>\n",
       "      <td>distribution to other member countries</td>\n",
       "      <td>microbial contaminants (other)</td>\n",
       "      <td>France</td>\n",
       "      <td>Singapore</td>\n",
       "      <td>INFOSAN</td>\n",
       "    </tr>\n",
       "    <tr>\n",
       "      <th>9440</th>\n",
       "      <td>2019-01-18</td>\n",
       "      <td>Hungary</td>\n",
       "      <td>dietetic foods, food supplements, fortified foods</td>\n",
       "      <td>food</td>\n",
       "      <td>serious</td>\n",
       "      <td>withdrawal from the market</td>\n",
       "      <td>distribution to other member countries</td>\n",
       "      <td>environmental pollutants</td>\n",
       "      <td>China</td>\n",
       "      <td>Romania</td>\n",
       "      <td>INFOSAN</td>\n",
       "    </tr>\n",
       "    <tr>\n",
       "      <th>8964</th>\n",
       "      <td>2019-02-04</td>\n",
       "      <td>United Kingdom</td>\n",
       "      <td>pet food</td>\n",
       "      <td>feed</td>\n",
       "      <td>undecided</td>\n",
       "      <td>recall from consumers</td>\n",
       "      <td>distribution to other member countries</td>\n",
       "      <td>composition</td>\n",
       "      <td>United States</td>\n",
       "      <td>Sweden</td>\n",
       "      <td>Montenegro</td>\n",
       "    </tr>\n",
       "    <tr>\n",
       "      <th>5603</th>\n",
       "      <td>2019-04-02</td>\n",
       "      <td>France</td>\n",
       "      <td>meat and meat products (other than poultry)</td>\n",
       "      <td>food</td>\n",
       "      <td>serious</td>\n",
       "      <td>physical/chemical treatment</td>\n",
       "      <td>distribution to other member countries</td>\n",
       "      <td>foreign bodies</td>\n",
       "      <td>Germany</td>\n",
       "      <td>Portugal</td>\n",
       "      <td>Belgium</td>\n",
       "    </tr>\n",
       "    <tr>\n",
       "      <th>9253</th>\n",
       "      <td>2019-01-18</td>\n",
       "      <td>Germany</td>\n",
       "      <td>food contact materials</td>\n",
       "      <td>fcm</td>\n",
       "      <td>serious</td>\n",
       "      <td>recall from consumers</td>\n",
       "      <td>distribution to other member countries</td>\n",
       "      <td>migration</td>\n",
       "      <td>China</td>\n",
       "      <td>Slovakia</td>\n",
       "      <td>France</td>\n",
       "    </tr>\n",
       "    <tr>\n",
       "      <th>1651</th>\n",
       "      <td>2019-07-24</td>\n",
       "      <td>Italy</td>\n",
       "      <td>bivalve molluscs and products thereof</td>\n",
       "      <td>food</td>\n",
       "      <td>serious</td>\n",
       "      <td>withdrawal from the market</td>\n",
       "      <td>distribution to other member countries</td>\n",
       "      <td>microbial contaminants (other)</td>\n",
       "      <td>Italy</td>\n",
       "      <td>Spain</td>\n",
       "      <td></td>\n",
       "    </tr>\n",
       "    <tr>\n",
       "      <th>926</th>\n",
       "      <td>2019-08-05</td>\n",
       "      <td>France</td>\n",
       "      <td>bivalve molluscs and products thereof</td>\n",
       "      <td>food</td>\n",
       "      <td>not serious</td>\n",
       "      <td>withdrawal from the market</td>\n",
       "      <td>distribution to other member countries</td>\n",
       "      <td>labelling absent/incomplete/incorrect</td>\n",
       "      <td>France</td>\n",
       "      <td>France</td>\n",
       "      <td></td>\n",
       "    </tr>\n",
       "    <tr>\n",
       "      <th>3352</th>\n",
       "      <td>2019-06-07</td>\n",
       "      <td>Italy</td>\n",
       "      <td>nuts, nut products and seeds</td>\n",
       "      <td>food</td>\n",
       "      <td>serious</td>\n",
       "      <td>import not authorised</td>\n",
       "      <td>product not (yet) placed on the market</td>\n",
       "      <td>mycotoxins</td>\n",
       "      <td>Turkey</td>\n",
       "      <td></td>\n",
       "      <td>Italy</td>\n",
       "    </tr>\n",
       "    <tr>\n",
       "      <th>9779</th>\n",
       "      <td>2019-01-03</td>\n",
       "      <td>Greece</td>\n",
       "      <td>feed materials</td>\n",
       "      <td>feed</td>\n",
       "      <td>not serious</td>\n",
       "      <td>physical/chemical treatment</td>\n",
       "      <td>product not (yet) placed on the market</td>\n",
       "      <td>pathogenic micro-organisms</td>\n",
       "      <td>Mauritania</td>\n",
       "      <td></td>\n",
       "      <td>Greece</td>\n",
       "    </tr>\n",
       "    <tr>\n",
       "      <th>2605</th>\n",
       "      <td>2019-06-25</td>\n",
       "      <td>Belgium</td>\n",
       "      <td>nuts, nut products and seeds</td>\n",
       "      <td>food</td>\n",
       "      <td>serious</td>\n",
       "      <td>import not authorised</td>\n",
       "      <td>product not (yet) placed on the market</td>\n",
       "      <td>mycotoxins</td>\n",
       "      <td>Turkey</td>\n",
       "      <td></td>\n",
       "      <td>Belgium</td>\n",
       "    </tr>\n",
       "    <tr>\n",
       "      <th>9247</th>\n",
       "      <td>2019-01-18</td>\n",
       "      <td>Germany</td>\n",
       "      <td>food contact materials</td>\n",
       "      <td>fcm</td>\n",
       "      <td>serious</td>\n",
       "      <td>recall from consumers</td>\n",
       "      <td>distribution to other member countries</td>\n",
       "      <td>migration</td>\n",
       "      <td>China</td>\n",
       "      <td>Italy</td>\n",
       "      <td>Netherlands</td>\n",
       "    </tr>\n",
       "  </tbody>\n",
       "</table>\n",
       "<p>9835 rows × 11 columns</p>\n",
       "</div>"
      ],
      "text/plain": [
       "       DATE_CASE     NOT_COUNTRY  \\\n",
       "4251  2019-05-08           Italy   \n",
       "1059  2019-08-08          France   \n",
       "611   2019-08-20         Austria   \n",
       "637   2019-08-16         Germany   \n",
       "2986  2019-06-20         Denmark   \n",
       "2560  2019-06-27        Bulgaria   \n",
       "8263  2019-01-30         Ireland   \n",
       "3862  2019-05-28     Netherlands   \n",
       "9372  2019-01-23  United Kingdom   \n",
       "697   2019-08-13  Czech Republic   \n",
       "214   2019-09-03     Netherlands   \n",
       "1910  2019-07-10         Austria   \n",
       "3502  2019-06-06          France   \n",
       "6208  2019-03-21          Latvia   \n",
       "290   2019-09-05          Greece   \n",
       "1666  2019-07-23          France   \n",
       "6551  2019-03-14          Sweden   \n",
       "9188  2019-01-23  United Kingdom   \n",
       "2230  2019-07-05         Germany   \n",
       "1859  2019-07-15           Italy   \n",
       "8284  2019-01-30         Ireland   \n",
       "6989  2019-03-06     Netherlands   \n",
       "3511  2019-06-06          Greece   \n",
       "314   2019-08-30           Italy   \n",
       "7211  2019-02-27          Sweden   \n",
       "5874  2019-03-29           Spain   \n",
       "2473  2019-07-04     Netherlands   \n",
       "3444  2019-06-11         Germany   \n",
       "237   2019-08-30     Netherlands   \n",
       "9486  2019-01-16         Germany   \n",
       "...          ...             ...   \n",
       "6871  2019-03-04  United Kingdom   \n",
       "4832  2019-04-17     Netherlands   \n",
       "1913  2019-07-10         Austria   \n",
       "4219  2019-05-10         Belgium   \n",
       "8893  2019-02-04  United Kingdom   \n",
       "7880  2019-02-05     Netherlands   \n",
       "149   2019-09-09         Germany   \n",
       "2497  2019-07-02         Austria   \n",
       "2871  2019-06-21     Netherlands   \n",
       "9416  2019-01-18           Spain   \n",
       "6485  2019-03-11          Sweden   \n",
       "4197  2019-05-16         Belgium   \n",
       "5052  2019-04-15          Greece   \n",
       "9359  2019-01-24     Netherlands   \n",
       "6548  2019-03-15     Netherlands   \n",
       "7777  2019-02-13         Germany   \n",
       "8916  2019-02-04  United Kingdom   \n",
       "9293  2019-01-18         Germany   \n",
       "5821  2019-03-27         Belgium   \n",
       "5637  2019-04-09          France   \n",
       "9440  2019-01-18         Hungary   \n",
       "8964  2019-02-04  United Kingdom   \n",
       "5603  2019-04-02          France   \n",
       "9253  2019-01-18         Germany   \n",
       "1651  2019-07-24           Italy   \n",
       "926   2019-08-05          France   \n",
       "3352  2019-06-07           Italy   \n",
       "9779  2019-01-03          Greece   \n",
       "2605  2019-06-25         Belgium   \n",
       "9247  2019-01-18         Germany   \n",
       "\n",
       "                                               PROD_CAT  TYPE RISK_DECISION  \\\n",
       "4251                         prepared dishes and snacks  food   not serious   \n",
       "1059                             food contact materials   fcm     undecided   \n",
       "611                               fruits and vegetables  food       serious   \n",
       "637                                       fats and oils  food   not serious   \n",
       "2986                     food additives and flavourings  food     undecided   \n",
       "2560                              fruits and vegetables  food       serious   \n",
       "8263                                   herbs and spices  food       serious   \n",
       "3862                        cereals and bakery products  food       serious   \n",
       "9372                            non-alcoholic beverages  food     undecided   \n",
       "697   dietetic foods, food supplements, fortified foods  food     undecided   \n",
       "214              poultry meat and poultry meat products  food       serious   \n",
       "1910                       nuts, nut products and seeds  food       serious   \n",
       "3502                         prepared dishes and snacks  food       serious   \n",
       "6208                         other food product / mixed  food   not serious   \n",
       "290                        nuts, nut products and seeds  food       serious   \n",
       "1666             poultry meat and poultry meat products  food       serious   \n",
       "6551  dietetic foods, food supplements, fortified foods  food     undecided   \n",
       "9188                         other food product / mixed  food       serious   \n",
       "2230                             food contact materials   fcm       serious   \n",
       "1859        meat and meat products (other than poultry)  food     undecided   \n",
       "8284                                   herbs and spices  food       serious   \n",
       "6989                              fruits and vegetables  food       serious   \n",
       "3511                                     feed materials  feed   not serious   \n",
       "314                                    herbs and spices  food       serious   \n",
       "7211  dietetic foods, food supplements, fortified foods  food     undecided   \n",
       "5874                             fish and fish products  food       serious   \n",
       "2473                                     feed materials  feed       serious   \n",
       "3444  dietetic foods, food supplements, fortified foods  food       serious   \n",
       "237                                            pet food  feed   not serious   \n",
       "9486                                     feed materials  feed       serious   \n",
       "...                                                 ...   ...           ...   \n",
       "6871        meat and meat products (other than poultry)  food     undecided   \n",
       "4832                                      fats and oils  food       serious   \n",
       "1913                       nuts, nut products and seeds  food       serious   \n",
       "4219                                alcoholic beverages  food     undecided   \n",
       "8893                                           pet food  feed     undecided   \n",
       "7880       cocoa and cocoa preparations, coffee and tea  food     undecided   \n",
       "149                                    herbs and spices  food       serious   \n",
       "2497                                           pet food  feed       serious   \n",
       "2871                                      fats and oils  food     undecided   \n",
       "9416                                  ices and desserts  food       serious   \n",
       "6485                         prepared dishes and snacks  food       serious   \n",
       "4197                        cereals and bakery products  food       serious   \n",
       "5052                       nuts, nut products and seeds  food       serious   \n",
       "9359                       nuts, nut products and seeds  food       serious   \n",
       "6548                             fish and fish products  food       serious   \n",
       "7777        meat and meat products (other than poultry)  food       serious   \n",
       "8916                                           pet food  feed     undecided   \n",
       "9293                             food contact materials   fcm       serious   \n",
       "5821             poultry meat and poultry meat products  food       serious   \n",
       "5637                             milk and milk products  food       serious   \n",
       "9440  dietetic foods, food supplements, fortified foods  food       serious   \n",
       "8964                                           pet food  feed     undecided   \n",
       "5603        meat and meat products (other than poultry)  food       serious   \n",
       "9253                             food contact materials   fcm       serious   \n",
       "1651              bivalve molluscs and products thereof  food       serious   \n",
       "926               bivalve molluscs and products thereof  food   not serious   \n",
       "3352                       nuts, nut products and seeds  food       serious   \n",
       "9779                                     feed materials  feed   not serious   \n",
       "2605                       nuts, nut products and seeds  food       serious   \n",
       "9247                             food contact materials   fcm       serious   \n",
       "\n",
       "                      ACTION_TAKEN  \\\n",
       "4251                       seizure   \n",
       "1059    withdrawal from the market   \n",
       "611     withdrawal from the market   \n",
       "637           detained by operator   \n",
       "2986  withdrawal from recipient(s)   \n",
       "2560                   destruction   \n",
       "8263  withdrawal from recipient(s)   \n",
       "3862    withdrawal from the market   \n",
       "9372         import not authorised   \n",
       "697                                  \n",
       "214                                  \n",
       "1910    withdrawal from the market   \n",
       "3502         recall from consumers   \n",
       "6208                   re-dispatch   \n",
       "290          import not authorised   \n",
       "1666          detained by operator   \n",
       "6551         informing authorities   \n",
       "9188    withdrawal from the market   \n",
       "2230         recall from consumers   \n",
       "1859    withdrawal from the market   \n",
       "8284  withdrawal from recipient(s)   \n",
       "6989        informing recipient(s)   \n",
       "3511   physical/chemical treatment   \n",
       "314          recall from consumers   \n",
       "7211  withdrawal from recipient(s)   \n",
       "5874                   relabelling   \n",
       "2473            official detention   \n",
       "3444    withdrawal from the market   \n",
       "237         informing recipient(s)   \n",
       "9486          detained by operator   \n",
       "...                            ...   \n",
       "6871                                 \n",
       "4832                                 \n",
       "1913    withdrawal from the market   \n",
       "4219          detained by operator   \n",
       "8893         recall from consumers   \n",
       "7880    withdrawal from the market   \n",
       "149     withdrawal from the market   \n",
       "2497    withdrawal from the market   \n",
       "2871                   destruction   \n",
       "9416         recall from consumers   \n",
       "6485    withdrawal from the market   \n",
       "4197    withdrawal from the market   \n",
       "5052                   re-dispatch   \n",
       "9359          detained by operator   \n",
       "6548    withdrawal from the market   \n",
       "7777         recall from consumers   \n",
       "8916         recall from consumers   \n",
       "9293         recall from consumers   \n",
       "5821    withdrawal from the market   \n",
       "5637         recall from consumers   \n",
       "9440    withdrawal from the market   \n",
       "8964         recall from consumers   \n",
       "5603   physical/chemical treatment   \n",
       "9253         recall from consumers   \n",
       "1651    withdrawal from the market   \n",
       "926     withdrawal from the market   \n",
       "3352         import not authorised   \n",
       "9779   physical/chemical treatment   \n",
       "2605         import not authorised   \n",
       "9247         recall from consumers   \n",
       "\n",
       "                                    DISTRIBUTION_STAT  \\\n",
       "4251  information on distribution not (yet) available   \n",
       "1059           distribution to other member countries   \n",
       "611            distribution to other member countries   \n",
       "637            no distribution from notifying country   \n",
       "2986           distribution to other member countries   \n",
       "2560           product not (yet) placed on the market   \n",
       "8263           distribution to other member countries   \n",
       "3862           distribution to other member countries   \n",
       "9372           product not (yet) placed on the market   \n",
       "697                             product traded online   \n",
       "214            product not (yet) placed on the market   \n",
       "1910           no distribution from notifying country   \n",
       "3502           distribution to other member countries   \n",
       "6208           product not (yet) placed on the market   \n",
       "290            product not (yet) placed on the market   \n",
       "1666           distribution to other member countries   \n",
       "6551                            product traded online   \n",
       "9188           distribution to other member countries   \n",
       "2230           distribution to other member countries   \n",
       "1859           distribution to other member countries   \n",
       "8284           distribution to other member countries   \n",
       "6989           distribution to other member countries   \n",
       "3511           product not (yet) placed on the market   \n",
       "314      distribution restricted to notifying country   \n",
       "7211           no distribution from notifying country   \n",
       "5874           distribution to other member countries   \n",
       "2473           product not (yet) placed on the market   \n",
       "3444           distribution to other member countries   \n",
       "237            distribution to other member countries   \n",
       "9486     distribution restricted to notifying country   \n",
       "...                                               ...   \n",
       "6871           distribution to other member countries   \n",
       "4832           distribution to other member countries   \n",
       "1913           no distribution from notifying country   \n",
       "4219     distribution restricted to notifying country   \n",
       "8893           distribution to other member countries   \n",
       "7880           distribution to other member countries   \n",
       "149            distribution to other member countries   \n",
       "2497           distribution to other member countries   \n",
       "2871           distribution to other member countries   \n",
       "9416           distribution to other member countries   \n",
       "6485     distribution restricted to notifying country   \n",
       "4197           distribution to other member countries   \n",
       "5052           product not (yet) placed on the market   \n",
       "9359           product not (yet) placed on the market   \n",
       "6548     product (presumably) no longer on the market   \n",
       "7777           distribution to other member countries   \n",
       "8916           distribution to other member countries   \n",
       "9293           distribution to other member countries   \n",
       "5821           distribution to other member countries   \n",
       "5637           distribution to other member countries   \n",
       "9440           distribution to other member countries   \n",
       "8964           distribution to other member countries   \n",
       "5603           distribution to other member countries   \n",
       "9253           distribution to other member countries   \n",
       "1651           distribution to other member countries   \n",
       "926            distribution to other member countries   \n",
       "3352           product not (yet) placed on the market   \n",
       "9779           product not (yet) placed on the market   \n",
       "2605           product not (yet) placed on the market   \n",
       "9247           distribution to other member countries   \n",
       "\n",
       "                                    HAZARDS_CAT          COUNT_ORIGEN  \\\n",
       "4251      labelling absent/incomplete/incorrect                 China   \n",
       "1059                    industrial contaminants                 China   \n",
       "611                                 composition                 China   \n",
       "637                                 composition                 India   \n",
       "2986                             foreign bodies               Belgium   \n",
       "2560                         pesticide residues                Turkey   \n",
       "8263                   environmental pollutants        Czech Republic   \n",
       "3862                             foreign bodies               Moldova   \n",
       "9372             food additives and flavourings  United Arab Emirates   \n",
       "697                                  novel food        unknown origin   \n",
       "214                  pathogenic micro-organisms                Brazil   \n",
       "1910            biological contaminants (other)               Austria   \n",
       "3502      labelling absent/incomplete/incorrect                France   \n",
       "6208                                     metals                Russia   \n",
       "290                  pathogenic micro-organisms                 Sudan   \n",
       "1666                 pathogenic micro-organisms                Poland   \n",
       "6551                                 novel food           Switzerland   \n",
       "9188                             foreign bodies                Belize   \n",
       "2230                                  migration                 China   \n",
       "1859  residues of veterinary medicinal products                 Italy   \n",
       "8284                   environmental pollutants        Czech Republic   \n",
       "6989                         pesticide residues          South Africa   \n",
       "3511                 pathogenic micro-organisms         United States   \n",
       "314                  pathogenic micro-organisms                 Italy   \n",
       "7211                                composition               Finland   \n",
       "5874                                  allergens                 Spain   \n",
       "2473                                 mycotoxins                 Sudan   \n",
       "3444                                  allergens                Poland   \n",
       "237                  pathogenic micro-organisms              Thailand   \n",
       "9486                                composition               Romania   \n",
       "...                                         ...                   ...   \n",
       "6871              poor or insufficient controls        United Kingdom   \n",
       "4832                                composition                 Ghana   \n",
       "1913            biological contaminants (other)        unknown origin   \n",
       "4219            packaging defective / incorrect             Argentina   \n",
       "8893                                composition         United States   \n",
       "7880             food additives and flavourings                Taiwan   \n",
       "149                  pathogenic micro-organisms                Turkey   \n",
       "2497                 pathogenic micro-organisms                Poland   \n",
       "2871                                composition                 Ghana   \n",
       "9416                                  allergens           Netherlands   \n",
       "6485                                  allergens           Netherlands   \n",
       "4197                                  allergens                 Italy   \n",
       "5052                 pathogenic micro-organisms              Ethiopia   \n",
       "9359                                 mycotoxins             Argentina   \n",
       "6548                                     metals                France   \n",
       "7777                             foreign bodies               Germany   \n",
       "8916                                composition         United States   \n",
       "9293                    industrial contaminants                 China   \n",
       "5821                 pathogenic micro-organisms               Belgium   \n",
       "5637             microbial contaminants (other)                France   \n",
       "9440                   environmental pollutants                 China   \n",
       "8964                                composition         United States   \n",
       "5603                             foreign bodies               Germany   \n",
       "9253                                  migration                 China   \n",
       "1651             microbial contaminants (other)                 Italy   \n",
       "926       labelling absent/incomplete/incorrect                France   \n",
       "3352                                 mycotoxins                Turkey   \n",
       "9779                 pathogenic micro-organisms            Mauritania   \n",
       "2605                                 mycotoxins                Turkey   \n",
       "9247                                  migration                 China   \n",
       "\n",
       "        COUNT_DESTIN   COUNT_CONCERN  \n",
       "4251                           Italy  \n",
       "1059         Belgium                  \n",
       "611          Croatia         INFOSAN  \n",
       "637          Belgium                  \n",
       "2986     Netherlands         INFOSAN  \n",
       "2560                        Bulgaria  \n",
       "8263         Austria         INFOSAN  \n",
       "3862        Slovakia         INFOSAN  \n",
       "9372                  United Kingdom  \n",
       "697                   Czech Republic  \n",
       "214                      Netherlands  \n",
       "1910         Austria        Pakistan  \n",
       "3502         Belgium                  \n",
       "6208                          Latvia  \n",
       "290                           Greece  \n",
       "1666       Hong Kong         INFOSAN  \n",
       "6551         Austria          Sweden  \n",
       "9188       Lithuania         Belgium  \n",
       "2230        Slovenia         INFOSAN  \n",
       "1859  United Kingdom         INFOSAN  \n",
       "8284           Italy         Denmark  \n",
       "6989     Switzerland         INFOSAN  \n",
       "3511                          Greece  \n",
       "314            Italy           China  \n",
       "7211          Sweden                  \n",
       "5874          France                  \n",
       "2473                     Netherlands  \n",
       "3444         Belgium         INFOSAN  \n",
       "237          Germany     Netherlands  \n",
       "9486         Germany     Netherlands  \n",
       "...              ...             ...  \n",
       "6871         Ireland          France  \n",
       "4832          France         Estonia  \n",
       "1913         Austria        Pakistan  \n",
       "4219         Belgium                  \n",
       "8893          Serbia         Albania  \n",
       "7880           Italy                  \n",
       "149          Croatia         INFOSAN  \n",
       "2497         Austria                  \n",
       "2871         Austria         Ukraine  \n",
       "9416          Sweden         INFOSAN  \n",
       "6485          Sweden                  \n",
       "4197         Austria         INFOSAN  \n",
       "5052                          Greece  \n",
       "9359                         INFOSAN  \n",
       "6548         Germany     Netherlands  \n",
       "7777         Germany                  \n",
       "8916        Slovakia         Belarus  \n",
       "9293           Spain          France  \n",
       "5821         Germany                  \n",
       "5637       Singapore         INFOSAN  \n",
       "9440         Romania         INFOSAN  \n",
       "8964          Sweden      Montenegro  \n",
       "5603        Portugal         Belgium  \n",
       "9253        Slovakia          France  \n",
       "1651           Spain                  \n",
       "926           France                  \n",
       "3352                           Italy  \n",
       "9779                          Greece  \n",
       "2605                         Belgium  \n",
       "9247           Italy     Netherlands  \n",
       "\n",
       "[9835 rows x 11 columns]"
      ]
     },
     "execution_count": 13,
     "metadata": {
      "tags": []
     },
     "output_type": "execute_result"
    }
   ],
   "source": [
    "data = pd.read_csv('D:/Visual Studio Code/HK 6/Data Mining/RASFF-predictions-dashboard/Copia csvs antiguos/splited_2019_RASFF_DATA_16092019.csv', sep=';', \n",
    "                header=0, index_col = 0)\n",
    "data = data.sample(frac = 1)\n",
    "test = data\n",
    "test"
   ]
  },
  {
   "cell_type": "markdown",
   "metadata": {
    "colab_type": "text",
    "id": "AwSriq4U4vtH"
   },
   "source": [
    "## Preprocesamiento"
   ]
  },
  {
   "cell_type": "code",
   "execution_count": null,
   "metadata": {
    "ExecuteTime": {
     "end_time": "2019-11-07T09:58:51.753558Z",
     "start_time": "2019-11-07T09:58:51.747575Z"
    },
    "colab": {},
    "colab_type": "code",
    "id": "2zn9d1en4vtH"
   },
   "outputs": [],
   "source": [
    "test['HAZARDS_CAT'] = test['HAZARDS_CAT'].astype(str)\n",
    "test['DATE_CASE'] = test['DATE_CASE'].astype(str)\n",
    "test['DATE_CASE'] =pd.to_datetime(test.DATE_CASE)\n",
    "test['DATE_CASE'] = test.DATE_CASE.dt.month"
   ]
  },
  {
   "cell_type": "markdown",
   "metadata": {
    "colab_type": "text",
    "id": "Z8W5dWUy4vtM"
   },
   "source": [
    "## Features"
   ]
  },
  {
   "cell_type": "code",
   "execution_count": null,
   "metadata": {
    "ExecuteTime": {
     "end_time": "2019-11-07T09:59:05.912763Z",
     "start_time": "2019-11-07T09:59:05.907777Z"
    },
    "colab": {},
    "colab_type": "code",
    "id": "eCJiBJTd4vtN"
   },
   "outputs": [],
   "source": [
    "features = [0,1,6,8]\n",
    "target = [2]\n",
    "X_val = test.iloc[:,features]\n",
    "y_val = test.iloc[:,target]"
   ]
  },
  {
   "cell_type": "code",
   "execution_count": null,
   "metadata": {
    "ExecuteTime": {
     "end_time": "2019-11-07T09:59:06.840786Z",
     "start_time": "2019-11-07T09:59:06.834775Z"
    },
    "colab": {},
    "colab_type": "code",
    "id": "Yg_d5wdm4vtS"
   },
   "outputs": [],
   "source": [
    "y_val_one_hot = ency.transform(y_val.values)"
   ]
  },
  {
   "cell_type": "markdown",
   "metadata": {
    "colab_type": "text",
    "id": "nIFN4glP4vtY"
   },
   "source": [
    "# Split train-test-val"
   ]
  },
  {
   "cell_type": "code",
   "execution_count": null,
   "metadata": {
    "ExecuteTime": {
     "end_time": "2019-11-07T09:59:26.331998Z",
     "start_time": "2019-11-07T09:59:26.328009Z"
    },
    "colab": {},
    "colab_type": "code",
    "id": "4Ywg0ZnU4vta"
   },
   "outputs": [],
   "source": [
    "categoical_vars = ['DATE_CASE','NOT_COUNTRY','DISTRIBUTION_STAT','COUNT_ORIGEN']"
   ]
  },
  {
   "cell_type": "code",
   "execution_count": null,
   "metadata": {
    "ExecuteTime": {
     "end_time": "2019-11-07T09:59:27.517648Z",
     "start_time": "2019-11-07T09:59:27.475766Z"
    },
    "colab": {},
    "colab_type": "code",
    "id": "3Cxjq3aw4vte"
   },
   "outputs": [],
   "source": [
    "X_train, X_test, y_train, y_test = train_test_split(X, y_one_hot, test_size=0.2)"
   ]
  },
  {
   "cell_type": "code",
   "execution_count": null,
   "metadata": {
    "ExecuteTime": {
     "end_time": "2019-11-07T09:59:27.703560Z",
     "start_time": "2019-11-07T09:59:27.700592Z"
    },
    "colab": {},
    "colab_type": "code",
    "id": "AzlpUO974vti"
   },
   "outputs": [],
   "source": [
    "X_train, X_val, y_train, y_val = train_test_split(X_train, y_train, test_size=0.25, random_state=42,shuffle = True)"
   ]
  },
  {
   "cell_type": "markdown",
   "metadata": {
    "colab_type": "text",
    "id": "mHCmO2P94vtn"
   },
   "source": [
    "# Codificación y conversión a listas para poder meterselo al modelo"
   ]
  },
  {
   "cell_type": "code",
   "execution_count": null,
   "metadata": {
    "ExecuteTime": {
     "end_time": "2019-11-07T09:59:28.471661Z",
     "start_time": "2019-11-07T09:59:28.466702Z"
    },
    "colab": {},
    "colab_type": "code",
    "id": "kXmAc-Hd4vtn"
   },
   "outputs": [],
   "source": [
    "def preproc(X_train, X_test, Xvalidation_data):\n",
    "    input_list_train = []\n",
    "    input_list_test = []\n",
    "    input_list_testval = []\n",
    "    \n",
    "    for c in categoical_vars:\n",
    "        raw_vals = np.unique(X_train[c])\n",
    "        val_map = {}\n",
    "        for i in range(len(raw_vals)):\n",
    "            val_map[raw_vals[i]] = i       \n",
    "        \n",
    "        input_list_train.append(X_train[c].map(val_map).values)\n",
    "        input_list_test.append(X_test[c].map(val_map).fillna(0).values)\n",
    "        input_list_testval.append(X_val[c].map(val_map).fillna(0).values)\n",
    "\n",
    "    return input_list_train, input_list_test,input_list_testval"
   ]
  },
  {
   "cell_type": "code",
   "execution_count": null,
   "metadata": {
    "ExecuteTime": {
     "end_time": "2019-11-07T09:59:29.786581Z",
     "start_time": "2019-11-07T09:59:29.588085Z"
    },
    "colab": {},
    "colab_type": "code",
    "id": "q3nDJ1jc4vtp"
   },
   "outputs": [],
   "source": [
    "input_list_train,input_list_test,input_list_testval = preproc(X_train,X_test, X_val)"
   ]
  },
  {
   "cell_type": "markdown",
   "metadata": {
    "colab_type": "text",
    "id": "lF4wpn6G4vtt"
   },
   "source": [
    "# Definición de métricas"
   ]
  },
  {
   "cell_type": "code",
   "execution_count": null,
   "metadata": {
    "ExecuteTime": {
     "end_time": "2019-11-07T09:59:36.711059Z",
     "start_time": "2019-11-07T09:59:36.707069Z"
    },
    "colab": {},
    "colab_type": "code",
    "id": "kmXV0Hix4vtu"
   },
   "outputs": [],
   "source": [
    "top3_acc = functools.partial(metrics.top_k_categorical_accuracy, k=3)\n",
    "top3_acc.__name__ = 'top3_acc'\n",
    "\n",
    "top2_acc = functools.partial(metrics.top_k_categorical_accuracy, k=3)\n",
    "top2_acc.__name__ = 'top2_acc'"
   ]
  },
  {
   "cell_type": "code",
   "execution_count": null,
   "metadata": {
    "ExecuteTime": {
     "end_time": "2019-11-07T09:59:37.063768Z",
     "start_time": "2019-11-07T09:59:37.060776Z"
    },
    "colab": {},
    "colab_type": "code",
    "id": "g0Es5YDS4vtx"
   },
   "outputs": [],
   "source": [
    "def top_1_categorical_accuracy(y_true, y_pred):\n",
    "    return metrics.top_k_categorical_accuracy(y_true, y_pred, k=1) "
   ]
  },
  {
   "cell_type": "code",
   "execution_count": null,
   "metadata": {
    "ExecuteTime": {
     "end_time": "2019-11-07T09:59:37.431036Z",
     "start_time": "2019-11-07T09:59:37.427024Z"
    },
    "colab": {},
    "colab_type": "code",
    "id": "TwP5FXfl4vt0"
   },
   "outputs": [],
   "source": [
    "def top_2_categorical_accuracy(y_true, y_pred):\n",
    "    return metrics.top_k_categorical_accuracy(y_true, y_pred, k=2) "
   ]
  },
  {
   "cell_type": "code",
   "execution_count": null,
   "metadata": {
    "ExecuteTime": {
     "end_time": "2019-11-07T09:59:37.813431Z",
     "start_time": "2019-11-07T09:59:37.811432Z"
    },
    "colab": {},
    "colab_type": "code",
    "id": "RXl1GIFG4vt4"
   },
   "outputs": [],
   "source": [
    "def top_3_categorical_accuracy(y_true, y_pred):\n",
    "    return metrics.top_k_categorical_accuracy(y_true, y_pred, k=3) "
   ]
  },
  {
   "cell_type": "markdown",
   "metadata": {
    "colab_type": "text",
    "id": "criCy0OW4vt9"
   },
   "source": [
    "# Modelo embeddings + mlp (casos 1 y 3)"
   ]
  },
  {
   "cell_type": "code",
   "execution_count": null,
   "metadata": {
    "ExecuteTime": {
     "end_time": "2019-11-07T11:20:14.437025Z",
     "start_time": "2019-11-07T11:20:14.205645Z"
    },
    "colab": {},
    "colab_type": "code",
    "id": "_OY6J3cX4vt9"
   },
   "outputs": [],
   "source": [
    "input_models=[]\n",
    "output_embeddings=[]\n",
    "\n",
    "for categorical_var in categoical_vars:\n",
    "    cat_emb_name= categorical_var.replace(\" \", \"\")+'_Embedding'\n",
    "    input_name= 'Input_' + categorical_var.replace(\" \", \"\")\n",
    "    no_of_unique_cat  = X_train[categorical_var].nunique()\n",
    "    embedding_size = int(min(np.ceil((no_of_unique_cat)/2), 50 ))\n",
    "   \n",
    "    input_model = Input(shape=(1,), name=input_name)\n",
    "    output_model = Embedding(no_of_unique_cat, embedding_size, name=cat_emb_name)(input_model)\n",
    "    output_model = Reshape(target_shape=(embedding_size,))(output_model)    \n",
    "    \n",
    "    input_models.append(input_model)\n",
    "    output_embeddings.append(output_model)\n",
    "  \n",
    "\n",
    "output = Concatenate()(output_embeddings)\n",
    "output = Dense(2048,activation=\"relu\")(output)\n",
    "output= Dropout(0.3)(output)\n",
    "output = Dense(1024,activation=\"relu\")(output)\n",
    "output= Dropout(0.2)(output)\n",
    "output = Dense(512,activation=\"relu\")(output)\n",
    "output= Dropout(0.2)(output)\n",
    "output = Dense(38, activation='softmax')(output)\n",
    "model = Model(inputs=input_models, outputs=output)"
   ]
  },
  {
   "cell_type": "code",
   "execution_count": null,
   "metadata": {
    "colab": {},
    "colab_type": "code",
    "id": "O0WRB4Ln4vuC"
   },
   "outputs": [],
   "source": [
    "model.compile(loss='categorical_crossentropy', optimizer=\"adam\", metrics=['accuracy', top_1_categorical_accuracy,top_2_categorical_accuracy,top_3_categorical_accuracy])"
   ]
  },
  {
   "cell_type": "code",
   "execution_count": null,
   "metadata": {
    "ExecuteTime": {
     "end_time": "2019-11-07T11:22:01.539705Z",
     "start_time": "2019-11-07T11:20:15.149426Z"
    },
    "colab": {},
    "colab_type": "code",
    "id": "y5lTVZmY4vuF",
    "outputId": "df7d720b-a099-4d15-e28d-e7ebb639e227",
    "scrolled": true
   },
   "outputs": [
    {
     "name": "stdout",
     "output_type": "stream",
     "text": [
      "Train on 84917 samples, validate on 28306 samples\n",
      "Epoch 1/5\n",
      "84917/84917 [==============================] - 45s 529us/step - loss: 2.0694 - accuracy: 0.4330 - top_1_categorical_accuracy: 0.4330 - top_2_categorical_accuracy: 0.5600 - top_3_categorical_accuracy: 0.6394 - val_loss: 1.7310 - val_accuracy: 0.5183 - val_top_1_categorical_accuracy: 0.5183 - val_top_2_categorical_accuracy: 0.6478 - val_top_3_categorical_accuracy: 0.7181\n",
      "Epoch 2/5\n",
      "84917/84917 [==============================] - 45s 530us/step - loss: 1.6462 - accuracy: 0.5413 - top_1_categorical_accuracy: 0.5413 - top_2_categorical_accuracy: 0.6714 - top_3_categorical_accuracy: 0.7423 - val_loss: 1.4991 - val_accuracy: 0.5785 - val_top_1_categorical_accuracy: 0.5785 - val_top_2_categorical_accuracy: 0.7074 - val_top_3_categorical_accuracy: 0.7714\n",
      "Epoch 3/5\n",
      "84917/84917 [==============================] - 45s 529us/step - loss: 1.4429 - accuracy: 0.5892 - top_1_categorical_accuracy: 0.5892 - top_2_categorical_accuracy: 0.7230 - top_3_categorical_accuracy: 0.7877 - val_loss: 1.3543 - val_accuracy: 0.6171 - val_top_1_categorical_accuracy: 0.6171 - val_top_2_categorical_accuracy: 0.7414 - val_top_3_categorical_accuracy: 0.8049\n",
      "Epoch 4/5\n",
      "84917/84917 [==============================] - 45s 531us/step - loss: 1.3062 - accuracy: 0.6239 - top_1_categorical_accuracy: 0.6239 - top_2_categorical_accuracy: 0.7551 - top_3_categorical_accuracy: 0.8199 - val_loss: 1.2775 - val_accuracy: 0.6375 - val_top_1_categorical_accuracy: 0.6375 - val_top_2_categorical_accuracy: 0.7617 - val_top_3_categorical_accuracy: 0.8228\n",
      "Epoch 5/5\n",
      "84917/84917 [==============================] - 45s 534us/step - loss: 1.2074 - accuracy: 0.6448 - top_1_categorical_accuracy: 0.6448 - top_2_categorical_accuracy: 0.7769 - top_3_categorical_accuracy: 0.8394 - val_loss: 1.2219 - val_accuracy: 0.6510 - val_top_1_categorical_accuracy: 0.6510 - val_top_2_categorical_accuracy: 0.7762 - val_top_3_categorical_accuracy: 0.8346\n"
     ]
    }
   ],
   "source": [
    " hist = model.fit(input_list_train,y_train,validation_data=(input_list_test,y_test) , epochs = 5 , batch_size = 64, verbose=1)"
   ]
  },
  {
   "cell_type": "code",
   "execution_count": null,
   "metadata": {
    "ExecuteTime": {
     "end_time": "2019-11-07T10:04:57.607967Z",
     "start_time": "2019-11-07T10:04:57.603000Z"
    },
    "colab": {},
    "colab_type": "code",
    "id": "_pISyeDB4vuI",
    "outputId": "b29ab044-1aab-40f2-cfd3-b84e3838cab0",
    "scrolled": true
   },
   "outputs": [
    {
     "name": "stdout",
     "output_type": "stream",
     "text": [
      "Model: \"model_1\"\n",
      "__________________________________________________________________________________________________\n",
      "Layer (type)                    Output Shape         Param #     Connected to                     \n",
      "==================================================================================================\n",
      "Input_DATE_CASE (InputLayer)    (None, 1)            0                                            \n",
      "__________________________________________________________________________________________________\n",
      "Input_NOT_COUNTRY (InputLayer)  (None, 1)            0                                            \n",
      "__________________________________________________________________________________________________\n",
      "Input_DISTRIBUTION_STAT (InputL (None, 1)            0                                            \n",
      "__________________________________________________________________________________________________\n",
      "Input_COUNT_ORIGEN (InputLayer) (None, 1)            0                                            \n",
      "__________________________________________________________________________________________________\n",
      "Input_PROD_CAT (InputLayer)     (None, 1)            0                                            \n",
      "__________________________________________________________________________________________________\n",
      "DATE_CASE_Embedding (Embedding) (None, 1, 6)         72          Input_DATE_CASE[0][0]            \n",
      "__________________________________________________________________________________________________\n",
      "NOT_COUNTRY_Embedding (Embeddin (None, 1, 16)        512         Input_NOT_COUNTRY[0][0]          \n",
      "__________________________________________________________________________________________________\n",
      "DISTRIBUTION_STAT_Embedding (Em (None, 1, 9)         153         Input_DISTRIBUTION_STAT[0][0]    \n",
      "__________________________________________________________________________________________________\n",
      "COUNT_ORIGEN_Embedding (Embeddi (None, 1, 50)        9200        Input_COUNT_ORIGEN[0][0]         \n",
      "__________________________________________________________________________________________________\n",
      "PROD_CAT_Embedding (Embedding)  (None, 1, 19)        722         Input_PROD_CAT[0][0]             \n",
      "__________________________________________________________________________________________________\n",
      "reshape_19 (Reshape)            (None, 6)            0           DATE_CASE_Embedding[0][0]        \n",
      "__________________________________________________________________________________________________\n",
      "reshape_20 (Reshape)            (None, 16)           0           NOT_COUNTRY_Embedding[0][0]      \n",
      "__________________________________________________________________________________________________\n",
      "reshape_21 (Reshape)            (None, 9)            0           DISTRIBUTION_STAT_Embedding[0][0]\n",
      "__________________________________________________________________________________________________\n",
      "reshape_22 (Reshape)            (None, 50)           0           COUNT_ORIGEN_Embedding[0][0]     \n",
      "__________________________________________________________________________________________________\n",
      "reshape_23 (Reshape)            (None, 19)           0           PROD_CAT_Embedding[0][0]         \n",
      "__________________________________________________________________________________________________\n",
      "concatenate_4 (Concatenate)     (None, 100)          0           reshape_19[0][0]                 \n",
      "                                                                 reshape_20[0][0]                 \n",
      "                                                                 reshape_21[0][0]                 \n",
      "                                                                 reshape_22[0][0]                 \n",
      "                                                                 reshape_23[0][0]                 \n",
      "__________________________________________________________________________________________________\n",
      "dense_1 (Dense)                 (None, 2048)         206848      concatenate_4[0][0]              \n",
      "__________________________________________________________________________________________________\n",
      "dropout_1 (Dropout)             (None, 2048)         0           dense_1[0][0]                    \n",
      "__________________________________________________________________________________________________\n",
      "dense_2 (Dense)                 (None, 1024)         2098176     dropout_1[0][0]                  \n",
      "__________________________________________________________________________________________________\n",
      "dropout_2 (Dropout)             (None, 1024)         0           dense_2[0][0]                    \n",
      "__________________________________________________________________________________________________\n",
      "dense_3 (Dense)                 (None, 512)          524800      dropout_2[0][0]                  \n",
      "__________________________________________________________________________________________________\n",
      "dropout_3 (Dropout)             (None, 512)          0           dense_3[0][0]                    \n",
      "__________________________________________________________________________________________________\n",
      "dense_4 (Dense)                 (None, 38)           19494       dropout_3[0][0]                  \n",
      "==================================================================================================\n",
      "Total params: 2,859,977\n",
      "Trainable params: 2,859,977\n",
      "Non-trainable params: 0\n",
      "__________________________________________________________________________________________________\n"
     ]
    }
   ],
   "source": [
    "model.summary()"
   ]
  },
  {
   "cell_type": "markdown",
   "metadata": {
    "colab_type": "text",
    "id": "EC9JKLqh4vuL"
   },
   "source": [
    "## Obtención de rendimientos medios"
   ]
  },
  {
   "cell_type": "code",
   "execution_count": null,
   "metadata": {
    "ExecuteTime": {
     "end_time": "2019-11-04T13:16:54.409763Z",
     "start_time": "2019-11-04T13:13:02.303336Z"
    },
    "colab": {},
    "colab_type": "code",
    "id": "B5n8TZuh4vuL",
    "scrolled": true
   },
   "outputs": [],
   "source": [
    "historials = []\n",
    "evaluations = []\n",
    "for i in range (1,6):\n",
    "    model.compile(loss='categorical_crossentropy', optimizer=\"adam\", metrics=['accuracy', top_1_categorical_accuracy,top_2_categorical_accuracy,top_3_categorical_accuracy])\n",
    "    hist = model.fit(input_list_train,y_train,validation_data=(input_list_test,y_test) , epochs = 25 , batch_size = 64, verbose=0)\n",
    "    historials.append(hist)\n",
    "    evaluation = model.evaluate(x = input_list_testval, y =  y_val_one_hot)\n",
    "    evaluations. append(evaluation)\n",
    "    model.save (\"model\"+str(i)+\".h5\")"
   ]
  },
  {
   "cell_type": "code",
   "execution_count": null,
   "metadata": {
    "ExecuteTime": {
     "end_time": "2019-11-04T09:50:26.330206Z",
     "start_time": "2019-11-04T09:50:26.326244Z"
    },
    "colab": {},
    "colab_type": "code",
    "id": "m9isVZio4vuP"
   },
   "outputs": [],
   "source": [
    "suma = 0\n",
    "for i in evaluations:\n",
    "    suma = suma + i[2]\n",
    "print(suma/5)"
   ]
  },
  {
   "cell_type": "code",
   "execution_count": null,
   "metadata": {
    "ExecuteTime": {
     "end_time": "2019-11-04T13:08:17.064591Z",
     "start_time": "2019-11-04T13:08:16.592853Z"
    },
    "colab": {},
    "colab_type": "code",
    "id": "SnCSpyFE4vuS",
    "outputId": "7b9394d5-1328-4fce-c268-f1afa890b03a"
   },
   "outputs": [
    {
     "name": "stdout",
     "output_type": "stream",
     "text": [
      "28306/28306 [==============================] - 2s 87us/step\n"
     ]
    },
    {
     "data": {
      "text/plain": [
       "[1.2287289117542095,\n",
       " 0.6472126245498657,\n",
       " 0.6472126245498657,\n",
       " 0.7761958837509155,\n",
       " 0.8349466323852539]"
      ]
     },
     "execution_count": 60,
     "metadata": {
      "tags": []
     },
     "output_type": "execute_result"
    }
   ],
   "source": [
    "model.evaluate(x = input_list_testval, y = y_val)"
   ]
  },
  {
   "cell_type": "markdown",
   "metadata": {
    "colab_type": "text",
    "id": "QFaq9XwP4vuT"
   },
   "source": [
    "## Gráficas de entrenamiento"
   ]
  },
  {
   "cell_type": "code",
   "execution_count": null,
   "metadata": {
    "ExecuteTime": {
     "end_time": "2019-10-30T12:16:38.992828Z",
     "start_time": "2019-10-30T12:16:38.988858Z"
    },
    "colab": {},
    "colab_type": "code",
    "id": "TgmXgnHY4vuU",
    "outputId": "788dea65-bdde-4e22-a099-a46a53ba42ff"
   },
   "outputs": [
    {
     "data": {
      "text/plain": [
       "['loss',\n",
       " 'acc',\n",
       " 'top_1_categorical_accuracy',\n",
       " 'top_2_categorical_accuracy',\n",
       " 'top_3_categorical_accuracy']"
      ]
     },
     "execution_count": 151,
     "metadata": {
      "tags": []
     },
     "output_type": "execute_result"
    }
   ],
   "source": [
    "model.metrics_names"
   ]
  },
  {
   "cell_type": "code",
   "execution_count": null,
   "metadata": {
    "ExecuteTime": {
     "end_time": "2019-07-05T11:42:59.144102Z",
     "start_time": "2019-07-05T11:42:58.905719Z"
    },
    "colab": {},
    "colab_type": "code",
    "id": "XRuyJXBI4vuY",
    "outputId": "ac433aa9-647a-4f3f-aa51-c8c4af9ed15b"
   },
   "outputs": [
    {
     "data": {
      "image/png": "[encoded data removed]",
      "text/plain": [
       "<Figure size 432x288 with 1 Axes>"
      ]
     },
     "metadata": {
      "needs_background": "light",
      "tags": []
     },
     "output_type": "display_data"
    },
    {
     "data": {
      "image/png": "[encoded data removed]",
      "text/plain": [
       "<Figure size 432x288 with 1 Axes>"
      ]
     },
     "metadata": {
      "needs_background": "light",
      "tags": []
     },
     "output_type": "display_data"
    }
   ],
   "source": [
    "plt.plot(hist.history['loss'], label = 'loss') \n",
    "plt.plot(hist.history['val_loss'], label = 'val_loss') \n",
    "plt.legend()\n",
    "plt.show()\n",
    "\n",
    "\n",
    "plt.plot(hist.history['acc'], label = 'acc') \n",
    "plt.plot(hist.history['val_top_1_categorical_accuracy'], label = 'val_acc') \n",
    "plt.legend()\n",
    "plt.show()"
   ]
  },
  {
   "cell_type": "markdown",
   "metadata": {
    "colab_type": "text",
    "id": "N0pua58Q4vub"
   },
   "source": [
    "## Prueba de representación de embeddings"
   ]
  },
  {
   "cell_type": "code",
   "execution_count": null,
   "metadata": {
    "ExecuteTime": {
     "end_time": "2019-07-05T11:43:04.340600Z",
     "start_time": "2019-07-05T11:43:04.329611Z"
    },
    "colab": {},
    "colab_type": "code",
    "id": "m3_DWMGh4vub"
   },
   "outputs": [],
   "source": [
    "embeddings = model.layers[14].get_weights()[0]\n",
    "embeddings"
   ]
  },
  {
   "cell_type": "code",
   "execution_count": null,
   "metadata": {
    "ExecuteTime": {
     "end_time": "2019-03-26T10:21:21.612119Z",
     "start_time": "2019-03-26T10:21:21.607154Z"
    },
    "colab": {},
    "colab_type": "code",
    "id": "VMkPf37i4vud",
    "outputId": "98989f33-34f2-4807-d5dc-8e30a75d7b54"
   },
   "outputs": [
    {
     "data": {
      "text/plain": [
       "array([ 0.2392255 , -0.2346982 ,  0.4903437 ,  0.25599873, -0.1441072 ,\n",
       "       -0.01557353, -0.01640102,  0.27828872,  0.20984264, -0.49410602,\n",
       "       -0.40164003, -0.11440374], dtype=float32)"
      ]
     },
     "execution_count": 37,
     "metadata": {
      "tags": []
     },
     "output_type": "execute_result"
    }
   ],
   "source": [
    "embeddings[:,1]"
   ]
  },
  {
   "cell_type": "code",
   "execution_count": null,
   "metadata": {
    "ExecuteTime": {
     "end_time": "2019-03-26T10:21:38.651481Z",
     "start_time": "2019-03-26T10:21:38.567680Z"
    },
    "colab": {},
    "colab_type": "code",
    "id": "Bt8H91Xu4vug",
    "outputId": "5a00cea7-9cd0-412f-86cb-82512a0d593f"
   },
   "outputs": [
    {
     "data": {
      "image/png": "[encoded data removed]",
      "text/plain": [
       "<Figure size 432x288 with 1 Axes>"
      ]
     },
     "metadata": {
      "needs_background": "light",
      "tags": []
     },
     "output_type": "display_data"
    }
   ],
   "source": [
    "import matplotlib.pyplot as plt\n",
    "plt.scatter(embeddings[:,0],embeddings[:,1]) \n",
    "plt.show()"
   ]
  },
  {
   "cell_type": "code",
   "execution_count": null,
   "metadata": {
    "ExecuteTime": {
     "end_time": "2019-03-26T10:32:35.858897Z",
     "start_time": "2019-03-26T10:32:35.736602Z"
    },
    "colab": {},
    "colab_type": "code",
    "id": "RcBBmqJX4vum",
    "outputId": "77690fa5-9080-44e4-f530-686f42c4e94b"
   },
   "outputs": [
    {
     "data": {
      "image/png": "[encoded data removed]",
      "text/plain": [
       "<Figure size 432x288 with 1 Axes>"
      ]
     },
     "metadata": {
      "needs_background": "light",
      "tags": []
     },
     "output_type": "display_data"
    }
   ],
   "source": [
    "y = embeddings[:,0]\n",
    "z = embeddings[:,1]\n",
    "n = [6, 4, 1, 10,8,5,11,3,12,7,2,9]\n",
    "\n",
    "fig, ax = plt.subplots()\n",
    "ax.scatter(z, y)\n",
    "\n",
    "for i, txt in enumerate(n):\n",
    "    ax.annotate(txt, (z[i], y[i]))"
   ]
  },
  {
   "cell_type": "markdown",
   "metadata": {
    "colab_type": "text",
    "id": "Qk0OUmnL4vup"
   },
   "source": [
    "## Figura de los modelos"
   ]
  },
  {
   "cell_type": "code",
   "execution_count": null,
   "metadata": {
    "ExecuteTime": {
     "end_time": "2019-05-28T12:45:15.959328Z",
     "start_time": "2019-05-28T12:45:15.607243Z"
    },
    "colab": {},
    "colab_type": "code",
    "id": "fh0Lno3Y4vup",
    "outputId": "060907b2-3ade-4d29-c76b-9013d6127663",
    "scrolled": true
   },
   "outputs": [
    {
     "data": {
      "image/png": "[encoded data removed]",
      "text/plain": [
       "<IPython.core.display.Image object>"
      ]
     },
     "execution_count": 163,
     "metadata": {
      "image/png": {
       "height": 590,
       "width": 1687
      },
      "tags": []
     },
     "output_type": "execute_result"
    }
   ],
   "source": [
    "plot_model(model, to_file='model3.png',show_shapes=True,show_layer_names=True)\n",
    "Image(retina=True, filename='model3.png')"
   ]
  },
  {
   "cell_type": "markdown",
   "metadata": {
    "colab_type": "text",
    "id": "J_PADux24vus"
   },
   "source": [
    "## Predicciones y transformaciones inversas ( conversión de la predicción numérica en la categoría predicha)"
   ]
  },
  {
   "cell_type": "code",
   "execution_count": null,
   "metadata": {
    "ExecuteTime": {
     "end_time": "2019-10-30T11:19:03.982854Z",
     "start_time": "2019-10-30T11:19:03.233830Z"
    },
    "colab": {},
    "colab_type": "code",
    "id": "w_RKDViY4vus",
    "outputId": "1367f275-2ec4-40fa-9056-2a2b6a149866",
    "scrolled": false
   },
   "outputs": [
    {
     "data": {
      "text/plain": [
       "array([5.3615795e-24, 4.5768328e-14, 2.0483328e-20, 2.7210026e-19,\n",
       "       5.5586956e-19, 2.9675704e-10, 8.5927073e-12, 3.0571820e-19,\n",
       "       1.0075099e-11, 2.6107550e-06, 1.1073312e-11, 6.0050798e-22,\n",
       "       6.2269985e-23, 1.4456352e-22, 8.7427961e-17, 3.3094022e-25,\n",
       "       5.7479997e-13, 8.5249417e-07, 7.9353856e-19, 4.9578402e-06,\n",
       "       1.0626364e-28, 2.3907197e-19, 2.5110889e-26, 2.8631649e-17,\n",
       "       1.9510434e-08, 1.9792678e-15, 5.0914146e-21, 1.1527289e-09,\n",
       "       9.9999154e-01, 7.1200787e-18, 2.7833156e-22, 1.9643790e-18,\n",
       "       5.6017002e-17, 2.4905619e-24, 1.2678915e-19], dtype=float32)"
      ]
     },
     "execution_count": 24,
     "metadata": {
      "tags": []
     },
     "output_type": "execute_result"
    }
   ],
   "source": [
    "prediction = model.predict(input_list_test)\n",
    "prediction[0]"
   ]
  },
  {
   "cell_type": "code",
   "execution_count": null,
   "metadata": {
    "ExecuteTime": {
     "end_time": "2019-05-29T08:28:57.560215Z",
     "start_time": "2019-05-29T08:28:57.554231Z"
    },
    "colab": {},
    "colab_type": "code",
    "id": "C1Pu0Kiz4vuu",
    "outputId": "9f14a765-2404-4a52-8c60-a807852195bb",
    "scrolled": true
   },
   "outputs": [
    {
     "data": {
      "text/plain": [
       "array([0.  , 0.  , 0.  , 0.  , 0.  , 0.  , 0.  , 0.  , 0.  , 0.  , 0.  ,\n",
       "       0.01, 0.  , 0.  , 0.  , 0.  , 0.  , 0.  , 0.  , 0.  , 0.  , 0.  ,\n",
       "       0.  , 0.  , 0.  , 0.97, 0.  , 0.  , 0.  , 0.  , 0.  , 0.  , 0.  ,\n",
       "       0.  , 0.  , 0.  , 0.  , 0.  ], dtype=float32)"
      ]
     },
     "execution_count": 52,
     "metadata": {
      "tags": []
     },
     "output_type": "execute_result"
    }
   ],
   "source": [
    "pred = np.around(prediction[12],decimals = 2)\n",
    "pred"
   ]
  },
  {
   "cell_type": "code",
   "execution_count": null,
   "metadata": {
    "ExecuteTime": {
     "end_time": "2019-05-29T08:29:08.534489Z",
     "start_time": "2019-05-29T08:29:08.529503Z"
    },
    "colab": {},
    "colab_type": "code",
    "id": "zyG-Bs4x4vux",
    "outputId": "973b0c41-b617-43f4-d50f-93587dce273b"
   },
   "outputs": [
    {
     "data": {
      "text/plain": [
       "(array([25], dtype=int64),)"
      ]
     },
     "execution_count": 53,
     "metadata": {
      "tags": []
     },
     "output_type": "execute_result"
    }
   ],
   "source": [
    "np.where(pred == 0.97)"
   ]
  },
  {
   "cell_type": "code",
   "execution_count": null,
   "metadata": {
    "ExecuteTime": {
     "end_time": "2019-05-29T08:29:16.262711Z",
     "start_time": "2019-05-29T08:29:16.258721Z"
    },
    "colab": {},
    "colab_type": "code",
    "id": "0cuu7prL4vuz"
   },
   "outputs": [],
   "source": [
    "pred[25] = 1"
   ]
  },
  {
   "cell_type": "code",
   "execution_count": null,
   "metadata": {
    "ExecuteTime": {
     "end_time": "2019-05-29T08:29:30.871409Z",
     "start_time": "2019-05-29T08:29:30.866446Z"
    },
    "colab": {},
    "colab_type": "code",
    "id": "mkNcOio44vu0",
    "outputId": "872c74dd-2ed9-49d3-8fb7-8a2e155d01f5"
   },
   "outputs": [
    {
     "data": {
      "text/plain": [
       "array([['meat_and_meat_products_(other_than_poultry)']], dtype=object)"
      ]
     },
     "execution_count": 57,
     "metadata": {
      "tags": []
     },
     "output_type": "execute_result"
    }
   ],
   "source": [
    "ency.inverse_transform(np.around(pred.reshape(1, -1),decimals = 3)) #Predicción"
   ]
  },
  {
   "cell_type": "code",
   "execution_count": null,
   "metadata": {
    "ExecuteTime": {
     "end_time": "2019-05-29T08:29:45.430401Z",
     "start_time": "2019-05-29T08:29:45.426409Z"
    },
    "colab": {},
    "colab_type": "code",
    "id": "ETaxNiqL4vu2",
    "outputId": "7d729b9d-98ed-4d49-86d4-5cf0c6d0d6cd"
   },
   "outputs": [
    {
     "data": {
      "text/plain": [
       "array([['food_contact_materials']], dtype=object)"
      ]
     },
     "execution_count": 58,
     "metadata": {
      "tags": []
     },
     "output_type": "execute_result"
    }
   ],
   "source": [
    "ency.inverse_transform(np.around(y_test[25].reshape(1, -1),decimals = 1)) #Realidad"
   ]
  },
  {
   "cell_type": "markdown",
   "metadata": {
    "colab_type": "text",
    "id": "QP8Cvw294vu5"
   },
   "source": [
    "## Pruebas grid search"
   ]
  },
  {
   "cell_type": "code",
   "execution_count": null,
   "metadata": {
    "ExecuteTime": {
     "end_time": "2019-03-13T15:00:35.110033Z",
     "start_time": "2019-03-13T15:00:35.101028Z"
    },
    "colab": {},
    "colab_type": "code",
    "id": "2snO_9VV4vu6"
   },
   "outputs": [],
   "source": [
    "def create_model(activation = 'relu' ):\n",
    "    input_models=[]\n",
    "    output_embeddings=[]\n",
    "\n",
    "    for categorical_var in categoical_vars:\n",
    "        \n",
    "        cat_emb_name= categorical_var.replace(\" \", \"\")+'_Embedding'\n",
    "        input_name= 'Input_' + categorical_var.replace(\" \", \"\")\n",
    "        no_of_unique_cat  = X_train[categorical_var].nunique()\n",
    "        embedding_size = int(min(np.ceil((no_of_unique_cat)/2), 50 ))\n",
    "        input_model = Input(shape=(1,), name=input_name)\n",
    "        output_model = Embedding(no_of_unique_cat, embedding_size, name=cat_emb_name)(input_model)\n",
    "        output_model = Reshape(target_shape=(embedding_size,))(output_model)    \n",
    "        input_models.append(input_model)\n",
    "        output_embeddings.append(output_model)\n",
    "\n",
    "\n",
    "\n",
    "    output = Concatenate()(output_embeddings)\n",
    "    output = Dense(2500,activation=activation)(output)\n",
    "    output= Dropout(0.5)(output)\n",
    "    output = Dense(1500,activation=activation)(output)\n",
    "    output= Dropout(0.4)(output)\n",
    "    output = Dense(1000,activation=activation)(output)\n",
    "    output= Dropout(0.3)(output)\n",
    "    output = Dense(38, activation='softmax')(output)\n",
    "    model = Model(inputs=input_models, outputs=output)\n",
    "    model.compile(loss='categorical_crossentropy', optimizer=\"adam\", metrics=['categorical_accuracy'])\n",
    "    return model"
   ]
  },
  {
   "cell_type": "code",
   "execution_count": null,
   "metadata": {
    "ExecuteTime": {
     "end_time": "2019-03-13T15:00:35.944821Z",
     "start_time": "2019-03-13T15:00:35.940857Z"
    },
    "colab": {},
    "colab_type": "code",
    "id": "XP4UChhy4vu8"
   },
   "outputs": [],
   "source": [
    "model = KerasClassifier(build_fn=create_model, verbose=1,batch_size = 512, epochs = 1000)"
   ]
  },
  {
   "cell_type": "code",
   "execution_count": null,
   "metadata": {
    "ExecuteTime": {
     "end_time": "2019-03-13T15:00:37.088910Z",
     "start_time": "2019-03-13T15:00:37.084944Z"
    },
    "colab": {},
    "colab_type": "code",
    "id": "8VE399cu4vu_"
   },
   "outputs": [],
   "source": [
    "activation = ['softmax', 'softplus', 'softsign', 'relu', 'tanh', 'sigmoid', 'hard_sigmoid', 'linear']\n",
    "param_grid = dict(activation = activation)"
   ]
  },
  {
   "cell_type": "code",
   "execution_count": null,
   "metadata": {
    "ExecuteTime": {
     "end_time": "2019-03-13T15:00:52.023002Z",
     "start_time": "2019-03-13T15:00:51.989065Z"
    },
    "colab": {},
    "colab_type": "code",
    "id": "j4B13A_j4vvB"
   },
   "outputs": [],
   "source": [
    "grid = GridSearchCV(estimator=model, param_grid=param_grid, n_jobs=1, cv=2)\n",
    "grid_result = grid.fit(input_list_train,y_train,validation_data=(input_list_test,y_test))"
   ]
  },
  {
   "cell_type": "markdown",
   "metadata": {
    "colab_type": "text",
    "id": "9gwf03tj4vvD"
   },
   "source": [
    "# Modelo embeddings + conv (caso 2)"
   ]
  },
  {
   "cell_type": "code",
   "execution_count": null,
   "metadata": {
    "ExecuteTime": {
     "end_time": "2019-11-07T10:41:35.504028Z",
     "start_time": "2019-11-07T10:41:34.992375Z"
    },
    "colab": {},
    "colab_type": "code",
    "id": "-tzSKRMw4vvD"
   },
   "outputs": [],
   "source": [
    "input_models=[]\n",
    "output_embeddings=[]\n",
    "\n",
    "for categorical_var in categoical_vars:\n",
    "    \n",
    "    cat_emb_name= categorical_var.replace(\" \", \"\")+'_Embedding'\n",
    "    input_name= 'Input_' + categorical_var.replace(\" \", \"\")\n",
    "    no_of_unique_cat  = X_train[categorical_var].nunique()\n",
    "    embedding_size = int(min(np.ceil((no_of_unique_cat)/2), 50 ))\n",
    "    input_model = Input(shape=(1,), name=input_name)\n",
    "    output_model = Embedding(no_of_unique_cat, embedding_size, name=cat_emb_name)(input_model)\n",
    "    output_model = Reshape(target_shape=(embedding_size,))(output_model)    \n",
    "    input_models.append(input_model)\n",
    "    output_embeddings.append(output_model)\n",
    "\n",
    "output = Concatenate()(output_embeddings)\n",
    "\n",
    "output = Reshape(input_shape=(100,), target_shape=(100, 1))(output)\n",
    "\n",
    "\n",
    "output = Conv1D(filters=128,kernel_size=4, activation = \"relu\")(output)\n",
    "output = Conv1D(filters=128,kernel_size=4, activation = \"relu\")(output)\n",
    "output = BatchNormalization()(output)\n",
    "output = MaxPooling1D(pool_size=2)(output)\n",
    "\n",
    "output = Conv1D(filters=256,kernel_size=3, activation = \"relu\")(output)\n",
    "output = Conv1D(filters=256,kernel_size=3, activation = \"relu\")(output)\n",
    "output = BatchNormalization()(output)\n",
    "output = GlobalMaxPooling1D()(output)\n",
    "\n",
    "\n",
    "output = Dense(512, activation = \"relu\")(output)\n",
    "\n",
    "output = Dense(256, activation = \"relu\")(output)\n",
    "\n",
    "output = Dense(35, activation='softmax')(output)\n",
    "\n",
    "model = Model(inputs=input_models, outputs=output)\n",
    "\n",
    "\n",
    "model.compile(loss='categorical_crossentropy', optimizer=\"adam\", metrics=[top_1_categorical_accuracy,top_2_categorical_accuracy,top_3_categorical_accuracy])"
   ]
  },
  {
   "cell_type": "code",
   "execution_count": null,
   "metadata": {
    "ExecuteTime": {
     "end_time": "2019-11-07T10:41:35.781580Z",
     "start_time": "2019-11-07T10:41:35.775620Z"
    },
    "colab": {},
    "colab_type": "code",
    "id": "vcFBb8o14vvG",
    "outputId": "2c66122e-012d-473d-f2b2-3fe901323838"
   },
   "outputs": [
    {
     "name": "stdout",
     "output_type": "stream",
     "text": [
      "Model: \"model_3\"\n",
      "__________________________________________________________________________________________________\n",
      "Layer (type)                    Output Shape         Param #     Connected to                     \n",
      "==================================================================================================\n",
      "Input_DATE_CASE (InputLayer)    (None, 1)            0                                            \n",
      "__________________________________________________________________________________________________\n",
      "Input_NOT_COUNTRY (InputLayer)  (None, 1)            0                                            \n",
      "__________________________________________________________________________________________________\n",
      "Input_DISTRIBUTION_STAT (InputL (None, 1)            0                                            \n",
      "__________________________________________________________________________________________________\n",
      "Input_COUNT_ORIGEN (InputLayer) (None, 1)            0                                            \n",
      "__________________________________________________________________________________________________\n",
      "Input_PROD_CAT (InputLayer)     (None, 1)            0                                            \n",
      "__________________________________________________________________________________________________\n",
      "DATE_CASE_Embedding (Embedding) (None, 1, 6)         72          Input_DATE_CASE[0][0]            \n",
      "__________________________________________________________________________________________________\n",
      "NOT_COUNTRY_Embedding (Embeddin (None, 1, 16)        512         Input_NOT_COUNTRY[0][0]          \n",
      "__________________________________________________________________________________________________\n",
      "DISTRIBUTION_STAT_Embedding (Em (None, 1, 9)         153         Input_DISTRIBUTION_STAT[0][0]    \n",
      "__________________________________________________________________________________________________\n",
      "COUNT_ORIGEN_Embedding (Embeddi (None, 1, 50)        9200        Input_COUNT_ORIGEN[0][0]         \n",
      "__________________________________________________________________________________________________\n",
      "PROD_CAT_Embedding (Embedding)  (None, 1, 19)        722         Input_PROD_CAT[0][0]             \n",
      "__________________________________________________________________________________________________\n",
      "reshape_30 (Reshape)            (None, 6)            0           DATE_CASE_Embedding[0][0]        \n",
      "__________________________________________________________________________________________________\n",
      "reshape_31 (Reshape)            (None, 16)           0           NOT_COUNTRY_Embedding[0][0]      \n",
      "__________________________________________________________________________________________________\n",
      "reshape_32 (Reshape)            (None, 9)            0           DISTRIBUTION_STAT_Embedding[0][0]\n",
      "__________________________________________________________________________________________________\n",
      "reshape_33 (Reshape)            (None, 50)           0           COUNT_ORIGEN_Embedding[0][0]     \n",
      "__________________________________________________________________________________________________\n",
      "reshape_34 (Reshape)            (None, 19)           0           PROD_CAT_Embedding[0][0]         \n",
      "__________________________________________________________________________________________________\n",
      "concatenate_6 (Concatenate)     (None, 100)          0           reshape_30[0][0]                 \n",
      "                                                                 reshape_31[0][0]                 \n",
      "                                                                 reshape_32[0][0]                 \n",
      "                                                                 reshape_33[0][0]                 \n",
      "                                                                 reshape_34[0][0]                 \n",
      "__________________________________________________________________________________________________\n",
      "reshape_35 (Reshape)            (None, 100, 1)       0           concatenate_6[0][0]              \n",
      "__________________________________________________________________________________________________\n",
      "conv1d_5 (Conv1D)               (None, 97, 128)      640         reshape_35[0][0]                 \n",
      "__________________________________________________________________________________________________\n",
      "conv1d_6 (Conv1D)               (None, 94, 128)      65664       conv1d_5[0][0]                   \n",
      "__________________________________________________________________________________________________\n",
      "batch_normalization_3 (BatchNor (None, 94, 128)      512         conv1d_6[0][0]                   \n",
      "__________________________________________________________________________________________________\n",
      "max_pooling1d_2 (MaxPooling1D)  (None, 47, 128)      0           batch_normalization_3[0][0]      \n",
      "__________________________________________________________________________________________________\n",
      "conv1d_7 (Conv1D)               (None, 45, 256)      98560       max_pooling1d_2[0][0]            \n",
      "__________________________________________________________________________________________________\n",
      "conv1d_8 (Conv1D)               (None, 43, 256)      196864      conv1d_7[0][0]                   \n",
      "__________________________________________________________________________________________________\n",
      "batch_normalization_4 (BatchNor (None, 43, 256)      1024        conv1d_8[0][0]                   \n",
      "__________________________________________________________________________________________________\n",
      "global_max_pooling1d_2 (GlobalM (None, 256)          0           batch_normalization_4[0][0]      \n",
      "__________________________________________________________________________________________________\n",
      "dense_8 (Dense)                 (None, 512)          131584      global_max_pooling1d_2[0][0]     \n",
      "__________________________________________________________________________________________________\n",
      "dense_9 (Dense)                 (None, 256)          131328      dense_8[0][0]                    \n",
      "__________________________________________________________________________________________________\n",
      "dense_10 (Dense)                (None, 35)           8995        dense_9[0][0]                    \n",
      "==================================================================================================\n",
      "Total params: 645,830\n",
      "Trainable params: 645,062\n",
      "Non-trainable params: 768\n",
      "__________________________________________________________________________________________________\n"
     ]
    }
   ],
   "source": [
    "model.summary()"
   ]
  },
  {
   "cell_type": "code",
   "execution_count": null,
   "metadata": {
    "ExecuteTime": {
     "end_time": "2019-11-07T10:41:36.988927Z",
     "start_time": "2019-11-07T10:41:36.543652Z"
    },
    "colab": {},
    "colab_type": "code",
    "id": "jgIWNjKd4vvI"
   },
   "outputs": [],
   "source": [
    "plot_model(model, to_file='model2.png',show_shapes=True,show_layer_names=True)\n",
    "Image(retina=True, filename='model2.png')"
   ]
  },
  {
   "cell_type": "code",
   "execution_count": null,
   "metadata": {
    "ExecuteTime": {
     "end_time": "2019-11-07T10:55:12.499089Z",
     "start_time": "2019-11-07T10:48:30.464147Z"
    },
    "colab": {},
    "colab_type": "code",
    "id": "61trnQV_4vvL",
    "outputId": "e16857a3-7aff-4c86-96fa-720495f896d4",
    "scrolled": true
   },
   "outputs": [
    {
     "name": "stdout",
     "output_type": "stream",
     "text": [
      "WARNING:tensorflow:From C:\\Users\\Ceiec04\\anaconda3\\envs\\tensorflow-gpu1\\lib\\site-packages\\keras\\backend\\tensorflow_backend.py:422: The name tf.global_variables is deprecated. Please use tf.compat.v1.global_variables instead.\n",
      "\n",
      "Train on 84917 samples, validate on 28306 samples\n",
      "Epoch 1/25\n",
      "84917/84917 [==============================] - 89s 1ms/step - loss: 1.5825 - top_1_categorical_accuracy: 0.5362 - top_2_categorical_accuracy: 0.6999 - top_3_categorical_accuracy: 0.7776 - val_loss: 1.3890 - val_top_1_categorical_accuracy: 0.5958 - val_top_2_categorical_accuracy: 0.7520 - val_top_3_categorical_accuracy: 0.8247\n",
      "Epoch 2/25\n",
      "84917/84917 [==============================] - 95s 1ms/step - loss: 1.2203 - top_1_categorical_accuracy: 0.6327 - top_2_categorical_accuracy: 0.7874 - top_3_categorical_accuracy: 0.8541 - val_loss: 1.1831 - val_top_1_categorical_accuracy: 0.6475 - val_top_2_categorical_accuracy: 0.7980 - val_top_3_categorical_accuracy: 0.8625\n",
      "Epoch 3/25\n",
      "84917/84917 [==============================] - 91s 1ms/step - loss: 1.0661 - top_1_categorical_accuracy: 0.6730 - top_2_categorical_accuracy: 0.8232 - top_3_categorical_accuracy: 0.8825 - val_loss: 1.0914 - val_top_1_categorical_accuracy: 0.6746 - val_top_2_categorical_accuracy: 0.8148 - val_top_3_categorical_accuracy: 0.8781\n",
      "Epoch 4/25\n",
      "84917/84917 [==============================] - 91s 1ms/step - loss: 0.9611 - top_1_categorical_accuracy: 0.7023 - top_2_categorical_accuracy: 0.8458 - top_3_categorical_accuracy: 0.8987 - val_loss: 1.0426 - val_top_1_categorical_accuracy: 0.6858 - val_top_2_categorical_accuracy: 0.8318 - val_top_3_categorical_accuracy: 0.8841\n",
      "Epoch 5/25\n",
      "84917/84917 [==============================] - 92s 1ms/step - loss: 0.8837 - top_1_categorical_accuracy: 0.7251 - top_2_categorical_accuracy: 0.8617 - top_3_categorical_accuracy: 0.9127 - val_loss: 0.9689 - val_top_1_categorical_accuracy: 0.7128 - val_top_2_categorical_accuracy: 0.8455 - val_top_3_categorical_accuracy: 0.8976\n",
      "Epoch 6/25\n",
      "84917/84917 [==============================] - 91s 1ms/step - loss: 0.8284 - top_1_categorical_accuracy: 0.7389 - top_2_categorical_accuracy: 0.8729 - top_3_categorical_accuracy: 0.9215 - val_loss: 0.9135 - val_top_1_categorical_accuracy: 0.7282 - val_top_2_categorical_accuracy: 0.8597 - val_top_3_categorical_accuracy: 0.9078\n",
      "Epoch 7/25\n",
      "84917/84917 [==============================] - 92s 1ms/step - loss: 0.7692 - top_1_categorical_accuracy: 0.7545 - top_2_categorical_accuracy: 0.8856 - top_3_categorical_accuracy: 0.9301 - val_loss: 0.9039 - val_top_1_categorical_accuracy: 0.7360 - val_top_2_categorical_accuracy: 0.8613 - val_top_3_categorical_accuracy: 0.9097\n",
      "Epoch 8/25\n",
      "84917/84917 [==============================] - 90s 1ms/step - loss: 0.7229 - top_1_categorical_accuracy: 0.7681 - top_2_categorical_accuracy: 0.8943 - top_3_categorical_accuracy: 0.9371 - val_loss: 0.8649 - val_top_1_categorical_accuracy: 0.7449 - val_top_2_categorical_accuracy: 0.8732 - val_top_3_categorical_accuracy: 0.9174\n",
      "Epoch 9/25\n",
      "84917/84917 [==============================] - 90s 1ms/step - loss: 0.6837 - top_1_categorical_accuracy: 0.7768 - top_2_categorical_accuracy: 0.9032 - top_3_categorical_accuracy: 0.9443 - val_loss: 0.8586 - val_top_1_categorical_accuracy: 0.7538 - val_top_2_categorical_accuracy: 0.8780 - val_top_3_categorical_accuracy: 0.9202\n",
      "Epoch 10/25\n",
      "84917/84917 [==============================] - 99s 1ms/step - loss: 0.6513 - top_1_categorical_accuracy: 0.7857 - top_2_categorical_accuracy: 0.9101 - top_3_categorical_accuracy: 0.9486 - val_loss: 0.8417 - val_top_1_categorical_accuracy: 0.7599 - val_top_2_categorical_accuracy: 0.8805 - val_top_3_categorical_accuracy: 0.9211\n",
      "Epoch 11/25\n",
      "84917/84917 [==============================] - 98s 1ms/step - loss: 0.6195 - top_1_categorical_accuracy: 0.7944 - top_2_categorical_accuracy: 0.9158 - top_3_categorical_accuracy: 0.9537 - val_loss: 0.8151 - val_top_1_categorical_accuracy: 0.7647 - val_top_2_categorical_accuracy: 0.8812 - val_top_3_categorical_accuracy: 0.9232\n",
      "Epoch 12/25\n",
      "84917/84917 [==============================] - 91s 1ms/step - loss: 0.5889 - top_1_categorical_accuracy: 0.8034 - top_2_categorical_accuracy: 0.9219 - top_3_categorical_accuracy: 0.9577 - val_loss: 0.8048 - val_top_1_categorical_accuracy: 0.7718 - val_top_2_categorical_accuracy: 0.8897 - val_top_3_categorical_accuracy: 0.9283\n",
      "Epoch 13/25\n",
      "84917/84917 [==============================] - 90s 1ms/step - loss: 0.5635 - top_1_categorical_accuracy: 0.8104 - top_2_categorical_accuracy: 0.9275 - top_3_categorical_accuracy: 0.9620 - val_loss: 0.8176 - val_top_1_categorical_accuracy: 0.7723 - val_top_2_categorical_accuracy: 0.8884 - val_top_3_categorical_accuracy: 0.9257\n",
      "Epoch 14/25\n",
      "84917/84917 [==============================] - 92s 1ms/step - loss: 0.5421 - top_1_categorical_accuracy: 0.8153 - top_2_categorical_accuracy: 0.9317 - top_3_categorical_accuracy: 0.9647 - val_loss: 0.8336 - val_top_1_categorical_accuracy: 0.7742 - val_top_2_categorical_accuracy: 0.8881 - val_top_3_categorical_accuracy: 0.9262\n",
      "Epoch 15/25\n",
      "84917/84917 [==============================] - 92s 1ms/step - loss: 0.5247 - top_1_categorical_accuracy: 0.8207 - top_2_categorical_accuracy: 0.9339 - top_3_categorical_accuracy: 0.9664 - val_loss: 0.7949 - val_top_1_categorical_accuracy: 0.7786 - val_top_2_categorical_accuracy: 0.8933 - val_top_3_categorical_accuracy: 0.9299\n",
      "Epoch 16/25\n",
      "84917/84917 [==============================] - 94s 1ms/step - loss: 0.5069 - top_1_categorical_accuracy: 0.8250 - top_2_categorical_accuracy: 0.9384 - top_3_categorical_accuracy: 0.9696 - val_loss: 0.8373 - val_top_1_categorical_accuracy: 0.7776 - val_top_2_categorical_accuracy: 0.8939 - val_top_3_categorical_accuracy: 0.9296\n",
      "Epoch 17/25\n",
      "84917/84917 [==============================] - 92s 1ms/step - loss: 0.4913 - top_1_categorical_accuracy: 0.8290 - top_2_categorical_accuracy: 0.9418 - top_3_categorical_accuracy: 0.9715 - val_loss: 0.7914 - val_top_1_categorical_accuracy: 0.7820 - val_top_2_categorical_accuracy: 0.8952 - val_top_3_categorical_accuracy: 0.9317\n",
      "Epoch 18/25\n",
      "84917/84917 [==============================] - 91s 1ms/step - loss: 0.4710 - top_1_categorical_accuracy: 0.8359 - top_2_categorical_accuracy: 0.9453 - top_3_categorical_accuracy: 0.9742 - val_loss: 0.8145 - val_top_1_categorical_accuracy: 0.7860 - val_top_2_categorical_accuracy: 0.8953 - val_top_3_categorical_accuracy: 0.9301\n",
      "Epoch 19/25\n",
      "84917/84917 [==============================] - 90s 1ms/step - loss: 0.4591 - top_1_categorical_accuracy: 0.8379 - top_2_categorical_accuracy: 0.9470 - top_3_categorical_accuracy: 0.9752 - val_loss: 0.8271 - val_top_1_categorical_accuracy: 0.7841 - val_top_2_categorical_accuracy: 0.8968 - val_top_3_categorical_accuracy: 0.9325\n",
      "Epoch 20/25\n",
      "84917/84917 [==============================] - 91s 1ms/step - loss: 0.4451 - top_1_categorical_accuracy: 0.8428 - top_2_categorical_accuracy: 0.9503 - top_3_categorical_accuracy: 0.9774 - val_loss: 0.8349 - val_top_1_categorical_accuracy: 0.7913 - val_top_2_categorical_accuracy: 0.8990 - val_top_3_categorical_accuracy: 0.9331\n",
      "Epoch 21/25\n",
      "84917/84917 [==============================] - 93s 1ms/step - loss: 0.4337 - top_1_categorical_accuracy: 0.8456 - top_2_categorical_accuracy: 0.9518 - top_3_categorical_accuracy: 0.9787 - val_loss: 0.8565 - val_top_1_categorical_accuracy: 0.7873 - val_top_2_categorical_accuracy: 0.8983 - val_top_3_categorical_accuracy: 0.9321\n",
      "Epoch 22/25\n",
      "84917/84917 [==============================] - 88s 1ms/step - loss: 0.4226 - top_1_categorical_accuracy: 0.8495 - top_2_categorical_accuracy: 0.9548 - top_3_categorical_accuracy: 0.9804 - val_loss: 0.8425 - val_top_1_categorical_accuracy: 0.7905 - val_top_2_categorical_accuracy: 0.8970 - val_top_3_categorical_accuracy: 0.93200.8508 - top_2_categorical - ETA: 6s - loss: 0.4185 - top_1_categorica\n",
      "Epoch 23/25\n",
      "84917/84917 [==============================] - 88s 1ms/step - loss: 0.4128 - top_1_categorical_accuracy: 0.8519 - top_2_categorical_accuracy: 0.9558 - top_3_categorical_accuracy: 0.9815 - val_loss: 0.8702 - val_top_1_categorical_accuracy: 0.7918 - val_top_2_categorical_accuracy: 0.8999 - val_top_3_categorical_accuracy: 0.9344\n",
      "Epoch 24/25\n",
      "84917/84917 [==============================] - 90s 1ms/step - loss: 0.3980 - top_1_categorical_accuracy: 0.8552 - top_2_categorical_accuracy: 0.9585 - top_3_categorical_accuracy: 0.9828 - val_loss: 0.8597 - val_top_1_categorical_accuracy: 0.7936 - val_top_2_categorical_accuracy: 0.9011 - val_top_3_categorical_accuracy: 0.9344\n",
      "Epoch 25/25\n",
      "84917/84917 [==============================] - 93s 1ms/step - loss: 0.3930 - top_1_categorical_accuracy: 0.8579 - top_2_categorical_accuracy: 0.9602 - top_3_categorical_accuracy: 0.9838 - val_loss: 0.8865 - val_top_1_categorical_accuracy: 0.7947 - val_top_2_categorical_accuracy: 0.8991 - val_top_3_categorical_accuracy: 0.9347\n"
     ]
    }
   ],
   "source": [
    "hist = model.fit(input_list_train,y_train,validation_data=(input_list_test,y_test) , epochs =  25, batch_size = 64, verbose= 1)"
   ]
  },
  {
   "cell_type": "code",
   "execution_count": null,
   "metadata": {
    "ExecuteTime": {
     "end_time": "2019-05-29T10:35:41.668398Z",
     "start_time": "2019-05-29T10:35:41.518798Z"
    },
    "colab": {},
    "colab_type": "code",
    "id": "6g_T791_4vvN",
    "outputId": "dbf2d852-d7ea-41dc-f06d-a6809a916856"
   },
   "outputs": [
    {
     "name": "stdout",
     "output_type": "stream",
     "text": [
      "100/100 [==============================] - 0s 1ms/step\n"
     ]
    },
    {
     "data": {
      "text/plain": [
       "[0.7639038562774658, 0.77, 0.9, 0.95]"
      ]
     },
     "execution_count": 83,
     "metadata": {
      "tags": []
     },
     "output_type": "execute_result"
    }
   ],
   "source": [
    "model.evaluate(x = input_list_testval, y = y_val)"
   ]
  },
  {
   "cell_type": "code",
   "execution_count": null,
   "metadata": {
    "ExecuteTime": {
     "end_time": "2019-04-24T14:51:28.498386Z",
     "start_time": "2019-04-24T14:51:28.351524Z"
    },
    "colab": {},
    "colab_type": "code",
    "id": "1JJH3Qi14vvP"
   },
   "outputs": [],
   "source": [
    "plt.plot(hist.history['loss'], label = 'loss') \n",
    "plt.plot(hist.history['val_loss'], label = 'val_loss') \n",
    "plt.legend()\n",
    "plt.show()\n",
    "\n",
    "\n",
    "plt.plot(hist.history['categorical_accuracy'], label = 'acc') \n",
    "plt.plot(hist.history['val_categorical_accuracy'], label = 'val_acc') \n",
    "plt.legend()\n",
    "plt.show()"
   ]
  }
 ],
 "metadata": {
  "colab": {
   "collapsed_sections": [],
   "name": "Categorical embedding.ipynb",
   "provenance": [],
   "toc_visible": true
  },
  "kernelspec": {
   "display_name": "Python 3",
   "language": "python",
   "name": "python3"
  },
  "language_info": {
   "codemirror_mode": {
    "name": "ipython",
    "version": 3
   },
   "file_extension": ".py",
   "mimetype": "text/x-python",
   "name": "python",
   "nbconvert_exporter": "python",
   "pygments_lexer": "ipython3",
   "version": "3.6.8"
  },
  "toc": {
   "base_numbering": 1,
   "nav_menu": {},
   "number_sections": true,
   "sideBar": true,
   "skip_h1_title": false,
   "title_cell": "Table of Contents",
   "title_sidebar": "Contents",
   "toc_cell": false,
   "toc_position": {},
   "toc_section_display": true,
   "toc_window_display": false
  }
 },
 "nbformat": 4,
 "nbformat_minor": 1
}
